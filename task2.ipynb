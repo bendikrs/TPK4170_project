{
 "cells": [
  {
   "cell_type": "code",
   "execution_count": 1,
   "metadata": {},
   "outputs": [],
   "source": [
    "from tpk4170.visualization import Ur5Visualizer\n",
    "from dataclasses import dataclass\n",
    "import modern_robotics as mr\n",
    "import numpy as np\n",
    "from src.kr6 import KR6\n",
    "from tpk4170.visualization import Viewer\n",
    "from tpk4170.models import Grid, Axes\n",
    "from src.dh import DHFrame\n",
    "\n",
    "np.set_printoptions(suppress=True)\n",
    "\n",
    "PI_HALF = np.pi / 2\n",
    "PI = np.pi\n"
   ]
  },
  {
   "cell_type": "code",
   "execution_count": 10,
   "metadata": {},
   "outputs": [
    {
     "name": "stdout",
     "output_type": "stream",
     "text": [
      "True\n",
      "[[-0.46193977 -0.19134172 -0.8660254  -0.51428203]\n",
      " [-0.83635641  0.4189367   0.35355339  0.02828427]\n",
      " [ 0.29516031  0.88762627 -0.35355339  0.86171573]\n",
      " [ 0.          0.          0.          1.        ]]\n",
      "[[-0.46193977 -0.19134172 -0.8660254  -0.51428203]\n",
      " [-0.83635641  0.4189367   0.35355339  0.02828427]\n",
      " [ 0.29516031  0.88762627 -0.35355339  0.86171573]\n",
      " [ 0.          0.          0.          1.        ]]\n"
     ]
    }
   ],
   "source": [
    "config1 = np.array([0,0,0,0,0,0])\n",
    "config2 = np.array([0,-PI_HALF,PI_HALF,0,0,0])\n",
    "config3 = np.array([PI,-PI_HALF,PI_HALF,np.pi/4,np.pi/6,np.pi/8])\n",
    "\n",
    "\n",
    "kr6_1 = KR6(config1)\n",
    "print(np.allclose(kr6_1.Tsb_dh, kr6_1.Tsb_poe, 0.0001))\n",
    "\n",
    "kr6 = KR6(config3)\n",
    "print(kr6.Tsb_dh)\n",
    "print(kr6.Tsb_poe)"
   ]
  },
  {
   "cell_type": "code",
   "execution_count": 3,
   "metadata": {},
   "outputs": [
    {
     "data": {
      "application/vnd.jupyter.widget-view+json": {
       "model_id": "79bbd2b494604bd5a659958712a6e8da",
       "version_major": 2,
       "version_minor": 0
      },
      "text/plain": [
       "Renderer(camera=PerspectiveCamera(aspect=1.5, children=(DirectionalLight(color='white', intensity=0.66, positi…"
      ]
     },
     "metadata": {},
     "output_type": "display_data"
    }
   ],
   "source": [
    "viewer = Viewer(background=\"white\")\n",
    "viewer.add(Grid())\n",
    "\n",
    "viewer.add(Axes(0.1))\n",
    "kr6.add_FK_to_viewer(viewer)"
   ]
  }
 ],
 "metadata": {
  "interpreter": {
   "hash": "1b659ad3131cfdfa183ee9e2521f5efe4466c1598f55787903416942c956bfb3"
  },
  "kernelspec": {
   "display_name": "Python 3.8.11 64-bit ('TPK4170': conda)",
   "name": "python3"
  },
  "language_info": {
   "codemirror_mode": {
    "name": "ipython",
    "version": 3
   },
   "file_extension": ".py",
   "mimetype": "text/x-python",
   "name": "python",
   "nbconvert_exporter": "python",
   "pygments_lexer": "ipython3",
   "version": "3.8.11"
  }
 },
 "nbformat": 4,
 "nbformat_minor": 2
}
