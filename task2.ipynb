{
 "cells": [
  {
   "cell_type": "code",
   "execution_count": 1,
   "metadata": {},
   "outputs": [],
   "source": [
    "from tpk4170.visualization import Ur5Visualizer\n",
    "from dataclasses import dataclass\n",
    "import modern_robotics as mr\n",
    "import numpy as np\n",
    "from src.kr6 import KR6\n",
    "from tpk4170.visualization import Viewer\n",
    "from tpk4170.models import Grid, Axes\n",
    "from src.dh import DHFrame\n",
    "\n",
    "np.set_printoptions(suppress=True)\n",
    "\n",
    "PI_HALF = np.pi / 2\n",
    "PI = np.pi\n"
   ]
  },
  {
   "cell_type": "code",
   "execution_count": 2,
   "metadata": {},
   "outputs": [
    {
     "name": "stdout",
     "output_type": "stream",
     "text": [
      "True\n",
      "[[ 0.    -0.     1.     0.525]\n",
      " [ 0.    -1.    -0.     0.   ]\n",
      " [ 1.     0.    -0.     0.89 ]\n",
      " [ 0.     0.     0.     1.   ]]\n",
      "[[ 0.     0.     1.     0.525]\n",
      " [ 0.    -1.     0.     0.   ]\n",
      " [ 1.     0.     0.     0.89 ]\n",
      " [ 0.     0.     0.     1.   ]]\n"
     ]
    }
   ],
   "source": [
    "config1 = np.array([0,0,0,0,0,0])\n",
    "config2 = np.array([0,-PI_HALF,PI_HALF,0,0,0])\n",
    "config3 = np.array([PI,-PI_HALF,PI_HALF,np.pi/4,np.pi/6,np.pi/8])\n",
    "\n",
    "\n",
    "kr6_1 = KR6(config1)\n",
    "print(np.allclose(kr6_1.Tsb_dh, kr6_1.Tsb_poe, 0.0001))\n",
    "\n",
    "kr6 = KR6(config2)\n",
    "print(kr6.Tsb_dh)\n",
    "print(kr6.Tsb_poe)"
   ]
  },
  {
   "cell_type": "code",
   "execution_count": 3,
   "metadata": {},
   "outputs": [
    {
     "name": "stderr",
     "output_type": "stream",
     "text": [
      "C:\\Users\\Simen\\.conda\\envs\\tpk4170_project\\lib\\site-packages\\jupyter_client\\session.py:716: UserWarning: Message serialization failed with:\n",
      "Out of range float values are not JSON compliant\n",
      "Supporting this message is deprecated in jupyter-client 7, please make sure your message is JSON-compliant\n",
      "  content = self.pack(content)\n"
     ]
    },
    {
     "data": {
      "application/vnd.jupyter.widget-view+json": {
       "model_id": "d7430fca680f4814a8e6018f2b6d6b97",
       "version_major": 2,
       "version_minor": 0
      },
      "text/plain": [
       "Renderer(camera=PerspectiveCamera(aspect=1.5, children=(DirectionalLight(color='white', intensity=0.66, positi…"
      ]
     },
     "metadata": {},
     "output_type": "display_data"
    }
   ],
   "source": [
    "viewer = Viewer(background=\"white\")\n",
    "viewer.add(Grid())\n",
    "\n",
    "viewer.add(Axes(0.1))\n",
    "kr6.add_FK_to_viewer(viewer)"
   ]
  }
 ],
 "metadata": {
  "interpreter": {
   "hash": "1b659ad3131cfdfa183ee9e2521f5efe4466c1598f55787903416942c956bfb3"
  },
  "kernelspec": {
   "display_name": "Python 3.8.11 64-bit ('TPK4170': conda)",
   "name": "python3"
  },
  "language_info": {
   "codemirror_mode": {
    "name": "ipython",
    "version": 3
   },
   "file_extension": ".py",
   "mimetype": "text/x-python",
   "name": "python",
   "nbconvert_exporter": "python",
   "pygments_lexer": "ipython3",
   "version": "3.8.12"
  }
 },
 "nbformat": 4,
 "nbformat_minor": 2
}
