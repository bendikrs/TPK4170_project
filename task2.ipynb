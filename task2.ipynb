{
 "cells": [
  {
   "cell_type": "code",
   "execution_count": 14,
   "metadata": {},
   "outputs": [],
   "source": [
    "from tpk4170.visualization import Ur5Visualizer\n",
    "from dataclasses import dataclass\n",
    "import modern_robotics as mr\n",
    "import numpy as np\n",
    "from src.kr6 import KR6\n",
    "from tpk4170.visualization import Viewer\n",
    "from tpk4170.models import Grid, Axes\n",
    "from src.dh import DHFrame\n",
    "\n",
    "np.set_printoptions(suppress=True)\n",
    "\n",
    "PI_HALF = np.pi / 2\n",
    "PI = np.pi\n"
   ]
  },
  {
   "cell_type": "code",
   "execution_count": 15,
   "metadata": {},
   "outputs": [
    {
     "name": "stdout",
     "output_type": "stream",
     "text": [
      "True\n",
      "[[ 0.    -0.     1.     0.525]\n",
      " [ 0.    -1.    -0.     0.   ]\n",
      " [ 1.     0.    -0.     0.89 ]\n",
      " [ 0.     0.     0.     1.   ]]\n",
      "[[ 0.     0.     1.     0.525]\n",
      " [ 0.    -1.     0.     0.   ]\n",
      " [ 1.     0.     0.     0.89 ]\n",
      " [ 0.     0.     0.     1.   ]]\n"
     ]
    },
    {
     "name": "stderr",
     "output_type": "stream",
     "text": [
      "c:\\Users\\Bendik\\Documents\\Git\\TPK4170_project\\src\\tools.py:177: RuntimeWarning: invalid value encountered in sqrt\n",
      "  s3_pos = np.sqrt(1-c3**2)\n",
      "c:\\Users\\Bendik\\Documents\\Git\\TPK4170_project\\src\\tools.py:178: RuntimeWarning: invalid value encountered in sqrt\n",
      "  s3_neg = -np.sqrt(1-c3**2)\n"
     ]
    }
   ],
   "source": [
    "config1 = np.array([0,0,0,0,0,0])\n",
    "config2 = np.array([0,-PI_HALF,PI_HALF,0,0,0])\n",
    "config3 = np.array([PI,-PI_HALF,PI_HALF,np.pi/4,np.pi/6,np.pi/8])\n",
    "\n",
    "\n",
    "kr6_1 = KR6(config1)\n",
    "print(np.allclose(kr6_1.Tsb_dh, kr6_1.Tsb_poe, 0.0001))\n",
    "\n",
    "kr6 = KR6(config2)\n",
    "print(kr6.Tsb_dh)\n",
    "print(kr6.Tsb_poe)"
   ]
  },
  {
   "cell_type": "code",
   "execution_count": 16,
   "metadata": {},
   "outputs": [
    {
     "name": "stderr",
     "output_type": "stream",
     "text": [
      "C:\\Users\\Bendik\\.conda\\envs\\tpk4170\\lib\\site-packages\\jupyter_client\\session.py:716: UserWarning: Message serialization failed with:\n",
      "Out of range float values are not JSON compliant\n",
      "Supporting this message is deprecated in jupyter-client 7, please make sure your message is JSON-compliant\n",
      "  content = self.pack(content)\n"
     ]
    },
    {
     "data": {
      "application/vnd.jupyter.widget-view+json": {
       "model_id": "8de2a1e9f245446ca436c2a69a7f13f2",
       "version_major": 2,
       "version_minor": 0
      },
      "text/plain": [
       "Renderer(camera=PerspectiveCamera(aspect=1.5, children=(DirectionalLight(color='white', intensity=0.66, positi…"
      ]
     },
     "metadata": {},
     "output_type": "display_data"
    }
   ],
   "source": [
    "viewer = Viewer(background=\"white\")\n",
    "viewer.add(Grid())\n",
    "\n",
    "viewer.add(Axes(0.1))\n",
    "kr6.add_FK_to_viewer(viewer)"
   ]
  }
 ],
 "metadata": {
  "interpreter": {
   "hash": "1b659ad3131cfdfa183ee9e2521f5efe4466c1598f55787903416942c956bfb3"
  },
  "kernelspec": {
   "display_name": "Python 3.8.11 64-bit ('TPK4170': conda)",
   "name": "python3"
  },
  "language_info": {
   "codemirror_mode": {
    "name": "ipython",
    "version": 3
   },
   "file_extension": ".py",
   "mimetype": "text/x-python",
   "name": "python",
   "nbconvert_exporter": "python",
   "pygments_lexer": "ipython3",
   "version": "3.8.12"
  }
 },
 "nbformat": 4,
 "nbformat_minor": 2
}
