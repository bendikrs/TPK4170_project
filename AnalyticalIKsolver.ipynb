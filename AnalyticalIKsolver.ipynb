{
 "cells": [
  {
   "cell_type": "code",
   "execution_count": 1160,
   "metadata": {},
   "outputs": [],
   "source": [
    "from src.kr6 import KR6\n",
    "import modern_robotics as mr\n",
    "import numpy as np\n",
    "from tpk4170.visualization import Viewer\n",
    "from tpk4170.models import Grid, Axes\n",
    "from src.dh import DHFrame\n",
    "import src.tools as tools\n",
    "import sympy as sp"
   ]
  },
  {
   "cell_type": "code",
   "execution_count": 1161,
   "metadata": {},
   "outputs": [],
   "source": [
    "r1,r2,r3,r4,a1,a2 = 0.4, 0.455, 0.420, 0.08, 0.025, 0.035\n",
    "r3_o = np.sqrt(r3**2 + a2**2) # the distance between joint 3 and the wrist\n",
    "Slist = np.array([[0,0,-1,0,0,0],\n",
    "                  [0,1,0,-r1,0,a1],\n",
    "                  [0,1,0,-r1,0,(r2+a1)],\n",
    "                  [-1,0,0,0,-(r1+a2),0],\n",
    "                  [0,1,0,-(r1+a2),0,(r2+r3+a1)],\n",
    "                  [-1,0,0,0,-(r1+a2),0]]).T\n",
    "\n",
    "M = np.array([[0,0,1,r2+r3+r4+a1],\n",
    "              [0,1,0,0],\n",
    "              [-1,0,0,r1+a2],\n",
    "              [0,0,0,1]])"
   ]
  },
  {
   "cell_type": "code",
   "execution_count": 1162,
   "metadata": {},
   "outputs": [
    {
     "name": "stdout",
     "output_type": "stream",
     "text": [
      "[[ 0.8080127  -0.53349365  0.25        0.02      ]\n",
      " [-0.4330127  -0.25        0.8660254   0.51428203]\n",
      " [-0.39951905 -0.8080127  -0.4330127   0.85535898]\n",
      " [ 0.          0.          0.          1.        ]]\n",
      "[[ 0.81 -0.53  0.25  0.  ]\n",
      " [-0.43 -0.25  0.87  0.45]\n",
      " [-0.4  -0.81 -0.43  0.89]\n",
      " [ 0.    0.    0.    1.  ]]\n"
     ]
    }
   ],
   "source": [
    "\n",
    "thetalist = np.array([33,-63,-34,15,33,33])*np.pi/180\n",
    "thetalist = np.array([-90,-90  ,90,30,30,30])*np.pi/180 #Write the thetas to make a \n",
    "                                                        #transformationmatrix T_SB to\n",
    "                                                        #test the analytical solver\n",
    "\n",
    "T = mr.FKinSpace(M,Slist,thetalist)\n",
    "\n",
    "print(T)\n",
    "\n",
    "#Get position of the wrist\n",
    "\n",
    "\n",
    "T_SB = T\n",
    "\n",
    "#Translate -80mm along z-axis of endframe\n",
    "\n",
    "T_BW = np.array([[1,0,0,0],\n",
    "                 [0,1,0,0],\n",
    "                 [0,0,1,-0.08],\n",
    "                 [0,0,0,1]])\n",
    "\n",
    "T_SW = np.dot(T_SB,T_BW)\n",
    "print(T_SW.round(2))\n",
    "\n",
    "\n",
    "pw = np.array([T_SW[0][3],T_SW[1][3],T_SW[2][3]])\n",
    "theta11 = -np.arctan2(pw[1],pw[0])\n",
    "theta12 = -np.arctan2(-pw[1],-pw[0])\n",
    "\n",
    "\n"
   ]
  },
  {
   "cell_type": "code",
   "execution_count": 1163,
   "metadata": {},
   "outputs": [],
   "source": [
    "#Forward\n",
    "\n",
    "Px, Py, Pz =pw[0] - np.cos(theta11) * a1, \\\n",
    "            pw[1] + np.sin(theta11) * a1, \\\n",
    "            pw[2] - r1\n",
    "\n",
    "\n",
    "c3 = (Px**2 + Py**2 + Pz**2 - r2**2 - r3_o**2) / (2 * r2 * r3_o)\n",
    "\n",
    "s3p = np.sqrt(1-c3**2)\n",
    "s3n = -s3p\n",
    "\n",
    "theta31 = np.arctan2(s3p,c3) + np.arctan2(a2,r3)\n",
    "theta32 = np.arctan2(s3n,c3) + np.arctan2(a2,r3)\n",
    "\n",
    "c2pp = (r2 + r3_o * c3) * np.sqrt(Px**2 + Py**2) + r3_o * s3p * Pz\n",
    "c2np = -(r2 + r3_o * c3) * np.sqrt(Px**2 + Py**2) + r3_o * s3p * Pz\n",
    "c2pn = (r2 + r3_o * c3) * np.sqrt(Px**2 + Py**2) + r3_o * s3n * Pz\n",
    "c2nn = -(r2 + r3_o * c3) * np.sqrt(Px**2 + Py**2) + r3_o * s3n * Pz\n",
    "\n",
    "s2np = (r2 + r3_o*c3) * Pz - r3_o * s3p * np.sqrt(Px**2 + Py**2)\n",
    "s2pp = (r2 + r3_o*c3) * Pz + r3_o * s3p * np.sqrt(Px**2 + Py**2)\n",
    "s2nn = (r2 + r3_o*c3) * Pz - r3_o * s3n * np.sqrt(Px**2 + Py**2)\n",
    "s2pn = (r2 + r3_o*c3) * Pz + r3_o * s3n * np.sqrt(Px**2 + Py**2)\n",
    "\n",
    "theta21 = np.arctan2(s2np,c2pp) \n",
    "# theta22 = np.arctan2(s2pp,c2np)\n",
    "theta23 = np.arctan2(s2nn,c2pn) \n",
    "# theta24 = np.arctan2(s2pn,c2nn) "
   ]
  },
  {
   "cell_type": "code",
   "execution_count": 1164,
   "metadata": {},
   "outputs": [
    {
     "data": {
      "text/plain": [
       "array([[ -90.        ,  -90.        ,   90.        ],\n",
       "       [ -90.        ,   -8.79741071,  -80.47271662],\n",
       "       [  90.        , -171.27348812,   83.28079896],\n",
       "       [  90.        ,  -96.33953303,  -73.75351558]])"
      ]
     },
     "execution_count": 1164,
     "metadata": {},
     "output_type": "execute_result"
    }
   ],
   "source": [
    "#Backward\n",
    "Px, Py, Pz =pw[0] - np.cos(theta12) * a1, \\\n",
    "            pw[1] + np.sin(theta12) * a1, \\\n",
    "            pw[2] - r1\n",
    "\n",
    "c3 = (Px**2 + Py**2 + Pz**2 - r2**2 - r3_o**2) / (2 * r2 * r3_o)\n",
    "\n",
    "s3p = np.sqrt(1-c3**2)\n",
    "s3n = -s3p\n",
    "\n",
    "theta33 = np.arctan2(s3p,c3) + np.arctan2(a2,r3)\n",
    "theta34 = np.arctan2(s3n,c3) + np.arctan2(a2,r3)\n",
    "\n",
    "c2pp = (r2 + r3_o * c3) * np.sqrt(Px**2 + Py**2) + r3_o * s3p * Pz\n",
    "c2np = -(r2 + r3_o * c3) * np.sqrt(Px**2 + Py**2) + r3_o * s3p * Pz\n",
    "c2pn = (r2 + r3_o * c3) * np.sqrt(Px**2 + Py**2) + r3_o * s3n * Pz\n",
    "c2nn = -(r2 + r3_o * c3) * np.sqrt(Px**2 + Py**2) + r3_o * s3n * Pz\n",
    "\n",
    "s2np = (r2 + r3_o*c3) * Pz - r3_o * s3p * np.sqrt(Px**2 + Py**2)\n",
    "s2pp = (r2 + r3_o*c3) * Pz + r3_o * s3p * np.sqrt(Px**2 + Py**2)\n",
    "s2nn = (r2 + r3_o*c3) * Pz - r3_o * s3n * np.sqrt(Px**2 + Py**2)\n",
    "s2pn = (r2 + r3_o*c3) * Pz + r3_o * s3n * np.sqrt(Px**2 + Py**2)\n",
    "\n",
    "# theta21 = np.arctan2(s2np,c2pp) \n",
    "theta22 = np.arctan2(s2pp,c2np)\n",
    "# theta23 = np.arctan2(s2nn,c2pn) \n",
    "theta24 = np.arctan2(s2pn,c2nn) \n",
    "\n",
    "\n",
    "\n",
    "\n",
    "config = np.array([[theta11, -theta23, theta31], # forward over elbow\n",
    "                  [theta11,-theta21, theta32], # forward under elbow\n",
    "                  [theta12, -theta24, theta33], # backward under elbow\n",
    "                  [theta12, -theta22, theta34]]) # backward over elbow\n",
    "config*180/np.pi"
   ]
  },
  {
   "cell_type": "markdown",
   "metadata": {},
   "source": [
    "Thinking of the wrist as a -ZY-Z Euler config"
   ]
  },
  {
   "cell_type": "code",
   "execution_count": 1165,
   "metadata": {},
   "outputs": [
    {
     "data": {
      "text/plain": [
       "array([[ 0.8080127 , -0.53349365,  0.25      ],\n",
       "       [-0.4330127 , -0.25      ,  0.8660254 ],\n",
       "       [-0.39951905, -0.8080127 , -0.4330127 ]])"
      ]
     },
     "execution_count": 1165,
     "metadata": {},
     "output_type": "execute_result"
    }
   ],
   "source": [
    "theta = config[2]\n",
    "t1,t2,t3 = theta[0],theta[1],theta[2]\n",
    "R_S3 = tools.rotz(-t1) @ tools.roty(t1) @ tools.roty(t2)\n",
    "\n",
    "R_S3\n",
    "\n",
    "R_SB = T_SB[:3,:3]\n",
    "\n",
    "R_SB\n",
    "\n",
    "R_3B = np.linalg.inv(R_S3) @ R_SB\n",
    "\n",
    "R_SB"
   ]
  },
  {
   "cell_type": "code",
   "execution_count": 1166,
   "metadata": {},
   "outputs": [
    {
     "data": {
      "text/plain": [
       "-142.88806399347678"
      ]
     },
     "execution_count": 1166,
     "metadata": {},
     "output_type": "execute_result"
    }
   ],
   "source": [
    "theta61 = np.arctan2(-R_3B[2,1],-R_3B[2,0])\n",
    "theta62 = np.arctan2(R_3B[2,1],R_3B[2,0])\n",
    "\n",
    "theta62 * 180/np.pi\n"
   ]
  },
  {
   "cell_type": "code",
   "execution_count": 1167,
   "metadata": {},
   "outputs": [
    {
     "data": {
      "text/plain": [
       "24.08053132624663"
      ]
     },
     "execution_count": 1167,
     "metadata": {},
     "output_type": "execute_result"
    }
   ],
   "source": [
    "theta41 = np.arctan2(-R_3B[1,2],R_3B[0,2])\n",
    "theta42 = np.arctan2(R_3B[1,2],-R_3B[0,2])\n",
    "\n",
    "theta42*180/np.pi"
   ]
  },
  {
   "cell_type": "code",
   "execution_count": 1168,
   "metadata": {},
   "outputs": [
    {
     "data": {
      "text/plain": [
       "-37.786051075927915"
      ]
     },
     "execution_count": 1168,
     "metadata": {},
     "output_type": "execute_result"
    }
   ],
   "source": [
    "theta51 = np.arctan2(np.sqrt(R_3B[2,1]**2 + R_3B[2,0]**2), R_3B[2,2])\n",
    "theta51 = np.arctan2(np.sqrt(1-R_3B[2,2]**2), R_3B[2,2])\n",
    "\n",
    "theta52 = np.arctan2(-np.sqrt(R_3B[2,1]**2 + R_3B[2,0]**2), R_3B[2,2])\n",
    "theta52 = np.arctan2(-np.sqrt(1-R_3B[2,2]**2), R_3B[2,2])\n",
    "\n",
    "theta52*180/np.pi"
   ]
  },
  {
   "cell_type": "code",
   "execution_count": 1169,
   "metadata": {},
   "outputs": [],
   "source": [
    "# for i in config[:1,:]:\n",
    "for i in config:\n",
    "    theta = i\n",
    "    t1,t2,t3 = theta[0],theta[1],theta[2]\n",
    "    R_S3 = tools.rotz(-t1) @ tools.roty(t2) @ tools.roty(t3)\n",
    "\n",
    "    R_SB = T_SB[:3,:3]\n",
    "\n",
    "    R_3B = R_S3.T @ R_SB\n",
    "\n",
    "    theta61 = np.arctan2(R_3B[2,1],-R_3B[2,0])\n",
    "    theta62 = np.arctan2(-R_3B[2,1],R_3B[2,0])\n",
    "\n",
    "    theta51 = np.arctan2(np.sqrt(1-R_3B[2,2]**2), R_3B[2,2])\n",
    "    theta52 = np.arctan2(-np.sqrt(1-R_3B[2,2]**2), R_3B[2,2])\n",
    "\n",
    "    # theta51 = np.arccos(R_3B[2,2])\n",
    "    # theta52 = -np.arccos(R_3B[2,2])\n",
    "    \n",
    "    theta41 = np.arctan2(R_3B[1,2],R_3B[0,2])\n",
    "    theta42 = np.arctan2(-R_3B[1,2],-R_3B[0,2])\n",
    "\n",
    "    thetalist = np.concatenate((i,np.array([theta41,theta51,theta61])))\n",
    "    thetalist2 = np.concatenate((i,np.array([theta42,theta52,theta62])))\n",
    "    # print((thetalist*180/np.pi).round(2))\n",
    "    # print((thetalist2*180/np.pi).round(2))\n",
    "    # print(mr.FKinSpace(M,Slist,thetalist))\n",
    "    # print(mr.FKinSpace(M,Slist,thetalist2))\n",
    "    # print(np.isclose(T_SB,mr.FKinSpace(M,Slist,thetalist),0.01,0.01))\n",
    "    # print(np.isclose(T_SB,mr.FKinSpace(M,Slist,thetalist2),0.01,0.01))\n"
   ]
  },
  {
   "cell_type": "code",
   "execution_count": 1170,
   "metadata": {},
   "outputs": [
    {
     "data": {
      "text/plain": [
       "array([[-0.8080127 , -0.53349365, -0.25      , -0.02      ],\n",
       "       [-0.56959003,  0.8158233 ,  0.09999772,  0.45299982],\n",
       "       [ 0.15060768,  0.22319693, -0.96306825,  0.81295454],\n",
       "       [ 0.        ,  0.        ,  0.        ,  1.        ]])"
      ]
     },
     "execution_count": 1170,
     "metadata": {},
     "output_type": "execute_result"
    }
   ],
   "source": [
    "mr.FKinSpace(M,Slist,thetalist)"
   ]
  },
  {
   "cell_type": "code",
   "execution_count": 1171,
   "metadata": {},
   "outputs": [
    {
     "data": {
      "text/plain": [
       "array([[-0.8080127 , -0.53349365, -0.25      , -0.02      ],\n",
       "       [-0.56959003,  0.8158233 ,  0.09999772,  0.45299982],\n",
       "       [ 0.15060768,  0.22319693, -0.96306825,  0.81295454],\n",
       "       [ 0.        ,  0.        ,  0.        ,  1.        ]])"
      ]
     },
     "execution_count": 1171,
     "metadata": {},
     "output_type": "execute_result"
    }
   ],
   "source": [
    "mr.FKinSpace(M,Slist,thetalist2)"
   ]
  },
  {
   "cell_type": "code",
   "execution_count": 1172,
   "metadata": {},
   "outputs": [
    {
     "data": {
      "text/plain": [
       "array([[ 0.8080127 , -0.53349365,  0.25      ,  0.02      ],\n",
       "       [-0.4330127 , -0.25      ,  0.8660254 ,  0.51428203],\n",
       "       [-0.39951905, -0.8080127 , -0.4330127 ,  0.85535898],\n",
       "       [ 0.        ,  0.        ,  0.        ,  1.        ]])"
      ]
     },
     "execution_count": 1172,
     "metadata": {},
     "output_type": "execute_result"
    }
   ],
   "source": [
    "T_SB"
   ]
  },
  {
   "cell_type": "code",
   "execution_count": null,
   "metadata": {},
   "outputs": [],
   "source": []
  }
 ],
 "metadata": {
  "interpreter": {
   "hash": "f16335faa6d3b940ab5be5792e7ab57ce08bd6bc042e5eebb8b008fcab4677c2"
  },
  "kernelspec": {
   "display_name": "Python 3.8.12 64-bit ('tpk4170_venv': conda)",
   "language": "python",
   "name": "python3"
  },
  "language_info": {
   "codemirror_mode": {
    "name": "ipython",
    "version": 3
   },
   "file_extension": ".py",
   "mimetype": "text/x-python",
   "name": "python",
   "nbconvert_exporter": "python",
   "pygments_lexer": "ipython3",
   "version": "3.8.12"
  },
  "orig_nbformat": 4
 },
 "nbformat": 4,
 "nbformat_minor": 2
}
