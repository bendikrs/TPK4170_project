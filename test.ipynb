{
 "cells": [
  {
   "cell_type": "code",
   "execution_count": 1,
   "metadata": {},
   "outputs": [],
   "source": [
    "from src.kr6 import KR6\n",
    "import modern_robotics as mr\n",
    "import numpy as np\n",
    "from tpk4170.visualization import Viewer\n",
    "from tpk4170.models import Grid, Axes\n",
    "from src.dh import DHFrame\n",
    "import src.tools as tools\n",
    "import sympy as sp"
   ]
  },
  {
   "cell_type": "code",
   "execution_count": 2,
   "metadata": {},
   "outputs": [
    {
     "name": "stderr",
     "output_type": "stream",
     "text": [
      "c:\\Users\\Bendik\\Documents\\Git\\TPK4170_project\\src\\tools.py:177: RuntimeWarning: invalid value encountered in sqrt\n",
      "  s3_pos = np.sqrt(1-c3**2)\n",
      "c:\\Users\\Bendik\\Documents\\Git\\TPK4170_project\\src\\tools.py:178: RuntimeWarning: invalid value encountered in sqrt\n",
      "  s3_neg = -np.sqrt(1-c3**2)\n"
     ]
    }
   ],
   "source": [
    "kr6 = KR6()\n",
    "thetas = tools.inverseKinematicsTheta123(kr6.Tsb_poe)"
   ]
  },
  {
   "cell_type": "code",
   "execution_count": 22,
   "metadata": {},
   "outputs": [],
   "source": [
    "ths = tools.inverseKinematicsTheta456(thetalists= thetas, T_SB= kr6.Tsb_poe)"
   ]
  },
  {
   "cell_type": "code",
   "execution_count": 24,
   "metadata": {},
   "outputs": [
    {
     "data": {
      "text/plain": [
       "[array([-0.00000000e+00, -9.59148143e-16,  1.91513472e-15,  6.01232834e-02,\n",
       "         3.14159265e+00, -3.08146937e+00]),\n",
       " array([-0.00000000e+00, -7.99573742e-02,  1.66282464e-01,  7.07559796e-16,\n",
       "         3.05526756e+00, -3.14159265e+00]),\n",
       " array([3.14159265,        nan,        nan,        nan,        nan,\n",
       "               nan]),\n",
       " array([3.14159265,        nan,        nan,        nan,        nan,\n",
       "               nan])]"
      ]
     },
     "execution_count": 24,
     "metadata": {},
     "output_type": "execute_result"
    }
   ],
   "source": [
    "# ths = np.rad2deg(ths)\n",
    "# ths = np.around(ths, decimals=8)\n",
    "ths"
   ]
  }
 ],
 "metadata": {
  "interpreter": {
   "hash": "dac5994f52a285c6c57e8ca054eeba249811a086421e21f347740dfff430a8c7"
  },
  "kernelspec": {
   "display_name": "Python 3.8.12 64-bit ('tpk4170': conda)",
   "language": "python",
   "name": "python3"
  },
  "language_info": {
   "codemirror_mode": {
    "name": "ipython",
    "version": 3
   },
   "file_extension": ".py",
   "mimetype": "text/x-python",
   "name": "python",
   "nbconvert_exporter": "python",
   "pygments_lexer": "ipython3",
   "version": "3.8.12"
  },
  "orig_nbformat": 4
 },
 "nbformat": 4,
 "nbformat_minor": 2
}
