{
 "cells": [
  {
   "cell_type": "code",
   "execution_count": 3,
   "metadata": {},
   "outputs": [],
   "source": [
    "from src.kr6 import KR6\n",
    "import modern_robotics as mr\n",
    "import numpy as np\n",
    "import src.tools as tools\n",
    "import sympy as sp"
   ]
  },
  {
   "cell_type": "code",
   "execution_count": 2,
   "metadata": {},
   "outputs": [],
   "source": [
    "config1 = np.array([0,0,0,0,0,0])\n",
    "config2 = np.array([0,-np.pi/2,np.pi/2,0,0,0])\n",
    "config3 = np.array([0,0,np.pi/2,0,0,0])\n",
    "config4 = np.array([0,0,0,0,0,0])\n",
    "config5 = np.array([1,0.33,0.25,0,2,0])\n",
    "\n",
    "kr6 = KR6(config5)\n",
    "\n",
    "t1, t2, t3, t4, t5, t6 = sp.symbols(\"theta_1 theta_2 theta_3 theta_4 theta_5 theta_6\")\n",
    "\n",
    "thetas = [t1, ]\n",
    "\n",
    "Js = mr.JacobianSpace(kr6._Slist, kr6.theta)\n",
    "Js_11 = Js[:3,:3]\n",
    "Js_12 = Js[:3,3:]\n",
    "Js_21 = Js[3:,:3]\n",
    "Js_22 = Js[3:,3:]\n"
   ]
  },
  {
   "cell_type": "code",
   "execution_count": null,
   "metadata": {},
   "outputs": [],
   "source": []
  }
 ],
 "metadata": {
  "interpreter": {
   "hash": "1b659ad3131cfdfa183ee9e2521f5efe4466c1598f55787903416942c956bfb3"
  },
  "kernelspec": {
   "display_name": "Python 3.8.11 64-bit ('TPK4170': conda)",
   "name": "python3"
  },
  "language_info": {
   "codemirror_mode": {
    "name": "ipython",
    "version": 3
   },
   "file_extension": ".py",
   "mimetype": "text/x-python",
   "name": "python",
   "nbconvert_exporter": "python",
   "pygments_lexer": "ipython3",
   "version": "3.8.11"
  },
  "orig_nbformat": 4
 },
 "nbformat": 4,
 "nbformat_minor": 2
}
