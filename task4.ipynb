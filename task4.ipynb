{
 "cells": [
  {
   "cell_type": "code",
   "execution_count": 59,
   "metadata": {},
   "outputs": [],
   "source": [
    "from src.kr6 import KR6\n",
    "import modern_robotics as mr\n",
    "import numpy as np\n",
    "from src.tools import*\n",
    "import sympy as sp\n",
    "from sympy.physics.mechanics import dynamicsymbols"
   ]
  },
  {
   "cell_type": "code",
   "execution_count": 67,
   "metadata": {},
   "outputs": [],
   "source": [
    "config1 = np.array([0,0,0,0,0,0])\n",
    "config2 = np.array([0,-np.pi/2,np.pi/2,0,0,0])\n",
    "config3 = np.array([0,0,np.pi/2,0,0,0])\n",
    "config4 = np.array([0,0,0,0,0,0])\n",
    "config5 = np.array([1,0.33,0.25,0,2,0])\n",
    "\n",
    "kr6 = KR6(config1)\n",
    "\n",
    "# th1, th2, th3, th4, th5, th6 = sp.symbols(\"theta_1 theta_2 theta_3 theta_4 theta_5 theta_6\")\n",
    "# th1, th2, th3, th4, th5, th6 = dynamicsymbols(\"theta_1 theta_2 theta_3 theta_4 theta_5 theta_6\")\n",
    "th1, th2, th3, th4, th5, th6 = 0,0.33,0.25,0,2,0\n",
    "# thetas = [t1, t2, t3, t4, t5, t6]\n",
    "\n",
    "S = sp.Matrix([[ 0.   ,  0.   ,  0.   , -1.   ,  0.   , -1.   ],\n",
    "               [ 0.   ,  1.   ,  1.   ,  0.   ,  1.   ,  0.   ],\n",
    "               [-1.   ,  0.   ,  0.   ,  0.   ,  0.   ,  0.   ],\n",
    "               [ 0.   , -0.4  , -0.4  ,  0.   , -0.435,  0.   ],\n",
    "               [ 0.   ,  0.   ,  0.   , -0.435,  0.   , -0.435],\n",
    "               [ 0.   ,  0.025,  0.48 ,  0.   ,  0.9  ,  0.   ]]\n",
    ")\n",
    "\n",
    "Js1 = S[:,0]\n",
    "Js2 = Ad(exp6(S[:,0], th1)) * S[:,1]\n",
    "Js3 = Ad(exp6(S[:,0], th1) * exp6(S[:,1], th2)) * S[:,2]\n",
    "Js3.simplify()\n",
    "Js4 = Ad(exp6(S[:,0], th1) * exp6(S[:,1], th2) * exp6(S[:,2], th3)) * S[:,3]\n",
    "Js4.simplify()\n",
    "Js5 = Ad(exp6(S[:,0], th1) * exp6(S[:,1], th2) * exp6(S[:,2], th3) * exp6(S[:,4], th4)) * S[:,4]\n",
    "Js5.simplify()\n",
    "Js6 = Ad(exp6(S[:,0], th1) * exp6(S[:,1], th2) * exp6(S[:,2], th3) * exp6(S[:,4], th4) * exp6(S[:,5], th5)) * S[:,5]\n",
    "Js6.simplify()\n",
    "\n",
    "Js = sp.zeros(6,6)\n",
    "Js[:,0] = Js1\n",
    "Js[:,1] = Js2\n",
    "Js[:,2] = Js3\n",
    "Js[:,3] = Js4\n",
    "Js[:,4] = Js5\n",
    "Js[:,5] = Js6\n",
    "\n",
    "Js_11 = Js[:3,:3]\n",
    "Js_12 = Js[:3,3:]\n",
    "Js_21 = Js[3:,:3]\n",
    "Js_22 = Js[3:,3:]"
   ]
  },
  {
   "cell_type": "code",
   "execution_count": 68,
   "metadata": {},
   "outputs": [
    {
     "data": {
      "text/latex": [
       "$\\displaystyle \\left[\\begin{matrix}0.0 & 0 & 0 & -0.836462649915187 & 0 & -0.836462649915187\\\\0.0 & 1.0 & 1.0 & 0 & 1.0 & 0\\\\-1.0 & 0 & 0 & 0.548023936791874 & 0 & 0.548023936791874\\\\0.0 & -0.4 & -0.252560422080335 & 0 & -0.0516665613747795 & 0\\\\0.0 & 0 & 0 & -0.49585445984668 & 0 & -0.49585445984668 - 5.55111512312578 \\cdot 10^{-17} \\cos{\\left(2 \\right)}\\\\0.0 & 0.025 & 0.455449266305416 & 0 & 0.82594441705751 & 0\\end{matrix}\\right]$"
      ],
      "text/plain": [
       "Matrix([\n",
       "[ 0.0,     0,                  0, -0.836462649915187,                   0,                              -0.836462649915187],\n",
       "[ 0.0,   1.0,                1.0,                  0,                 1.0,                                               0],\n",
       "[-1.0,     0,                  0,  0.548023936791874,                   0,                               0.548023936791874],\n",
       "[ 0.0,  -0.4, -0.252560422080335,                  0, -0.0516665613747795,                                               0],\n",
       "[ 0.0,     0,                  0,  -0.49585445984668,                   0, -0.49585445984668 - 5.55111512312578e-17*cos(2)],\n",
       "[ 0.0, 0.025,  0.455449266305416,                  0,    0.82594441705751,                                               0]])"
      ]
     },
     "execution_count": 68,
     "metadata": {},
     "output_type": "execute_result"
    }
   ],
   "source": [
    "Js"
   ]
  },
  {
   "cell_type": "code",
   "execution_count": 65,
   "metadata": {},
   "outputs": [
    {
     "data": {
      "text/latex": [
       "$\\displaystyle 0$"
      ],
      "text/plain": [
       "0"
      ]
     },
     "execution_count": 65,
     "metadata": {},
     "output_type": "execute_result"
    }
   ],
   "source": [
    "sp.det(Js_11) * sp.det(Js_22) "
   ]
  }
 ],
 "metadata": {
  "interpreter": {
   "hash": "e9066043d5d0373d960e1e3dd3460bf98ca2a38d572400433f28b63173790b35"
  },
  "kernelspec": {
   "display_name": "Python 3.8.11 64-bit ('tpk4170': conda)",
   "name": "python3"
  },
  "language_info": {
   "codemirror_mode": {
    "name": "ipython",
    "version": 3
   },
   "file_extension": ".py",
   "mimetype": "text/x-python",
   "name": "python",
   "nbconvert_exporter": "python",
   "pygments_lexer": "ipython3",
   "version": "3.8.12"
  },
  "orig_nbformat": 4
 },
 "nbformat": 4,
 "nbformat_minor": 2
}
