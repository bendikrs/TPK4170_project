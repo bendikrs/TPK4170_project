{
 "cells": [
  {
   "cell_type": "code",
   "execution_count": 20,
   "metadata": {},
   "outputs": [],
   "source": [
    "from src.kr6 import KR6\n",
    "import modern_robotics as mr\n",
    "import numpy as np\n",
    "from src.tools import*\n",
    "import sympy as sp\n",
    "from sympy.physics.mechanics import dynamicsymbols"
   ]
  },
  {
   "cell_type": "code",
   "execution_count": 21,
   "metadata": {},
   "outputs": [
    {
     "name": "stderr",
     "output_type": "stream",
     "text": [
      "c:\\Users\\Bendik\\Documents\\Git\\TPK4170_project\\src\\tools.py:177: RuntimeWarning: invalid value encountered in sqrt\n",
      "  s3_pos = np.sqrt(1-c3**2)\n",
      "c:\\Users\\Bendik\\Documents\\Git\\TPK4170_project\\src\\tools.py:178: RuntimeWarning: invalid value encountered in sqrt\n",
      "  s3_neg = -np.sqrt(1-c3**2)\n"
     ]
    }
   ],
   "source": [
    "config1 = np.array([0,0,0,0,0,0])\n",
    "config2 = np.array([0,-np.pi/2,np.pi/2,0,0,0])\n",
    "config3 = np.array([0,0,np.pi/2,0,0,0])\n",
    "config4 = np.array([0,0,0,0,0,0])\n",
    "config5 = np.array([1,0.33,0.25,0,2,0])\n",
    "\n",
    "kr6 = KR6(config1)\n",
    "\n",
    "th1, th2, th3, th4, th5, th6 = sp.symbols(\"theta_1 theta_2 theta_3 theta_4 theta_5 theta_6\")\n",
    "\n",
    "# B_list with end effector in the wrist center\n",
    "# B =sp.Matrix( [[-1    ,      0,    0 ,     0,     0,  0],\n",
    "#                 [0    ,     -1,    -1,     0,    -1,  0],\n",
    "#                 [0    ,      0,     0,    -1,     0, -1],\n",
    "#                 [0    , -0.955,  -0.5,     0,     0,  0],\n",
    "#                 [0.98 ,      0,     0,     0,     0,  0],\n",
    "#                 [0    ,  0.035, 0.035,     0,     0, 0]])\n",
    "\n",
    "B =sp.Matrix(  [[0    ,     0,     0,     1,     0,  1],\n",
    "                [0    ,     1,     1,     0,     1,  0],\n",
    "                [-1    ,    0,     0,     0,     0,  0],\n",
    "                [0     ,    0,     0,     0,     0,  0],\n",
    "                [-0.875,    0,     0,     0,     0,  0],\n",
    "                [0     ,-0.875,  -0.42,   0,     0,  0]])\n",
    "\n",
    "\n",
    "# L12=400\n",
    "# L23=455\n",
    "# L35=420\n",
    "# L56=80\n",
    "# B1=sp.Matrix([[0],[0],[-1],[0],[-L35-L23],[0]])\n",
    "# B2=sp.Matrix([[0],[1],[0],[0],[0],[-L35-L23]])\n",
    "# B3=sp.Matrix([[0],[1],[0],[0],[0],[-L35]])\n",
    "# B4=sp.Matrix([[1],[0],[0],[0],[0],[0]])\n",
    "# B5=sp.Matrix([[0],[1],[0],[0],[0],[0]])\n",
    "# B6=sp.Matrix([[1],[0],[0],[0],[0],[0]])\n",
    "\n",
    "Jb = sp.zeros(6,6)\n",
    "Jb6= B[:,5]\n",
    "Jb5= Ad(exp6(-B[:,5],th6)) * B[:,4]\n",
    "Jb4= Ad(exp6(-B[:,5],th6)  * exp6(-B[:,4],th5)) * B[:,3]\n",
    "Jb3= Ad(exp6(-B[:,5],th6)  * exp6(-B[:,4],th5) * exp6(-B[:,3],th4)) * B[:,2]\n",
    "Jb2= Ad(exp6(-B[:,5],th6)  * exp6(-B[:,4],th5) * exp6(-B[:,3],th4) * exp6(-B[:,2],th3)) * B[:,1]\n",
    "Jb1= Ad(exp6(-B[:,5],th6)  * exp6(-B[:,4],th5) * exp6(-B[:,3],th4) * exp6(-B[:,2],th3) * exp6(-B[:,1],th2)) * B[:,0]\n",
    "\n",
    "Jb6.simplify()\n",
    "Jb5.simplify()\n",
    "Jb4.simplify()\n",
    "Jb3.simplify()\n",
    "Jb2.simplify()\n",
    "Jb1.simplify()\n",
    "\n",
    "Jb[:,0] = Jb1\n",
    "Jb[:,1] = Jb2\n",
    "Jb[:,2] = Jb3\n",
    "Jb[:,3] = Jb4\n",
    "Jb[:,4] = Jb5\n",
    "Jb[:,5] = Jb6\n",
    "\n",
    "\n",
    "Jb_11 = Jb[:3,:3]\n",
    "Jb_12 = Jb[:3,3:]\n",
    "Jb_21 = Jb[3:,:3]\n",
    "Jb_22 = Jb[3:,3:]"
   ]
  },
  {
   "cell_type": "code",
   "execution_count": 22,
   "metadata": {},
   "outputs": [
    {
     "data": {
      "text/latex": [
       "$\\displaystyle - \\sin{\\left(\\theta_{5} \\right)} \\sin^{2}{\\left(\\theta_{6} \\right)} - \\sin{\\left(\\theta_{5} \\right)} \\cos^{2}{\\left(\\theta_{6} \\right)}$"
      ],
      "text/plain": [
       "-sin(theta_5)*sin(theta_6)**2 - sin(theta_5)*cos(theta_6)**2"
      ]
     },
     "execution_count": 22,
     "metadata": {},
     "output_type": "execute_result"
    }
   ],
   "source": [
    "Jb_12_det = sp.det(Jb_12)\n",
    "Jb_12_det"
   ]
  },
  {
   "cell_type": "code",
   "execution_count": 23,
   "metadata": {},
   "outputs": [
    {
     "data": {
      "text/plain": [
       "[{theta_5: 0}, {theta_5: pi}]"
      ]
     },
     "execution_count": 23,
     "metadata": {},
     "output_type": "execute_result"
    }
   ],
   "source": [
    "Jb_12_det_solve = sp.solve(Jb_12_det, th5, th6, dict=True)\n",
    "Jb_12_det_solve"
   ]
  },
  {
   "cell_type": "code",
   "execution_count": 24,
   "metadata": {},
   "outputs": [],
   "source": [
    "Jb_21_det = sp.det(Jb_21)"
   ]
  },
  {
   "cell_type": "code",
   "execution_count": 25,
   "metadata": {},
   "outputs": [
    {
     "data": {
      "text/plain": [
       "[{theta_2: 3.14159265358979},\n",
       " {theta_2: -0.5*I*log(-(13.0*exp(I*theta_3) + 12.0)*exp(-I*theta_3)/(12.0*exp(I*theta_3) + 13.0))},\n",
       " {theta_2: -I*log(-sqrt(-(13.0*exp(I*theta_3) + 12.0)*exp(-I*theta_3)/(12.0*exp(I*theta_3) + 13.0)))},\n",
       " {theta_2: -I*log(-exp(-I*theta_3))},\n",
       " {theta_3: 0.0}]"
      ]
     },
     "execution_count": 25,
     "metadata": {},
     "output_type": "execute_result"
    }
   ],
   "source": [
    "Jb_21_det_solve = sp.solve(Jb_21_det, th2, th3, th4, dict=True)\n",
    "Jb_21_det_solve"
   ]
  },
  {
   "cell_type": "code",
   "execution_count": 50,
   "metadata": {},
   "outputs": [
    {
     "data": {
      "text/latex": [
       "$\\displaystyle - 0.5 i \\log{\\left(- \\frac{\\left(13.0 e^{i \\theta_{3}} + 12.0\\right) e^{- i \\theta_{3}}}{12.0 e^{i \\theta_{3}} + 13.0} \\right)}$"
      ],
      "text/plain": [
       "-0.5*I*log(-(13.0*exp(I*theta_3) + 12.0)*exp(-I*theta_3)/(12.0*exp(I*theta_3) + 13.0))"
      ]
     },
     "execution_count": 50,
     "metadata": {},
     "output_type": "execute_result"
    }
   ],
   "source": [
    "# get a element from the Jb_21_det_solve dictionary\n",
    "Jb_21_det_solve[1][th2]"
   ]
  },
  {
   "cell_type": "code",
   "execution_count": 51,
   "metadata": {},
   "outputs": [],
   "source": [
    "\n",
    "a=Jb_21_det_solve[1][th2].subs(th3,np.pi/4).evalf()\n",
    "b=Jb_21_det_solve[2][th2].subs(th3,2*np.pi/3).evalf()\n",
    "c=Jb_21_det_solve[3][th2].subs(th3,2*np.pi/3).evalf()\n"
   ]
  },
  {
   "cell_type": "code",
   "execution_count": 52,
   "metadata": {},
   "outputs": [
    {
     "data": {
      "text/latex": [
       "$\\displaystyle 1.19466427172745$"
      ],
      "text/plain": [
       "1.19466427172745"
      ]
     },
     "execution_count": 52,
     "metadata": {},
     "output_type": "execute_result"
    }
   ],
   "source": []
  }
 ],
 "metadata": {
  "interpreter": {
   "hash": "e9066043d5d0373d960e1e3dd3460bf98ca2a38d572400433f28b63173790b35"
  },
  "kernelspec": {
   "display_name": "Python 3.8.11 64-bit ('tpk4170': conda)",
   "name": "python3"
  },
  "language_info": {
   "codemirror_mode": {
    "name": "ipython",
    "version": 3
   },
   "file_extension": ".py",
   "mimetype": "text/x-python",
   "name": "python",
   "nbconvert_exporter": "python",
   "pygments_lexer": "ipython3",
   "version": "3.8.11"
  },
  "orig_nbformat": 4
 },
 "nbformat": 4,
 "nbformat_minor": 2
}
