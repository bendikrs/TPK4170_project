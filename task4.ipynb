{
 "cells": [
  {
   "cell_type": "code",
   "execution_count": 1,
   "metadata": {},
   "outputs": [],
   "source": [
    "from src.kr6 import KR6\n",
    "import modern_robotics as mr\n",
    "import numpy as np\n",
    "from src.tools import*\n",
    "import sympy as sp"
   ]
  },
  {
   "cell_type": "code",
   "execution_count": 2,
   "metadata": {},
   "outputs": [],
   "source": [
    "# define the symbolic variables for the joint angles\n",
    "th1, th2, th3, th4, th5, th6 = sp.symbols(\"theta_1 theta_2 theta_3 theta_4 theta_5 theta_6\")\n",
    "\n",
    "# Body fixed screw axis matrix with end effector in the wrist center\n",
    "B =sp.Matrix(  [[0    ,     0,     0,     1,     0,  1],\n",
    "                [0    ,     1,     1,     0,     1,  0],\n",
    "                [-1    ,    0,     0,     0,     0,  0],\n",
    "                [0     ,    0,     0,     0,     0,  0],\n",
    "                [-0.875,    0,     0,     0,     0,  0],\n",
    "                [0     ,-0.875,  -0.42,   0,     0,  0]])\n",
    "\n",
    "\n",
    "# Defining the body Jacobian matrix\n",
    "Jb = sp.zeros(6,6)\n",
    "Jb6= B[:,5]\n",
    "Jb5= Ad(exp6(-B[:,5],th6)) * B[:,4]\n",
    "Jb4= Ad(exp6(-B[:,5],th6)  * exp6(-B[:,4],th5)) * B[:,3]\n",
    "Jb3= Ad(exp6(-B[:,5],th6)  * exp6(-B[:,4],th5) * exp6(-B[:,3],th4)) * B[:,2]\n",
    "Jb2= Ad(exp6(-B[:,5],th6)  * exp6(-B[:,4],th5) * exp6(-B[:,3],th4) * exp6(-B[:,2],th3)) * B[:,1]\n",
    "Jb1= Ad(exp6(-B[:,5],th6)  * exp6(-B[:,4],th5) * exp6(-B[:,3],th4) * exp6(-B[:,2],th3) * exp6(-B[:,1],th2)) * B[:,0]\n",
    "\n",
    "# Simplify the expressions\n",
    "Jb6.simplify()\n",
    "Jb5.simplify()\n",
    "Jb4.simplify()\n",
    "Jb3.simplify()\n",
    "Jb2.simplify()\n",
    "Jb1.simplify()\n",
    "# Contatenate the expressions into a single matrix\n",
    "Jb[:,0] = Jb1\n",
    "Jb[:,1] = Jb2\n",
    "Jb[:,2] = Jb3\n",
    "Jb[:,3] = Jb4\n",
    "Jb[:,4] = Jb5\n",
    "Jb[:,5] = Jb6\n",
    "\n",
    "# Splitting the matrix into four 3x3 submatrices\n",
    "Jb_11 = Jb[:3,:3]\n",
    "Jb_12 = Jb[:3,3:]\n",
    "Jb_21 = Jb[3:,:3]\n",
    "Jb_22 = Jb[3:,3:]"
   ]
  },
  {
   "cell_type": "code",
   "execution_count": 3,
   "metadata": {},
   "outputs": [
    {
     "data": {
      "text/latex": [
       "$\\displaystyle - \\sin{\\left(\\theta_{5} \\right)} \\sin^{2}{\\left(\\theta_{6} \\right)} - \\sin{\\left(\\theta_{5} \\right)} \\cos^{2}{\\left(\\theta_{6} \\right)}$"
      ],
      "text/plain": [
       "-sin(theta_5)*sin(theta_6)**2 - sin(theta_5)*cos(theta_6)**2"
      ]
     },
     "execution_count": 3,
     "metadata": {},
     "output_type": "execute_result"
    }
   ],
   "source": [
    "Jb_12_det = sp.det(Jb_12)  # defining the determinant of the submatrix Jb_12\n",
    "Jb_12_det"
   ]
  },
  {
   "cell_type": "code",
   "execution_count": 4,
   "metadata": {},
   "outputs": [
    {
     "data": {
      "text/plain": [
       "[{theta_5: 0}, {theta_5: pi}]"
      ]
     },
     "execution_count": 4,
     "metadata": {},
     "output_type": "execute_result"
    }
   ],
   "source": [
    "Jb_12_det_solve = sp.solve(Jb_12_det, th5, th6, dict=True) # Solving the first equation to look at the wrist singularities\n",
    "Jb_12_det_solve"
   ]
  },
  {
   "cell_type": "code",
   "execution_count": 5,
   "metadata": {},
   "outputs": [],
   "source": [
    "Jb_21_det = sp.det(Jb_21) # defining the determinant of the submatrix Jb_21"
   ]
  },
  {
   "cell_type": "code",
   "execution_count": 6,
   "metadata": {},
   "outputs": [
    {
     "data": {
      "text/plain": [
       "[{theta_2: 3.14159265358979},\n",
       " {theta_2: -0.5*I*log(-(13.0*exp(I*theta_3) + 12.0)*exp(-I*theta_3)/(12.0*exp(I*theta_3) + 13.0))},\n",
       " {theta_2: -I*log(-sqrt(-(13.0*exp(I*theta_3) + 12.0)*exp(-I*theta_3)/(12.0*exp(I*theta_3) + 13.0)))},\n",
       " {theta_2: -I*log(-exp(-I*theta_3))},\n",
       " {theta_3: 0.0}]"
      ]
     },
     "execution_count": 6,
     "metadata": {},
     "output_type": "execute_result"
    }
   ],
   "source": [
    "Jb_21_det_solve = sp.solve(Jb_21_det, th2, th3, th4, dict=True) # Solving the second equation to look at the elbow and shoulder singularities\n",
    "Jb_21_det_solve"
   ]
  },
  {
   "cell_type": "code",
   "execution_count": 7,
   "metadata": {},
   "outputs": [
    {
     "data": {
      "text/latex": [
       "$\\displaystyle - i \\log{\\left(- \\sqrt{- \\frac{\\left(13.0 e^{i \\theta_{3}} + 12.0\\right) e^{- i \\theta_{3}}}{12.0 e^{i \\theta_{3}} + 13.0}} \\right)}$"
      ],
      "text/plain": [
       "-I*log(-sqrt(-(13.0*exp(I*theta_3) + 12.0)*exp(-I*theta_3)/(12.0*exp(I*theta_3) + 13.0)))"
      ]
     },
     "execution_count": 7,
     "metadata": {},
     "output_type": "execute_result"
    }
   ],
   "source": [
    "Jb_21_det_solve[2][th2]"
   ]
  },
  {
   "cell_type": "code",
   "execution_count": 8,
   "metadata": {},
   "outputs": [
    {
     "name": "stdout",
     "output_type": "stream",
     "text": [
      "180.00\n",
      " -68.45\n",
      " 111.55\n",
      " -135.00\n",
      " -45.00\n"
     ]
    }
   ],
   "source": [
    "# choosing a value for theta_3 to get solutions for theta_2\n",
    "theta3_val = -np.pi/4\n",
    "#Subsituting the value of theta_3 in the equations and converting the solutions to degrees\n",
    "th2_0 = Jb_21_det_solve[0][th2].evalf()*180/np.pi\n",
    "th2_1 = Jb_21_det_solve[1][th2].subs(th3, theta3_val).evalf()*180/np.pi\n",
    "th2_2 = Jb_21_det_solve[2][th2].subs(th3, theta3_val).evalf()*180/np.pi\n",
    "th2_3 = Jb_21_det_solve[3][th2].subs(th3, theta3_val).evalf()*180/np.pi\n",
    "\n",
    "print(f\"{th2_0:.2f}\\n {th2_1:.2f}\\n {th2_2:.2f}\\n {th2_3:.2f}\\n {theta3_val*180/np.pi:.2f}\")"
   ]
  }
 ],
 "metadata": {
  "interpreter": {
   "hash": "e9066043d5d0373d960e1e3dd3460bf98ca2a38d572400433f28b63173790b35"
  },
  "kernelspec": {
   "display_name": "Python 3.8.11 64-bit ('tpk4170': conda)",
   "name": "python3"
  },
  "language_info": {
   "codemirror_mode": {
    "name": "ipython",
    "version": 3
   },
   "file_extension": ".py",
   "mimetype": "text/x-python",
   "name": "python",
   "nbconvert_exporter": "python",
   "pygments_lexer": "ipython3",
   "version": "3.8.12"
  },
  "orig_nbformat": 4
 },
 "nbformat": 4,
 "nbformat_minor": 2
}
