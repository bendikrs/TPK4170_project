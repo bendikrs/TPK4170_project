{
 "cells": [
  {
   "cell_type": "code",
   "execution_count": 1,
   "metadata": {},
   "outputs": [],
   "source": [
    "from src.kr6 import KR6\n",
    "import modern_robotics as mr\n",
    "import numpy as np\n",
    "from tpk4170.visualization import Viewer\n",
    "from tpk4170.models import Grid, Axes\n",
    "from src.dh import DHFrame\n",
    "import src.tools as tools"
   ]
  },
  {
   "cell_type": "code",
   "execution_count": 2,
   "metadata": {},
   "outputs": [
    {
     "data": {
      "application/vnd.jupyter.widget-view+json": {
       "model_id": "12b92ca1753f4a94b6386b7fc9de524f",
       "version_major": 2,
       "version_minor": 0
      },
      "text/plain": [
       "Renderer(camera=PerspectiveCamera(aspect=1.5, children=(DirectionalLight(color='white', intensity=0.66, positi…"
      ]
     },
     "metadata": {},
     "output_type": "display_data"
    },
    {
     "name": "stdout",
     "output_type": "stream",
     "text": [
      "Number of iteration: 3\n",
      "True\n"
     ]
    }
   ],
   "source": [
    "viewer = Viewer(background=\"white\")\n",
    "viewer.add(Grid())\n",
    "\n",
    "config1 = np.array([0,-np.pi/2,np.pi/2,0,np.pi,np.pi/3])\n",
    "config2 = np.array([0,-np.pi/2,np.pi/2,0,0,0])\n",
    "config3 = np.array([0,0,np.pi/2,0,0,0])\n",
    "\n",
    "kr6 = KR6(theta=config2)\n",
    "# kr6.add_FK_to_viewer(viewer)\n",
    "\n",
    "print(f\"Number of iteration: {kr6.IK[3]}\")\n",
    "print(np.allclose(kr6.Tsb_dh, kr6.Tsb_IK, 0.01, 0.01))\n",
    "\n",
    "kr6.add_nIK_to_viewer(viewer)\n",
    "\n"
   ]
  }
 ],
 "metadata": {
  "interpreter": {
   "hash": "1b659ad3131cfdfa183ee9e2521f5efe4466c1598f55787903416942c956bfb3"
  },
  "kernelspec": {
   "display_name": "Python 3.8.11 64-bit ('TPK4170': conda)",
   "name": "python3"
  },
  "language_info": {
   "codemirror_mode": {
    "name": "ipython",
    "version": 3
   },
   "file_extension": ".py",
   "mimetype": "text/x-python",
   "name": "python",
   "nbconvert_exporter": "python",
   "pygments_lexer": "ipython3",
   "version": "3.8.11"
  },
  "orig_nbformat": 4
 },
 "nbformat": 4,
 "nbformat_minor": 2
}
