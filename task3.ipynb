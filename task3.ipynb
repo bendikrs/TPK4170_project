{
 "cells": [
  {
   "cell_type": "code",
   "execution_count": 1,
   "metadata": {},
   "outputs": [],
   "source": [
    "from src.kr6 import KR6\n",
    "import modern_robotics as mr\n",
    "import numpy as np\n",
    "from tpk4170.visualization import Viewer\n",
    "from tpk4170.models import Grid, Axes\n",
    "from src.dh import DHFrame\n",
    "import src.tools as tools\n",
    "import sympy as sp\n"
   ]
  },
  {
   "cell_type": "code",
   "execution_count": 9,
   "metadata": {},
   "outputs": [
    {
     "name": "stdout",
     "output_type": "stream",
     "text": [
      "1.5707963267948966\n",
      "1.4876550949064553\n",
      "-0.7853981633974485\n",
      "1.4876550949064555\n",
      "-0.7853389022605982\n",
      "1.4881618177246503\n"
     ]
    },
    {
     "data": {
      "text/latex": [
       "$\\displaystyle \\left[\\begin{matrix}-45.0 & -8.8 & -80.5\\\\-45.0 & -90.0 & 90.0\\\\135.0 & -171.3 & 83.3\\\\135.0 & -96.3 & -73.8\\end{matrix}\\right]$"
      ],
      "text/plain": [
       "Matrix([\n",
       "[-45.0,   -8.8, -80.5],\n",
       "[-45.0,  -90.0,  90.0],\n",
       "[135.0, -171.3,  83.3],\n",
       "[135.0,  -96.3, -73.8]])"
      ]
     },
     "execution_count": 9,
     "metadata": {},
     "output_type": "execute_result"
    }
   ],
   "source": [
    "\n",
    "r1, r2, r3, r4, a1, a2 = 0, 0.400, 0.455, 10**(-3)*np.sqrt(420**2+35**2), 0.025, 0.035\n",
    "køddevinkel = np.arctan2(35, 420)\n",
    "\n",
    "T_SB = np.array([[0,  1,   0, 0],\n",
    "                 [0,  0,  -1, -(0.420+0.025+0.080)],\n",
    "                 [-1, 0,   0, 0.89],\n",
    "                 [0,  0,   0, 1]])\n",
    "\n",
    "#print('forventer at P_W er: \\n', tools.pointFromT(tools.makeT_SW(T_SB)))\n",
    "\n",
    "sp.Matrix((np.around(tools.inverseKinematicsTheta123(T_SB),1)))\n",
    "\n",
    "theta = np.pi/180*np.array([-45, -90, 90, 0, 0, 0])\n",
    " \n",
    "kr6 = KR6(theta)\n",
    "\n",
    "T = kr6.Tsb_IK\n",
    "\n",
    "sp.Matrix(T)\n",
    "\n",
    "# T = np.array([[0,  -0.5,   -0.5, 0.371231],\n",
    "#               [0,   0.5,    0,   0.371231],\n",
    "#               [1,    0,   -0.5, 890],\n",
    "#               [0,     0,    0,   1]])\n",
    "\n",
    "# print(tools.pointFromT(T))\n",
    "\n",
    "# sp.Matrix(T)\n",
    "\n",
    "sp.Matrix((np.around(tools.inverseKinematicsTheta123(T),1)))"
   ]
  },
  {
   "cell_type": "code",
   "execution_count": 3,
   "metadata": {},
   "outputs": [
    {
     "name": "stdout",
     "output_type": "stream",
     "text": [
      "-4.3883176969446814e-17\n",
      "0.08314123188843929\n",
      "-2.5582040089444443e-15\n",
      "0.083141231888331\n",
      "[[ 0.     0.     1.     0.98 ]\n",
      " [ 0.    -1.     0.     0.   ]\n",
      " [ 1.     0.     0.     0.435]\n",
      " [ 0.     0.     0.     1.   ]]\n",
      "[0.9   0.    0.435]\n",
      "[0.9   0.    0.435]\n",
      "True\n",
      "-3.4464682009011313e-15\n",
      "3.1222284647953695\n",
      "[[ 0.     0.     1.     0.98 ]\n",
      " [ 0.    -1.     0.     0.   ]\n",
      " [ 1.     0.     0.     0.435]\n",
      " [ 0.     0.     0.     1.   ]]\n",
      "[0.02869285 0.         0.36559827]\n",
      "[0.9   0.    0.435]\n",
      "False\n",
      "nan\n",
      "nan\n",
      "[[ 0.     0.     1.     0.98 ]\n",
      " [ 0.    -1.     0.     0.   ]\n",
      " [ 1.     0.     0.     0.435]\n",
      " [ 0.     0.     0.     1.   ]]\n",
      "[nan nan nan]\n",
      "[0.9   0.    0.435]\n",
      "False\n",
      "nan"
     ]
    },
    {
     "name": "stderr",
     "output_type": "stream",
     "text": [
      "c:\\Users\\test\\git\\TPK4170_project-1\\src\\tools.py:163: RuntimeWarning: invalid value encountered in sqrt\n",
      "  s3_pos = np.sqrt(1-c3**2)\n",
      "c:\\Users\\test\\git\\TPK4170_project-1\\src\\tools.py:164: RuntimeWarning: invalid value encountered in sqrt\n",
      "  s3_neg = -np.sqrt(1-c3**2)\n"
     ]
    },
    {
     "name": "stdout",
     "output_type": "stream",
     "text": [
      "\n",
      "nan\n",
      "[[ 0.     0.     1.     0.98 ]\n",
      " [ 0.    -1.     0.     0.   ]\n",
      " [ 1.     0.     0.     0.435]\n",
      " [ 0.     0.     0.     1.   ]]\n",
      "[nan nan nan]\n",
      "[0.9   0.    0.435]\n",
      "False\n",
      "None\n"
     ]
    },
    {
     "name": "stderr",
     "output_type": "stream",
     "text": [
      "C:\\Users\\test\\anaconda3\\envs\\tpk4170_venv\\lib\\site-packages\\jupyter_client\\session.py:716: UserWarning: Message serialization failed with:\n",
      "Out of range float values are not JSON compliant\n",
      "Supporting this message is deprecated in jupyter-client 7, please make sure your message is JSON-compliant\n",
      "  content = self.pack(content)\n"
     ]
    },
    {
     "data": {
      "application/vnd.jupyter.widget-view+json": {
       "model_id": "5a7b495d6cbb4b569eed516eda67b56c",
       "version_major": 2,
       "version_minor": 0
      },
      "text/plain": [
       "Renderer(camera=PerspectiveCamera(aspect=1.5, children=(DirectionalLight(color='white', intensity=0.66, positi…"
      ]
     },
     "metadata": {},
     "output_type": "display_data"
    },
    {
     "name": "stdout",
     "output_type": "stream",
     "text": [
      "-1.5920319209411077e-16\n",
      "0.44045754370985635\n"
     ]
    }
   ],
   "source": [
    "config_fasit = np.array([0,-np.pi/4, np.pi/6, 0,0,0])\n",
    "config2 = np.array([0, -np.pi/2, np.pi/2, 0, 0, 0])\n",
    "config3 = np.array([0, np.pi/2, 0, 0, 0, 0])\n",
    "\n",
    "\n",
    "\n",
    "\n",
    "def test_a_IK(config_fasit):\n",
    "\n",
    "    kr6_fasit = KR6(config_fasit)\n",
    "\n",
    "    P_SW_fasit = tools.pointFromT(kr6_fasit.Tsw) # define the point of the wrist\n",
    "\n",
    "    thetalist = kr6_fasit.aIK_thetaLists # Fetching the analytical solution(s)\n",
    "\n",
    "    for el in thetalist:\n",
    "        config_test = np.array([el[0], el[1], el[2], 0,0,0])\n",
    "\n",
    "        kr6_test = KR6(config_test)\n",
    "\n",
    "        P_SW_test = tools.pointFromT(kr6_test.Tsw)\n",
    "\n",
    "        print(kr6_fasit.Tsb_poe)\n",
    "        # print(kr6_fasit.Tsw)\n",
    "        print(P_SW_test)\n",
    "        print(P_SW_fasit)\n",
    "\n",
    "        print(np.allclose(P_SW_fasit, P_SW_test, 0.01, 0.01))\n",
    "\n",
    "print(test_a_IK(np.array([0, 0, 0, 0, 0, 0])))\n",
    "\n",
    "# kr6.add_FK_to_viewer(viewer)\n",
    "\n",
    "# print(f\"Number of iteration: {kr6.IK[3]}\")\n",
    "\n",
    "# kr6.add_nIK_to_viewer(viewer)\n",
    "viewer = Viewer(background=\"white\")\n",
    "viewer.add(Grid())\n",
    "KR6(config_fasit).add_FK_to_viewer(viewer)\n"
   ]
  },
  {
   "cell_type": "code",
   "execution_count": null,
   "metadata": {},
   "outputs": [],
   "source": []
  }
 ],
 "metadata": {
  "interpreter": {
   "hash": "6117fad014f388f0b50ad03c046f22ad952a027cda758478b84391257a8ebcd3"
  },
  "kernelspec": {
   "display_name": "Python 3.8.12 64-bit ('tpk4170_venv': conda)",
   "name": "python3"
  },
  "language_info": {
   "codemirror_mode": {
    "name": "ipython",
    "version": 3
   },
   "file_extension": ".py",
   "mimetype": "text/x-python",
   "name": "python",
   "nbconvert_exporter": "python",
   "pygments_lexer": "ipython3",
   "version": "3.8.12"
  },
  "orig_nbformat": 4
 },
 "nbformat": 4,
 "nbformat_minor": 2
}
