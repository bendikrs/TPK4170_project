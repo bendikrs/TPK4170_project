{
 "cells": [
  {
   "cell_type": "code",
   "execution_count": 1,
   "metadata": {},
   "outputs": [],
   "source": [
    "from src.kr6 import KR6\n",
    "import modern_robotics as mr\n",
    "import numpy as np\n",
    "from tpk4170.visualization import Viewer\n",
    "from tpk4170.models import Grid, Axes\n",
    "from src.dh import DHFrame\n",
    "import src.tools as tools\n",
    "import sympy as sp\n",
    "\n",
    "# T_SB = np.array([[0,  1,   0, 0],\n",
    "#                  [0,  0,  -1, -(0.420+0.025+0.080)],\n",
    "#                  [-1, 0,   0, 0.89],\n",
    "#                  [0,  0,   0, 1]])\n"
   ]
  },
  {
   "cell_type": "code",

   "execution_count": 9,
   "metadata": {},
   "outputs": [
    {
     "name": "stdout",
     "output_type": "stream",
     "text": [
      "[-45.26  -8.59 -80.21]\n",
      "True\n",
      "[-45.26 -89.95  89.95]\n",
      "True\n",
      "[ 135.22 -171.31   83.08]\n",
      "True\n",
      "[135.22 -96.26 -73.91]\n",
      "True\n"
     ]

    }
   ],
   "source": [
    "# Testing if we get 4 configurations of theta 1,2,3 that results in the same wrist position\n",
    "\n",
    "theta = np.pi/180*np.array([-45, -90, 90, 73, 0  , 17])\n",
    "\n",
    "kr6 = KR6(theta)\n",
    "\n",

    "P_W = tools.pointFromT(kr6.Tsw)\n",

    "\n",
    "thetalists = np.around(kr6.aIK_thetaLists,2) #creating the 4 sets of thetas that should provide the same wrist position as the original input of KR6\n",
    "\n",
    "np.around(thetalists*180/np.pi,1)\n",
    "\n",

    "for i in thetalists:\n",
    "    print(np.around(i*180/np.pi,2))\n",
    "    i = np.append(i,0)\n",
    "    i = np.append(i,0)\n",
    "    i = np.append(i,0)\n",
    "    kr6_test = KR6(i)\n",
    "    P_W_test = tools.pointFromT(kr6_test.Tsw)\n",
    "    print(np.allclose(P_W, P_W_test, 0.02))\n"

   ]
  },
  {
   "cell_type": "code",

   "execution_count": 11,
   "metadata": {},
   "outputs": [
    {
     "name": "stdout",
     "output_type": "stream",
     "text": [
      "[[-7.07106781e-01  7.97859931e-18  7.07106781e-01  3.71231060e-01]\n",
      " [ 7.07106781e-01 -7.97859931e-18  7.07106781e-01  3.71231060e-01]\n",
      " [-1.12834434e-17  1.00000000e+00  0.00000000e+00  8.90000000e-01]\n",
      " [ 0.00000000e+00  0.00000000e+00  0.00000000e+00  1.00000000e+00]]\n",
      "-90.0\n",
      "-0.06783668668154519\n",
      "90.0\n"
     ]
    }
   ],
   "source": [
    "\n",
    "S = kr6._Slist\n",
    "\n",
    "M = kr6._M\n",
    "\n",
    "T = kr6.Tsb_poe\n",
    "\n",
    "print(T)\n",
    "\n",
    "R_46, R_46sp = tools.inverseKinematicsTheta456(thetalists, T, S, M)\n",
    "\n",
    "R_46\n",
    "\n",
    "print( np.arctan2( float(R_46[0,1]) , float(R_46[0,2])) * 180/np.pi - 90)\n",
    "\n",
    "print(np.arctan2(np.sqrt(float(R_46[0,1])**2 + float(R_46[0,2])),float(R_46[2,1])*180/np.pi) * 180/np.pi - 180)\n",
    "\n",
    "print( np.arctan2(-float(R_46[2,1]) , float(R_46[2,0])) * 180/np.pi)\n",
    "\n"

   ]
  },
  {
   "cell_type": "code",
   "execution_count": 31,
   "metadata": {},
   "outputs": [
    {
     "name": "stdout",
     "output_type": "stream",
     "text": [

      "C:\\Users\\PC\\anaconda3\\envs\\tpk4170_venv\\lib\\site-packages\\jupyter_client\\session.py:716: UserWarning: Message serialization failed with:\n",
      "Out of range float values are not JSON compliant\n",
      "Supporting this message is deprecated in jupyter-client 7, please make sure your message is JSON-compliant\n",
      "  content = self.pack(content)\n"

     ]
    },
    {
     "data": {

      "application/vnd.jupyter.widget-view+json": {
       "model_id": "c30251a733084c389f1fcbb736e0db12",
       "version_major": 2,
       "version_minor": 0
      },

      "text/plain": [
       "array([  0., -90.,  90.,   0.,   0.,   0.])"
      ]
     },
     "execution_count": 31,
     "metadata": {},

     "output_type": "display_data"

    }
   ],
   "source": [
    "\n",
    "# th4, th5, th6 = sp.symbols(\"theta_4 theta_5 theta_6\")\n",
    "\n",
    "# def rotX_sp(th):\n",
    "#     x = sp.Matrix([[1, 0, 0],\n",
    "#                [0, sp.cos(th), -sp.sin(th)],\n",
    "#                [0, sp.sin(th), sp.cos(th)]])\n",
    "#     return x\n",
    "\n",
    "# def rotZ_sp(th):\n",
    "#     z = sp.Matrix([[sp.cos(th), -sp.sin(th), 0],\n",
    "#                [sp.sin(th), sp.cos(th), 0],\n",
    "#                [0, 0, 0]])\n",
    "#     return z\n",
    "\n",
    "# def rotxyx(th4,th5,th6):\n",
    "    th4 = -th4\n",
    "    th6 = -th6\n",
    "    # c4, s4 = sp.cos(th4), sp.sin(th4)\n",
    "    # c5, s5 = sp.cos(th5), sp.sin(th5)\n",
    "    # c6, s6 = sp.cos(th6), sp.sin(th6)\n",
    "\n",
    "    # x = sp.Matrix([[1, 0, 0],\n",
    "    #            [0, sp.cos(th4), -sp.sin(th4)],\n",
    "    #            [0, sp.sin(th4), sp.cos(th4)]])\n",
    "\n",
    "    # y = sp.Matrix([[sp.cos(th5), 0, sp.sin(th5)],\n",
    "    #            [0, 0, 0],\n",
    "    #            [-sp.sin(th5), 0, sp.cos(th5)]])\n",
    "\n",
    "    # x2 = sp.Matrix([[1, 0, 0],\n",
    "    #            [0, sp.cos(th6), -sp.sin(th6)],\n",
    "    #            [0, sp.sin(th6), sp.cos(th6)]])\n",
    "\n",
    "    # z = sp.Matrix([[sp.cos(th6), -sp.sin(th6), 0],\n",
    "    #            [sp.sin(th6), sp.cos(th6), 0],\n",
    "    #            [0, 0, 0]])\n",
    "    \n",
    "    R_45 = sp.Matrix([[sp.cos(th4), -sp.sin(th4), 0],\n",
    "               [sp.sin(th4), sp.cos(th4), 0],\n",
    "               [0, 0, 0]]) @ sp.Matrix([[1, 0, 0],\n",
    "               [0, sp.cos(-PI/2), -sp.sin(-PI/2)],\n",
    "               [0, sp.sin(-PI/2), sp.cos(-PI/2)]])\n",
    "\n",
    "    R_56 = sp.Matrix([[sp.cos(th5), -sp.sin(th5), 0],\n",
    "               [sp.sin(th5), sp.cos(th5), 0],\n",
    "               [0, 0, 0]]) @ sp.Matrix([[1, 0, 0],\n",
    "               [0, sp.cos(PI/2), -sp.sin(PI/2)],\n",
    "               [0, sp.sin(PI/2), sp.cos(PI/2)]])\n",
    "\n",
    "\n",
    "    R_6B = sp.Matrix([[sp.cos(th6), -sp.sin(th6), 0],\n",
    "               [sp.sin(th6), sp.cos(th6), 0],\n",
    "               [0, 0, 0]]) @ sp.Matrix([[1, 0, 0],\n",
    "               [0, sp.cos(PI), -sp.sin(PI)],\n",
    "               [0, sp.sin(PI), sp.cos(PI)]])\n",
    "    # rot_youtube = sp.Matrix([[c4*s5*c6 - s4*s6, -c4*s5*s6 - s4*c6, -c4*c5],\n",
    "    #                [s4*s5*c6 + c4*s6, -s4*s5*s6 + c4*c6, -s4*c5],\n",
    "    #                [c5*c6, -c5*s6, s5]])\n",
    "\n",
    "    # x = sp.Matrix([[, , ],\n",
    "    #                [, , c4],\n",
    "    #                [, , ]])\n",
    "    # x = sp.Matrix([[1, 0, 0],\n",
    "    #                [0, 0, 0],\n",
    "    #                [0, 0, 0]])\n",
    "    # x = sp.Matrix([[1, 0, 0],\n",
    "    #                [0, 0, 0],\n",
    "    #                [0, 0, 0]])\n",
    "    return R_45,R_56,R_6B\n",
    "\n",
    "# print(np.around(R_4B,2))\n",
    "# print(np.arccos(-1))\n",
    "# PI = np.pi\n",
    "# R_45 = rotZ_sp(th4) @ rotX_sp(-PI/2)\n",
    "# R_56 = rotZ_sp(th5) @ rotX_sp(PI/2) \n",
    "# R_6B = rotZ_sp(th6) @ rotX_sp(PI)\n",
    "# R_45.evalf(1)*R_56.evalf(1)*R_6B.evalf(1)\n"
   ]
  },
  {
   "cell_type": "code",
   "execution_count": null,
   "metadata": {},
   "outputs": [],
   "source": [
    "# config_fasit = np.array([0,-np.pi/4, np.pi/6, 0,0,0])\n",
    "# config2 = np.array([0, -np.pi/2, np.pi/2, 0, 0, 0])\n",
    "# config3 = np.array([0, np.pi/2, 0, 0, 0, 0])\n",
    "\n",
    "\n",
    "\n",
    "\n",
    "\n",
    "# # kr6.add_FK_to_viewer(viewer)\n",
    "\n",
    "# # print(f\"Number of iteration: {kr6.IK[3]}\")\n",
    "\n",

    "# kr6.add_nIK_to_viewer(viewer)\n",
    "viewer = Viewer(background=\"white\")\n",
    "viewer.add(Grid())\n",
    "KR6(theta).add_FK_to_viewer(viewer)\n"

   ]
  },
  {
   "cell_type": "code",
   "execution_count": null,
   "metadata": {},
   "outputs": [],
   "source": []
  }
 ],
 "metadata": {
  "interpreter": {
   "hash": "6117fad014f388f0b50ad03c046f22ad952a027cda758478b84391257a8ebcd3"
  },
  "kernelspec": {
   "display_name": "Python 3.8.12 64-bit ('tpk4170_venv': conda)",
   "name": "python3"
  },
  "language_info": {
   "codemirror_mode": {
    "name": "ipython",
    "version": 3
   },
   "file_extension": ".py",
   "mimetype": "text/x-python",
   "name": "python",
   "nbconvert_exporter": "python",
   "pygments_lexer": "ipython3",
   "version": "3.8.12"
  },
  "orig_nbformat": 4
 },
 "nbformat": 4,
 "nbformat_minor": 2
}
