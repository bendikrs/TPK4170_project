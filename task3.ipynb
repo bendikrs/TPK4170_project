{
 "cells": [
  {
   "cell_type": "code",
   "execution_count": 120,
   "metadata": {},
   "outputs": [],
   "source": [
    "from src.kr6 import KR6\n",
    "import modern_robotics as mr\n",
    "import numpy as np\n",
    "from tpk4170.visualization import Viewer\n",
    "from tpk4170.models import Grid, Axes\n",
    "from src.dh import DHFrame\n",
    "import src.tools as tools\n"
   ]
  },
  {
   "cell_type": "code",
   "execution_count": 135,
   "metadata": {},
   "outputs": [
    {
     "name": "stdout",
     "output_type": "stream",
     "text": [
      "[560.   0. 435.]\n",
      "[[  0.   0.   1. 809.]\n",
      " [  0.   1.   0.   6.]\n",
      " [  1.   0.   0. 438.]\n",
      " [  0.   0.   0.   1.]]\n",
      "[809.   6. 438.]\n",
      "1.1590242740467074\n",
      "[-1.1071487177940904, nan, nan]\n"
     ]
    },
    {
     "name": "stderr",
     "output_type": "stream",
     "text": [
      "C:\\Users\\PC\\AppData\\Local\\Temp/ipykernel_4120/3934432490.py:48: RuntimeWarning: invalid value encountered in sqrt\n",
      "  s3_pos = np.sqrt(1-c3)\n",
      "C:\\Users\\PC\\AppData\\Local\\Temp/ipykernel_4120/3934432490.py:49: RuntimeWarning: invalid value encountered in sqrt\n",
      "  s3_neg = -np.sqrt(1-c3)\n"
     ]
    }
   ],
   "source": [
    "\n",
    "r1, r2, r3, r4, a1, a2 = 0, 400, 455, np.sqrt(35**2 + 420**2), 25, 35\n",
    "køddevinkel = np.arctan2(35, 240)\n",
    "\n",
    "\n",
    "T_SB = np.array([[0, 0, 1, a1+455+80],\n",
    "                 [0, 1, 0, 0],\n",
    "                 [1, 0, 0, r2+a2],\n",
    "                 [0, 0, 0, 1]])\n",
    "\n",
    "\n",
    "def pointFromT(T=np.array) -> np.array:\n",
    "    P = np.zeros(3)\n",
    "    for i in range(len(T)):\n",
    "        P[i:] = T[i][3]\n",
    "    return P\n",
    "\n",
    "print(pointFromT(T_SB))\n",
    "\n",
    "\n",
    "def T_SW(T_SB=np.array) -> np.array:\n",
    "    P_B = pointFromT(T_SB)\n",
    "    T_BW = np.array([[1, 0, 0, P[0]],\n",
    "                     [0, 1, 0, P[1]],\n",
    "                     [0, 0, 1, P[2]+80],\n",
    "                     [0, 0, 0, 1]])\n",
    "    return np.dot(T_SB, T_BW)\n",
    "\n",
    "T_SW = T_SW(T_SB)\n",
    "\n",
    "print(T_SW)\n",
    "\n",
    "P_W = pointFromT(T_SW)\n",
    "\n",
    "print(P_W)\n",
    "\n",
    "theta1_i = np.arctan2(-P[1], P[0])\n",
    "\n",
    "theta1_ii = np.arctan2(P[1], -P[0])\n",
    "\n",
    "Pz, Px, Py = P_W[2], P_W[0] - np.cos(theta1_i) * a1 , P_W[1]+np.sin(theta1_ii) * a1\n",
    "\n",
    "c3 = (Pz**2 + Px**2 + Py**2 - r3**2 - r4**2) / (2 * r3 * r4)\n",
    "\n",
    "print(c3)\n",
    "#c3_ii = ((P_W[2] - (r1+r2))**2 + (P_W[0] - np.cos(theta1_i)*a1)**2 + (P_W[1]+np.sin(theta1_ii) * a1)**2) / (2 * r3 * r4)\n",
    "\n",
    "\n",
    "s3_pos = np.sqrt(1-c3)\n",
    "s3_neg = -np.sqrt(1-c3)\n",
    "\n",
    "theta3_i = np.arctan2(s3_pos, c3)*Pz\n",
    "theta3_ii = -theta3_i\n",
    "\n",
    "# dersom s3 er positiv:\n",
    "theta2_i = np.arctan2((r3+r4*c3)*Pz - r4*s3_pos*np.sqrt(Px **2 + Py**2), (r3+r4)*np.sqrt(Px**2+Py**2)+r4*s3_pos*Pz)\n",
    "theta2_ii = np.arctan2((r3+r4*c3)*Pz + r4*s3_pos*np.sqrt(Px **2 + Py**2), -(r3+r4)*np.sqrt(Px**2+Py**2)+r4*s3_pos*Pz)\n",
    "\n",
    "# dersom s3 er negativ:\n",
    "theta2_iii = np.arctan2((r3+r4*c3)*Pz - r4*s3_neg*np.sqrt(Px **2 + Py**2), (r3+r4)*np.sqrt(Px**2+Py**2)+r4*s3_neg*Pz)\n",
    "theta2_iv = np.arctan2((r3+r4*c3)*Pz + r4*s3_neg*np.sqrt(Px **2 + Py**2), -(r3+r4)*np.sqrt(Px**2+Py**2)+r4*s3_neg*Pz)\n",
    "\n",
    "\n",
    "print([theta1_i, theta2_i, theta3_i])\n",
    "# Alternative kombinasjoner\n",
    "# 1: (θ1_I,θ2_I,θ3_I)\n",
    "# 2: (θ1_I,θ2_III,θ3_II)\n",
    "# 3: (θ1_II,θ2_II,θ3_I)\n",
    "# 4: (θ1_II,θ2_IV,θ3_II)\n"
   ]
  },
  {
   "cell_type": "code",
   "execution_count": 125,
   "metadata": {},
   "outputs": [
    {
     "name": "stderr",
     "output_type": "stream",
     "text": [
      "C:\\Users\\PC\\anaconda3\\envs\\tpk4170_venv\\lib\\site-packages\\jupyter_client\\session.py:716: UserWarning: Message serialization failed with:\n",
      "Out of range float values are not JSON compliant\n",
      "Supporting this message is deprecated in jupyter-client 7, please make sure your message is JSON-compliant\n",
      "  content = self.pack(content)\n"
     ]
    },
    {
     "data": {
      "application/vnd.jupyter.widget-view+json": {
       "model_id": "738aaab75be444e1ba0e9cc4b3abd102",
       "version_major": 2,
       "version_minor": 0
      },
      "text/plain": [
       "Renderer(camera=PerspectiveCamera(aspect=1.5, children=(DirectionalLight(color='white', intensity=0.66, positi…"
      ]
     },
     "metadata": {},
     "output_type": "display_data"
    },
    {
     "name": "stdout",
     "output_type": "stream",
     "text": [
      "Number of iteration: 3\n",
      "True\n"
     ]
    }
   ],
   "source": [
    "viewer = Viewer(background=\"white\")\n",
    "viewer.add(Grid())\n",
    "\n",
    "config1 = np.array([0, -np.pi/4, np.pi/6, 0, 0, 0])\n",
    "config2 = np.array([0, -np.pi/2, np.pi/2, 0, 0, 0])\n",
    "config3 = np.array([0, 0, np.pi/2, 0, 0, 0])\n",
    "\n",
    "kr6 = KR6(theta=config1)\n",
    "# kr6.add_FK_to_viewer(viewer)\n",
    "\n",
    "print(f\"Number of iteration: {kr6.IK[3]}\")\n",
    "print(np.allclose(kr6.Tsb_dh, kr6.Tsb_IK, 0.01, 0.01))\n",
    "\n",
    "kr6.add_nIK_to_viewer(viewer)\n"
   ]
  }
 ],
 "metadata": {
  "interpreter": {
   "hash": "6117fad014f388f0b50ad03c046f22ad952a027cda758478b84391257a8ebcd3"
  },
  "kernelspec": {
   "display_name": "Python 3.8.12 64-bit ('tpk4170_venv': conda)",
   "name": "python3"
  },
  "language_info": {
   "codemirror_mode": {
    "name": "ipython",
    "version": 3
   },
   "file_extension": ".py",
   "mimetype": "text/x-python",
   "name": "python",
   "nbconvert_exporter": "python",
   "pygments_lexer": "ipython3",
   "version": "3.8.12"
  },
  "orig_nbformat": 4
 },
 "nbformat": 4,
 "nbformat_minor": 2
}
