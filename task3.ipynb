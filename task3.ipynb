{
 "cells": [
  {
   "cell_type": "code",
   "execution_count": 16,
   "metadata": {},
   "outputs": [],
   "source": [
    "from src.kr6 import KR6\n",
    "import modern_robotics as mr\n",
    "import numpy as np\n",
    "from tpk4170.visualization import Viewer\n",
    "from tpk4170.models import Grid, Axes\n",
    "from src.dh import DHFrame\n",
    "import src.tools as tools\n",
    "import sympy as sp\n",
    "np.set_printoptions(suppress=True)"
   ]
  },
  {
   "cell_type": "markdown",
   "metadata": {},
   "source": [
    "Testing analytical versus numerical for different configurations"
   ]
  },
  {
   "cell_type": "code",
   "execution_count": 17,
   "metadata": {},
   "outputs": [
    {
     "name": "stdout",
     "output_type": "stream",
     "text": [
      "[[ True  True  True  True]\n",
      " [ True  True  True  True]\n",
      " [ True  True  True  True]\n",
      " [ True  True  True  True]]\n"
     ]
    }
   ],
   "source": [
    "thetalist = np.array([0,-90,90,0,0,0])*np.pi/180\n",
    "kr6 = KR6(thetalist)\n",
    "print(np.isclose(tools.analyticalInverseKinematics(kr6.Tsb_poe)[2], kr6.Tsb_IK))"
   ]
  },
  {
   "cell_type": "code",
   "execution_count": 18,
   "metadata": {},
   "outputs": [
    {
     "name": "stdout",
     "output_type": "stream",
     "text": [
      "[[ True  True  True  True]\n",
      " [ True  True  True  True]\n",
      " [ True  True  True  True]\n",
      " [ True  True  True  True]]\n"
     ]
    }
   ],
   "source": [
    "thetalist = np.array([0,0,0,0,0,0])\n",
    "kr6 = KR6(thetalist)\n",
    "print(np.isclose(tools.analyticalInverseKinematics(kr6.Tsb_poe)[2], kr6.Tsb_IK))"
   ]
  },
  {
   "cell_type": "code",
   "execution_count": 23,
   "metadata": {},
   "outputs": [
    {
     "name": "stdout",
     "output_type": "stream",
     "text": [
      "[[ 0.30230201  0.65490275 -0.69261525  0.07125983]\n",
      " [ 0.34982431 -0.75213437 -0.55849517 -0.24985501]\n",
      " [-0.88669975 -0.07345944 -0.45647263  0.80525067]\n",
      " [ 0.          0.          0.          1.        ]]\n",
      "[[ 0.30230201 -0.65490275 -0.69261525  0.07125983]\n",
      " [-0.34982431 -0.75213437  0.55849517 -0.16049578]\n",
      " [-0.88669975  0.07345944 -0.45647263  0.80525067]\n",
      " [ 0.          0.          0.          1.        ]]\n",
      "[[ True False  True  True]\n",
      " [False  True False False]\n",
      " [ True False  True  True]\n",
      " [ True  True  True  True]]\n"
     ]
    }
   ],
   "source": [
    "thetalist = np.array([45,-90,90,10,10,10])\n",
    "kr6 = KR6(thetalist)\n",
    "print(np.isclose(tools.analyticalInverseKinematics(kr6.Tsb_poe)[2], kr6.Tsb_IK))\n",
    "print(tools.analyticalInverseKinematics(kr6.Tsb_poe)[2])\n",
    "print(kr6.Tsb_dh)"
   ]
  },
  {
   "cell_type": "code",
   "execution_count": null,
   "metadata": {},
   "outputs": [],
   "source": []
  }
 ],
 "metadata": {
  "interpreter": {
   "hash": "6117fad014f388f0b50ad03c046f22ad952a027cda758478b84391257a8ebcd3"
  },
  "kernelspec": {
   "display_name": "Python 3.8.12 64-bit ('tpk4170_venv': conda)",
   "name": "python3"
  },
  "language_info": {
   "codemirror_mode": {
    "name": "ipython",
    "version": 3
   },
   "file_extension": ".py",
   "mimetype": "text/x-python",
   "name": "python",
   "nbconvert_exporter": "python",
   "pygments_lexer": "ipython3",
   "version": "3.8.12"
  },
  "orig_nbformat": 4
 },
 "nbformat": 4,
 "nbformat_minor": 2
}
