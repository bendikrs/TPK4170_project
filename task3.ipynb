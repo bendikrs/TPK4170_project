{
 "cells": [
  {
   "cell_type": "code",
   "execution_count": 9,
   "metadata": {},
   "outputs": [],
   "source": [
    "from src.kr6 import KR6\n",
    "import modern_robotics as mr\n",
    "import numpy as np"
   ]
  },
  {
   "cell_type": "code",
   "execution_count": 11,
   "metadata": {},
   "outputs": [
    {
     "data": {
      "text/plain": [
       "(array([ 100.16159124, -618.77855132, 1244.15738289, 3282.70749718,\n",
       "         823.45523396, 1491.11752806]),\n",
       " False)"
      ]
     },
     "execution_count": 11,
     "metadata": {},
     "output_type": "execute_result"
    }
   ],
   "source": [
    "kr6 = KR6()\n",
    "mr.IKinSpace(kr6._Slist, kr6._M, np.array([[0, 1,  0,     -5],\n",
    "                      [1, 0,  0,      4],\n",
    "                      [0, 0, -1, 1.6858],\n",
    "                      [0, 0,  0,      1]]), [0,0,0,0,0,0], 0.01, 0.01)"
   ]
  }
 ],
 "metadata": {
  "interpreter": {
   "hash": "dac5994f52a285c6c57e8ca054eeba249811a086421e21f347740dfff430a8c7"
  },
  "kernelspec": {
   "display_name": "Python 3.8.12 64-bit ('tpk4170': conda)",
   "name": "python3"
  },
  "language_info": {
   "codemirror_mode": {
    "name": "ipython",
    "version": 3
   },
   "file_extension": ".py",
   "mimetype": "text/x-python",
   "name": "python",
   "nbconvert_exporter": "python",
   "pygments_lexer": "ipython3",
   "version": "3.8.12"
  },
  "orig_nbformat": 4
 },
 "nbformat": 4,
 "nbformat_minor": 2
}
