{
 "cells": [
  {
   "cell_type": "code",
   "execution_count": 1,
   "metadata": {},
   "outputs": [],
   "source": [
    "from src.kr6 import KR6\n",
    "import modern_robotics as mr\n",
    "import numpy as np\n",
    "from tpk4170.visualization import Viewer\n",
    "from tpk4170.models import Grid, Axes\n",
    "from src.dh import DHFrame\n",
    "import src.tools as tools\n",
    "import sympy as sp"
   ]
  },
  {
   "cell_type": "code",
   "execution_count": 2,
   "metadata": {},
   "outputs": [
    {
     "name": "stdout",
     "output_type": "stream",
     "text": [
      "[-45.26  -8.59 -80.21]\n",
      "True\n",
      "[-45.26 -89.95  89.95]\n",
      "True\n",
      "[ 135.22 -171.31   83.08]\n",
      "True\n",
      "[135.22 -96.26 -73.91]\n",
      "True\n"
     ]
    }
   ],
   "source": [
    "# Testing if we get 4 configurations of theta 1,2,3 that results in the same wrist position\n",
    "theta = np.pi/180*np.array([-45, -90, 90, 0,0,0])\n",
    "\n",
    "kr6 = KR6(theta) # Creating the robot with the given theta configuration\n",
    "\n",
    "P_W = tools.pointFromT(kr6.Tsw) # Getting the wrist position\n",
    "\n",
    "thetalists = np.around(kr6.aIK_thetaLists,2) # Fetching the 4 sets of thetas that should provide the same wrist position as the original input of KR6\n",
    "\n",
    "np.around(thetalists*180/np.pi,1) # Converting the thetas to degrees and rounding them to 1 decimal place\n",
    "\n",
    "# testing if the 4 configurations give the same wrist position\n",
    "for i in thetalists:\n",
    "    print(np.around(i*180/np.pi,2))\n",
    "    i = np.append(i,0)\n",
    "    i = np.append(i,0)\n",
    "    i = np.append(i,0)\n",
    "    kr6_test = KR6(i)\n",
    "    P_W_test = tools.pointFromT(kr6_test.Tsw)\n",
    "    print(np.allclose(P_W, P_W_test, 0.02))\n"
   ]
  },
  {
   "cell_type": "code",
   "execution_count": 3,
   "metadata": {},
   "outputs": [
    {
     "data": {
      "text/plain": [
       "array([[-4.5260e+01, -8.5900e+00, -8.0210e+01, -8.9990e+01,  2.6000e-01,\n",
       "         1.7974e+02],\n",
       "       [-4.5260e+01, -8.9950e+01,  8.9950e+01,  0.0000e+00,  0.0000e+00,\n",
       "        -0.0000e+00],\n",
       "       [ 1.3522e+02, -1.7131e+02,  8.3080e+01, -8.9990e+01,  2.2000e-01,\n",
       "         2.2000e-01],\n",
       "       [ 1.3522e+02, -9.6260e+01, -7.3910e+01, -9.1260e+01,  9.0000e-02,\n",
       "         2.2000e-01]])"
      ]
     },
     "execution_count": 3,
     "metadata": {},
     "output_type": "execute_result"
    }
   ],
   "source": [
    "S = kr6._Slist\n",
    "M = kr6._M\n",
    "T = kr6.Tsb_poe\n",
    "\n",
    "tools.inverseKinematicsTheta456(thetalists, T, S, M)"
   ]
  },
  {
   "cell_type": "markdown",
   "metadata": {},
   "source": [
    "### Comparing the Numerical and analytical Inverse Kinematics"
   ]
  },
  {
   "cell_type": "code",
   "execution_count": 15,
   "metadata": {},
   "outputs": [
    {
     "data": {
      "text/latex": [
       "$\\displaystyle \\left[\\begin{matrix}-0.119085298640562 & 0.686108830030491 & 0.717686118718955 & 0.37207740712553\\\\0.360930061288537 & -0.643465073232619 & 0.675042361921083 & 0.3686659065817\\\\0.92495847609822 & 0.339422116079567 & -0.171010071662834 & 0.876319194266973\\\\0.0 & 0.0 & 0.0 & 1.0\\end{matrix}\\right]$"
      ],
      "text/plain": [
       "Matrix([\n",
       "[-0.119085298640562,  0.686108830030491,  0.717686118718955,  0.37207740712553],\n",
       "[ 0.360930061288537, -0.643465073232619,  0.675042361921083,   0.3686659065817],\n",
       "[  0.92495847609822,  0.339422116079567, -0.171010071662834, 0.876319194266973],\n",
       "[               0.0,                0.0,                0.0,               1.0]])"
      ]
     },
     "execution_count": 15,
     "metadata": {},
     "output_type": "execute_result"
    }
   ],
   "source": [
    "kr6_2 = KR6((np.pi/180)*np.array([-45, -90, 90, 10,10,10]))\n",
    "sp.Matrix(kr6_2.Tsb_poe)"
   ]
  },
  {
   "cell_type": "code",
   "execution_count": 16,
   "metadata": {},
   "outputs": [
    {
     "name": "stdout",
     "output_type": "stream",
     "text": [
      "[134.95651697  89.99038072  90.0382517   10.44476434   9.95863381\n",
      "   9.54847719]\n",
      "[[ -45.     -8.8   -80.47 -110.13   -1.45 -178.5 ]\n",
      " [ -45.    -90.     90.   -100.     39.3   116.74]\n",
      " [ 135.   -171.2    83.28 -110.22    2.39    2.48]\n",
      " [ 135.    -96.3   -73.75 -105.06  -29.59  -44.19]]\n"
     ]
    }
   ],
   "source": [
    "\n",
    "print((kr6_2.IK[0]*180/np.pi)%180)\n",
    "print(kr6_2.aIK_thetaLists_Tsb)"
   ]
  }
 ],
 "metadata": {
  "interpreter": {
   "hash": "6117fad014f388f0b50ad03c046f22ad952a027cda758478b84391257a8ebcd3"
  },
  "kernelspec": {
   "display_name": "Python 3.8.12 64-bit ('tpk4170_venv': conda)",
   "name": "python3"
  },
  "language_info": {
   "codemirror_mode": {
    "name": "ipython",
    "version": 3
   },
   "file_extension": ".py",
   "mimetype": "text/x-python",
   "name": "python",
   "nbconvert_exporter": "python",
   "pygments_lexer": "ipython3",
   "version": "3.8.11"
  },
  "orig_nbformat": 4
 },
 "nbformat": 4,
 "nbformat_minor": 2
}
