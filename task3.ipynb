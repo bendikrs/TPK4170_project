{
 "cells": [
  {
   "cell_type": "code",
   "execution_count": 4,
   "metadata": {},
   "outputs": [],
   "source": [
    "from src.kr6 import KR6\n",
    "import modern_robotics as mr\n",
    "import numpy as np\n",
    "from tpk4170.visualization import Viewer\n",
    "from tpk4170.models import Grid, Axes\n",
    "from src.dh import DHFrame\n",
    "import src.tools as tools\n",
    "import sympy as sp\n"
   ]
  },
  {
   "cell_type": "code",
   "execution_count": 5,
   "metadata": {},
   "outputs": [
    {
     "name": "stdout",
     "output_type": "stream",
     "text": [
      "forventer at P_W er: \n",
      " [ 0.    -0.445  0.89 ]\n",
      "T_SW: \n",
      " [[ 0.     1.     0.     0.   ]\n",
      " [-1.     0.     0.    -0.445]\n",
      " [ 0.     0.    -1.     0.89 ]\n",
      " [ 0.     0.     0.     1.   ]] \n",
      "P_W:  [ 0.    -0.445  0.89 ]\n",
      "1.4876550949064553\n",
      "-1.4876550949064553 1.4876550949064553\n"
     ]
    },
    {
     "data": {
      "text/latex": [
       "$\\displaystyle \\left[\\begin{matrix}90.0 & 8.8 & -80.5\\\\90.0 & -90.0 & 90.0\\\\-90.0 & 171.2 & -85.2\\\\-90.0 & 90.0 & 94.8\\end{matrix}\\right]$"
      ],
      "text/plain": [
       "Matrix([\n",
       "[ 90.0,   8.8, -80.5],\n",
       "[ 90.0, -90.0,  90.0],\n",
       "[-90.0, 171.2, -85.2],\n",
       "[-90.0,  90.0,  94.8]])"
      ]
     },
     "execution_count": 5,
     "metadata": {},
     "output_type": "execute_result"
    }
   ],
   "source": [
    "\n",
    "r1, r2, r3, r4, a1, a2 = 0, 0.400, 0.455, 10**(-3)*np.sqrt(420**2+35**2), 0.025, 0.035\n",
    "køddevinkel = np.arctan2(35, 420)\n",
    "\n",
    "T_SB = np.array([[0,  1,   0, 0],\n",
    "                 [0,  0,  -1, -(0.420+0.025+0.080)],\n",
    "                 [-1, 0,   0, 0.89],\n",
    "                 [0,  0,   0, 1]])\n",
    "\n",
    "print('forventer at P_W er: \\n', tools.pointFromT(tools.makeT_SW(T_SB)))\n",
    "\n",
    "sp.Matrix((np.around(tools.inverseKinematicsTheta123(T_SB),1)))"
   ]
  },
  {
   "cell_type": "code",
   "execution_count": 6,
   "metadata": {},
   "outputs": [
    {
     "name": "stdout",
     "output_type": "stream",
     "text": [
      "T_SW: \n",
      " [[ 1.00000000e+00 -1.83697020e-16  6.12323400e-17  9.00000000e-01]\n",
      " [-1.83697020e-16 -1.00000000e+00  1.83697020e-16  3.94948593e-17]\n",
      " [-6.12323400e-17  1.83697020e-16  1.00000000e+00  4.35000000e-01]\n",
      " [ 0.00000000e+00  0.00000000e+00  0.00000000e+00  1.00000000e+00]] \n",
      "P_W:  [9.00000000e-01 3.94948593e-17 4.35000000e-01]\n",
      "0.08314123188843929\n",
      "-0.0831412318884393 0.0831412318884393\n",
      "T_SW: \n",
      " [[ 1.00000000e+00  2.33062381e-15  1.64706408e-13  9.00000000e-01]\n",
      " [ 2.33062381e-15 -1.00000000e+00  1.83697020e-16  2.30238361e-15]\n",
      " [-1.64706408e-13  1.83697020e-16  1.00000000e+00  4.35000000e-01]\n",
      " [ 0.00000000e+00  0.00000000e+00  0.00000000e+00  1.00000000e+00]] \n",
      "P_W:  [9.00000000e-01 2.30238361e-15 4.35000000e-01]\n",
      "0.083141231888331\n",
      "-0.08314123188833131 0.08314123188833131\n",
      "[[ 0.     0.     1.     0.98 ]\n",
      " [ 0.    -1.     0.     0.   ]\n",
      " [ 1.     0.     0.     0.435]\n",
      " [ 0.     0.     0.     1.   ]]\n",
      "[0.9   0.    0.435]\n",
      "[0.9   0.    0.435]\n",
      "True\n",
      "T_SW: \n",
      " [[ 2.31553534e-01  2.47178514e-15 -9.72822163e-01  2.86928548e-02]\n",
      " [ 5.77207388e-16 -1.00000000e+00 -2.40345134e-15  9.88890116e-17]\n",
      " [ 9.72822163e-01  4.99248767e-18  2.31553534e-01  3.65598274e-01]\n",
      " [ 0.00000000e+00  0.00000000e+00  0.00000000e+00  1.00000000e+00]] \n",
      "P_W:  [2.86928548e-02 9.88890116e-17 3.65598274e-01]\n",
      "3.1222284647953695\n",
      "-3.12222846479537 3.12222846479537\n",
      "[[ 0.     0.     1.     0.98 ]\n",
      " [ 0.    -1.     0.     0.   ]\n",
      " [ 1.     0.     0.     0.435]\n",
      " [ 0.     0.     0.     1.   ]]\n",
      "[0.02869285 0.         0.36559827]\n",
      "[0.9   0.    0.435]\n",
      "False\n",
      "T_SW: \n",
      " [[-4.60479919e-01  8.01152636e-01  3.82246908e-01 -3.20241492e-02]\n",
      " [ 6.16439960e-01  5.98460069e-01 -5.11710193e-01  4.28704150e-02]\n",
      " [ 6.38717481e-01 -1.29388379e-16  7.69441342e-01  1.05971624e+00]\n",
      " [ 0.00000000e+00  0.00000000e+00  0.00000000e+00  1.00000000e+00]] \n",
      "P_W:  [-0.03202415  0.04287042  1.05971624]\n",
      "1.4364023845650784\n",
      "-1.4364023845650784 1.4364023845650784\n",
      "[[ 0.     0.     1.     0.98 ]\n",
      " [ 0.    -1.     0.     0.   ]\n",
      " [ 1.     0.     0.     0.435]\n",
      " [ 0.     0.     0.     1.   ]]\n",
      "[-0.03202415  0.04287042  1.05971624]\n",
      "[0.9   0.    0.435]\n",
      "False\n",
      "T_SW: \n",
      " [[-2.15048849e-01  8.01152636e-01  5.58487643e-01 -3.23328350e-01]\n",
      " [ 2.87883789e-01  5.98460069e-01 -7.47641940e-01  4.32836497e-01]\n",
      " [ 9.33207864e-01 -1.83485384e-16  3.59337005e-01  1.02680702e+00]\n",
      " [ 0.00000000e+00  0.00000000e+00  0.00000000e+00  1.00000000e+00]] \n",
      "P_W:  [-0.32332835  0.4328365   1.02680702]\n",
      "0.7759715236429036\n",
      "-0.7759715236429036 0.7759715236429036\n",
      "[[ 0.     0.     1.     0.98 ]\n",
      " [ 0.    -1.     0.     0.   ]\n",
      " [ 1.     0.     0.     0.435]\n",
      " [ 0.     0.     0.     1.   ]]\n",
      "[-0.32332835  0.4328365   1.02680702]\n",
      "[0.9   0.    0.435]\n",
      "False\n",
      "None\n"
     ]
    },
    {
     "data": {
      "application/vnd.jupyter.widget-view+json": {
       "model_id": "94570e0fe1934c2099d0817dd77d92d2",
       "version_major": 2,
       "version_minor": 0
      },
      "text/plain": [
       "Renderer(camera=PerspectiveCamera(aspect=1.5, children=(DirectionalLight(color='white', intensity=0.66, positi…"
      ]
     },
     "metadata": {},
     "output_type": "display_data"
    },
    {
     "name": "stdout",
     "output_type": "stream",
     "text": [
      "T_SW: \n",
      " [[ 9.65925826e-01 -1.77437696e-16 -2.58819045e-01  7.43363766e-01]\n",
      " [-1.36152733e-16 -1.00000000e+00  1.77437696e-16  1.18345884e-16]\n",
      " [ 2.58819045e-01  1.36152733e-16  9.65925826e-01  8.64244988e-01]\n",
      " [ 0.00000000e+00  0.00000000e+00  0.00000000e+00  1.00000000e+00]] \n",
      "P_W:  [7.43363766e-01 1.18345884e-16 8.64244988e-01]\n",
      "0.44045754370985635\n",
      "-0.4404575437098564 0.4404575437098564\n"
     ]
    }
   ],
   "source": [
    "\n",
    "config_fasit = np.array([0,-np.pi/4, np.pi/6, 0,0,0])\n",
    "\n",
    "config2 = np.array([0, -np.pi/2, np.pi/2, 0, 0, 0])\n",
    "config3 = np.array([0, np.pi/2, 0, 0, 0, 0])\n",
    "\n",
    "\n",
    "\n",
    "\n",
    "def test_a_IK(config_fasit):\n",
    "\n",
    "    kr6_fasit = KR6(config_fasit)\n",
    "\n",
    "    P_SW_fasit = tools.pointFromT(kr6_fasit.Tsw) # define the point of the wrist\n",
    "\n",
    "    thetalist = kr6_fasit.aIK_thetaLists # Fetching the analytical solution(s)\n",
    "\n",
    "    for el in thetalist:\n",
    "        config_test = np.array([el[0], el[1], el[2], 0,0,0])\n",
    "\n",
    "        kr6_test = KR6(config_test)\n",
    "\n",
    "        P_SW_test = tools.pointFromT(kr6_test.Tsw)\n",
    "\n",
    "        print(kr6_fasit.Tsb_poe)\n",
    "        # print(kr6_fasit.Tsw)\n",
    "        print(P_SW_test)\n",
    "        print(P_SW_fasit)\n",
    "\n",
    "        print(np.allclose(P_SW_fasit, P_SW_test, 0.01, 0.01))\n",
    "\n",
    "print(test_a_IK(np.array([0, 0, 0, 0, 0, 0])))\n",
    "\n",
    "# kr6.add_FK_to_viewer(viewer)\n",
    "\n",
    "# print(f\"Number of iteration: {kr6.IK[3]}\")\n",
    "\n",
    "# kr6.add_nIK_to_viewer(viewer)\n",
    "viewer = Viewer(background=\"white\")\n",
    "viewer.add(Grid())\n",
    "KR6(config_fasit).add_FK_to_viewer(viewer)\n"
   ]
  },
  {
   "cell_type": "code",
   "execution_count": null,
   "metadata": {},
   "outputs": [],
   "source": []
  }
 ],
 "metadata": {
  "interpreter": {
   "hash": "6117fad014f388f0b50ad03c046f22ad952a027cda758478b84391257a8ebcd3"
  },
  "kernelspec": {
   "display_name": "Python 3.8.12 64-bit ('tpk4170_venv': conda)",
   "name": "python3"
  },
  "language_info": {
   "codemirror_mode": {
    "name": "ipython",
    "version": 3
   },
   "file_extension": ".py",
   "mimetype": "text/x-python",
   "name": "python",
   "nbconvert_exporter": "python",
   "pygments_lexer": "ipython3",
   "version": "3.8.12"
  },
  "orig_nbformat": 4
 },
 "nbformat": 4,
 "nbformat_minor": 2
}
