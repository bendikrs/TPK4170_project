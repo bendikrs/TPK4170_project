{
 "cells": [
  {
   "cell_type": "code",
   "execution_count": 1,
   "metadata": {},
   "outputs": [],
   "source": [
    "from src.kr6 import KR6\n",
    "import modern_robotics as mr\n",
    "import numpy as np\n",
    "from tpk4170.visualization import Viewer\n",
    "from tpk4170.models import Grid, Axes\n",
    "from src.dh import DHFrame\n",
    "import src.tools as tools\n",
    "import sympy as sp\n"
   ]
  },
  {
   "cell_type": "code",
   "execution_count": 5,
   "metadata": {},
   "outputs": [
    {
     "name": "stdout",
     "output_type": "stream",
     "text": [
      "[0.445 0.    0.89 ]\n",
      "0.08304547985373995\n"
     ]
    },
    {
     "data": {
      "text/latex": [
       "$\\displaystyle \\left[\\begin{matrix}0 & 8.7974107 & 85.2363583\\\\0 & 90.0 & -85.2363583\\\\180.0 & 171.2025893 & 85.2363583\\\\180.0 & 90.0 & -85.2363583\\end{matrix}\\right]$"
      ],
      "text/plain": [
       "Matrix([\n",
       "[    0,   8.7974107,  85.2363583],\n",
       "[    0,        90.0, -85.2363583],\n",
       "[180.0, 171.2025893,  85.2363583],\n",
       "[180.0,        90.0, -85.2363583]])"
      ]
     },
     "execution_count": 5,
     "metadata": {},
     "output_type": "execute_result"
    }
   ],
   "source": [
    "\n",
    "r1, r2, r3, r4, a1, a2 = 0, 0.400, 0.455, 10**(-3)*np.sqrt(420**2+35**2), 0.025, 0.035\n",
    "køddevinkel = np.arctan2(35, 420)\n",
    "\n",
    "\n",
    "T_SB = np.array([[0,  0, 1, 0.525],\n",
    "                 [0, -1, 0, 0],\n",
    "                 [1,  0, 0, 0.89],\n",
    "                 [0,  0, 0, 1]])\n",
    "\n",
    "\n",
    "\n",
    "\n",
    "sp.Matrix(np.around(tools.inverseKinematicsTheta123(T_SB),7))\n"
   ]
  },
  {
   "cell_type": "code",
   "execution_count": 3,
   "metadata": {},
   "outputs": [
    {
     "name": "stdout",
     "output_type": "stream",
     "text": [
      "[9.00000000e-01 3.94948593e-17 4.35000000e-01]\n",
      "0.9965457582448798\n",
      "[4.66563035e-01 1.28353537e-15 8.21241167e-01]\n",
      "-0.03188311736686809\n",
      "[[ 0.     0.     1.     0.98 ]\n",
      " [ 0.    -1.     0.     0.   ]\n",
      " [ 1.     0.     0.     0.435]\n",
      " [ 0.     0.     0.     1.   ]]\n",
      "[0.46656233 0.         0.82124157]\n",
      "[0.9   0.    0.435]\n",
      "False\n",
      "[3.72170796e-01 1.07200551e-15 9.61703504e-01]\n",
      "0.13398974287493645\n",
      "[[ 0.     0.     1.     0.98 ]\n",
      " [ 0.    -1.     0.     0.   ]\n",
      " [ 1.     0.     0.     0.435]\n",
      " [ 0.     0.     0.     1.   ]]\n",
      "[0.3721708 0.        0.9617035]\n",
      "[0.9   0.    0.435]\n",
      "False\n",
      "[ 0.34515376 -0.46205396  0.50166234]\n",
      "-0.08574162905956745\n",
      "[[ 0.     0.     1.     0.98 ]\n",
      " [ 0.    -1.     0.     0.   ]\n",
      " [ 1.     0.     0.     0.435]\n",
      " [ 0.     0.     0.     1.   ]]\n",
      "[ 0.34515376 -0.46205396  0.50166234]\n",
      "[0.9   0.    0.435]\n",
      "False\n",
      "[-0.40415208  0.54103443  0.28544767]\n",
      "0.24700751198530518\n",
      "[[ 0.     0.     1.     0.98 ]\n",
      " [ 0.    -1.     0.     0.   ]\n",
      " [ 1.     0.     0.     0.435]\n",
      " [ 0.     0.     0.     1.   ]]\n",
      "[-0.40415208  0.54103443  0.28544767]\n",
      "[0.9   0.    0.435]\n",
      "False\n",
      "None\n"
     ]
    },
    {
     "name": "stderr",
     "output_type": "stream",
     "text": [
      "C:\\Users\\test\\anaconda3\\envs\\tpk4170_venv\\lib\\site-packages\\jupyter_client\\session.py:716: UserWarning: Message serialization failed with:\n",
      "Out of range float values are not JSON compliant\n",
      "Supporting this message is deprecated in jupyter-client 7, please make sure your message is JSON-compliant\n",
      "  content = self.pack(content)\n"
     ]
    },
    {
     "data": {
      "application/vnd.jupyter.widget-view+json": {
       "model_id": "c94263bbeddc4eb1a4c4abe1f16794bb",
       "version_major": 2,
       "version_minor": 0
      },
      "text/plain": [
       "Renderer(camera=PerspectiveCamera(aspect=1.5, children=(DirectionalLight(color='white', intensity=0.66, positi…"
      ]
     },
     "metadata": {},
     "output_type": "display_data"
    },
    {
     "name": "stdout",
     "output_type": "stream",
     "text": [
      "[7.43363766e-01 1.18345884e-16 8.64244988e-01]\n",
      "0.904556682600562\n"
     ]
    }
   ],
   "source": [
    "\n",
    "config_fasit = np.array([0,-np.pi/4, np.pi/6, 0,0,0])\n",
    "\n",
    "config2 = np.array([0, -np.pi/2, np.pi/2, 0, 0, 0])\n",
    "config3 = np.array([0, np.pi/2, 0, 0, 0, 0])\n",
    "\n",
    "\n",
    "\n",
    "\n",
    "def test_a_IK(config_fasit):\n",
    "\n",
    "    kr6_fasit = KR6(config_fasit)\n",
    "\n",
    "    P_SW_fasit = tools.pointFromT(kr6_fasit.Tsw) # define the point of the wrist\n",
    "\n",
    "    thetalist = kr6_fasit.aIK_thetaLists # Fetching the analytical solution(s)\n",
    "\n",
    "    for el in thetalist:\n",
    "        config_test = np.array([el[0], el[1], el[2], 0,0,0])\n",
    "\n",
    "        kr6_test = KR6(config_test)\n",
    "\n",
    "        P_SW_test = tools.pointFromT(kr6_test.Tsw)\n",
    "\n",
    "        print(kr6_fasit.Tsb_poe)\n",
    "        # print(kr6_fasit.Tsw)\n",
    "        print(P_SW_test)\n",
    "        print(P_SW_fasit)\n",
    "\n",
    "        print(np.allclose(P_SW_fasit, P_SW_test, 0.01, 0.01))\n",
    "\n",
    "print(test_a_IK(np.array([0, 0, 0, 0, 0, 0])))\n",
    "\n",
    "# kr6.add_FK_to_viewer(viewer)\n",
    "\n",
    "# print(f\"Number of iteration: {kr6.IK[3]}\")\n",
    "\n",
    "# kr6.add_nIK_to_viewer(viewer)\n",
    "viewer = Viewer(background=\"white\")\n",
    "viewer.add(Grid())\n",
    "KR6(config_fasit).add_FK_to_viewer(viewer)\n"
   ]
  },
  {
   "cell_type": "code",
   "execution_count": null,
   "metadata": {},
   "outputs": [],
   "source": []
  }
 ],
 "metadata": {
  "interpreter": {
   "hash": "f16335faa6d3b940ab5be5792e7ab57ce08bd6bc042e5eebb8b008fcab4677c2"
  },
  "kernelspec": {
   "display_name": "Python 3.8.12 64-bit ('tpk4170_venv': conda)",
   "name": "python3"
  },
  "language_info": {
   "codemirror_mode": {
    "name": "ipython",
    "version": 3
   },
   "file_extension": ".py",
   "mimetype": "text/x-python",
   "name": "python",
   "nbconvert_exporter": "python",
   "pygments_lexer": "ipython3",
   "version": "3.8.12"
  },
  "orig_nbformat": 4
 },
 "nbformat": 4,
 "nbformat_minor": 2
}
