{
 "cells": [
  {
   "cell_type": "code",
   "execution_count": 1,
   "metadata": {},
   "outputs": [],
   "source": [
    "from src.kr6 import KR6\n",
    "import modern_robotics as mr\n",
    "import numpy as np\n",
    "from tpk4170.visualization import Viewer\n",
    "from tpk4170.models import Grid, Axes\n",
    "from src.dh import DHFrame\n",
    "import src.tools as tools\n",
    "import sympy as sp\n"
   ]
  },
  {
   "cell_type": "code",
   "execution_count": 21,
   "metadata": {},
   "outputs": [
    {
     "data": {
      "text/plain": [
       "array([[  -0.        ,   -8.59436693,  -80.21409132],\n",
       "       [  -0.        ,  -89.95437384,   89.95437384],\n",
       "       [ 179.90874767, -171.31438074,   83.07888029],\n",
       "       [ 179.90874767,  -96.25690958,  -73.91155557]])"
      ]
     },
     "execution_count": 21,
     "metadata": {},
     "output_type": "execute_result"
    }
   ],
   "source": [
    "\n",
    "# r1, r2, r3, r4, a1, a2 = 0, 0.400, 0.455, 10**(-3)*np.sqrt(420**2+35**2), 0.025, 0.035\n",
    "# køddevinkel = np.arctan2(35, 420)\n",
    "\n",
    "T_SB = np.array([[0,  1,   0, 0],\n",
    "                 [0,  0,  -1, -(0.420+0.025+0.080)],\n",
    "                 [-1, 0,   0, 0.89],\n",
    "                 [0,  0,   0, 1]])\n",
    "\n",
    "#print('forventer at P_W er: \\n', tools.pointFromT(tools.makeT_SW(T_SB)))\n",
    "\n",
    "theta = np.pi/180*np.array([0, -90, 90, 0, 0, 0])\n",
    "theta1 = np.pi/180*np.array([0, -90, 90, 0, 0, 0])\n",
    "\n",
    "kr6 = KR6(theta)\n",
    "\n",
    "thetalists = np.around(kr6.aIK_thetaLists,2)\n",
    "\n",
    "thetalists * 180/np.pi"
   ]
  },
  {
   "cell_type": "code",
   "execution_count": 22,
   "metadata": {},
   "outputs": [
    {
     "data": {
      "text/plain": [
       "array([ -0.        , -89.95437384,  89.95437384,   0.        ,\n",
       "         0.        , 180.        ])"
      ]
     },
     "execution_count": 22,
     "metadata": {},
     "output_type": "execute_result"
    }
   ],
   "source": [
    "thetalist = tools.inverseKinematicsTheta456(thetalists[1], kr6.Tsb_poe,kr6._Slist,kr6._M)\n",
    "thetalist*=180/np.pi\n",
    "thetalist"
   ]
  },
  {
   "cell_type": "code",
   "execution_count": 31,
   "metadata": {},
   "outputs": [
    {
     "name": "stdout",
     "output_type": "stream",
     "text": [
      "False\n"
     ]
    },
    {
     "data": {
      "text/plain": [
       "array([  0., -90.,  90.,   0.,   0.,   0.])"
      ]
     },
     "execution_count": 31,
     "metadata": {},
     "output_type": "execute_result"
    }
   ],
   "source": [
    "print(np.allclose(tools.IKinSpace_our(kr6._Slist,kr6._M,kr6.Tsb_poe,theta1,0.01,0.01)[0],thetalist,0.1))\n",
    "tools.IKinSpace_our(kr6._Slist,kr6._M,kr6.Tsb_poe,theta1,0.01,0.01)[0]*180/np.pi\n"
   ]
  },
  {
   "cell_type": "code",
   "execution_count": 5,
   "metadata": {},
   "outputs": [
    {
     "ename": "IndentationError",
     "evalue": "unexpected indent (Temp/ipykernel_16636/4127285732.py, line 16)",
     "output_type": "error",
     "traceback": [
      "\u001b[1;36m  File \u001b[1;32m\"C:\\Users\\Simen\\AppData\\Local\\Temp/ipykernel_16636/4127285732.py\"\u001b[1;36m, line \u001b[1;32m16\u001b[0m\n\u001b[1;33m    th4 = -th4\u001b[0m\n\u001b[1;37m    ^\u001b[0m\n\u001b[1;31mIndentationError\u001b[0m\u001b[1;31m:\u001b[0m unexpected indent\n"
     ]
    }
   ],
   "source": [
    "\n",
    "# th4, th5, th6 = sp.symbols(\"theta_4 theta_5 theta_6\")\n",
    "\n",
    "# def rotX_sp(th):\n",
    "#     x = sp.Matrix([[1, 0, 0],\n",
    "#                [0, sp.cos(th), -sp.sin(th)],\n",
    "#                [0, sp.sin(th), sp.cos(th)]])\n",
    "#     return x\n",
    "\n",
    "# def rotZ_sp(th):\n",
    "#     z = sp.Matrix([[sp.cos(th), -sp.sin(th), 0],\n",
    "#                [sp.sin(th), sp.cos(th), 0],\n",
    "#                [0, 0, 0]])\n",
    "#     return z\n",
    "\n",
    "# def rotxyx(th4,th5,th6):\n",
    "    th4 = -th4\n",
    "    th6 = -th6\n",
    "    # c4, s4 = sp.cos(th4), sp.sin(th4)\n",
    "    # c5, s5 = sp.cos(th5), sp.sin(th5)\n",
    "    # c6, s6 = sp.cos(th6), sp.sin(th6)\n",
    "\n",
    "    # x = sp.Matrix([[1, 0, 0],\n",
    "    #            [0, sp.cos(th4), -sp.sin(th4)],\n",
    "    #            [0, sp.sin(th4), sp.cos(th4)]])\n",
    "\n",
    "    # y = sp.Matrix([[sp.cos(th5), 0, sp.sin(th5)],\n",
    "    #            [0, 0, 0],\n",
    "    #            [-sp.sin(th5), 0, sp.cos(th5)]])\n",
    "\n",
    "    # x2 = sp.Matrix([[1, 0, 0],\n",
    "    #            [0, sp.cos(th6), -sp.sin(th6)],\n",
    "    #            [0, sp.sin(th6), sp.cos(th6)]])\n",
    "\n",
    "    # z = sp.Matrix([[sp.cos(th6), -sp.sin(th6), 0],\n",
    "    #            [sp.sin(th6), sp.cos(th6), 0],\n",
    "    #            [0, 0, 0]])\n",
    "    \n",
    "    R_45 = sp.Matrix([[sp.cos(th4), -sp.sin(th4), 0],\n",
    "               [sp.sin(th4), sp.cos(th4), 0],\n",
    "               [0, 0, 0]]) @ sp.Matrix([[1, 0, 0],\n",
    "               [0, sp.cos(-PI/2), -sp.sin(-PI/2)],\n",
    "               [0, sp.sin(-PI/2), sp.cos(-PI/2)]])\n",
    "\n",
    "    R_56 = sp.Matrix([[sp.cos(th5), -sp.sin(th5), 0],\n",
    "               [sp.sin(th5), sp.cos(th5), 0],\n",
    "               [0, 0, 0]]) @ sp.Matrix([[1, 0, 0],\n",
    "               [0, sp.cos(PI/2), -sp.sin(PI/2)],\n",
    "               [0, sp.sin(PI/2), sp.cos(PI/2)]])\n",
    "\n",
    "\n",
    "    R_6B = sp.Matrix([[sp.cos(th6), -sp.sin(th6), 0],\n",
    "               [sp.sin(th6), sp.cos(th6), 0],\n",
    "               [0, 0, 0]]) @ sp.Matrix([[1, 0, 0],\n",
    "               [0, sp.cos(PI), -sp.sin(PI)],\n",
    "               [0, sp.sin(PI), sp.cos(PI)]])\n",
    "    # rot_youtube = sp.Matrix([[c4*s5*c6 - s4*s6, -c4*s5*s6 - s4*c6, -c4*c5],\n",
    "    #                [s4*s5*c6 + c4*s6, -s4*s5*s6 + c4*c6, -s4*c5],\n",
    "    #                [c5*c6, -c5*s6, s5]])\n",
    "\n",
    "    # x = sp.Matrix([[, , ],\n",
    "    #                [, , c4],\n",
    "    #                [, , ]])\n",
    "    # x = sp.Matrix([[1, 0, 0],\n",
    "    #                [0, 0, 0],\n",
    "    #                [0, 0, 0]])\n",
    "    # x = sp.Matrix([[1, 0, 0],\n",
    "    #                [0, 0, 0],\n",
    "    #                [0, 0, 0]])\n",
    "    return R_45,R_56,R_6B\n",
    "\n",
    "# print(np.around(R_4B,2))\n",
    "# print(np.arccos(-1))\n",
    "# PI = np.pi\n",
    "# R_45 = rotZ_sp(th4) @ rotX_sp(-PI/2)\n",
    "# R_56 = rotZ_sp(th5) @ rotX_sp(PI/2) \n",
    "# R_6B = rotZ_sp(th6) @ rotX_sp(PI)\n",
    "# R_45.evalf(1)*R_56.evalf(1)*R_6B.evalf(1)\n"
   ]
  },
  {
   "cell_type": "code",
   "execution_count": null,
   "metadata": {},
   "outputs": [],
   "source": [
    "# config_fasit = np.array([0,-np.pi/4, np.pi/6, 0,0,0])\n",
    "# config2 = np.array([0, -np.pi/2, np.pi/2, 0, 0, 0])\n",
    "# config3 = np.array([0, np.pi/2, 0, 0, 0, 0])\n",
    "\n",
    "\n",
    "\n",
    "\n",
    "\n",
    "# # kr6.add_FK_to_viewer(viewer)\n",
    "\n",
    "# # print(f\"Number of iteration: {kr6.IK[3]}\")\n",
    "\n",
    "# # kr6.add_nIK_to_viewer(viewer)\n",
    "# viewer = Viewer(background=\"white\")\n",
    "# viewer.add(Grid())\n",
    "# KR6(config_fasit).add_FK_to_viewer(viewer)\n"
   ]
  },
  {
   "cell_type": "code",
   "execution_count": null,
   "metadata": {},
   "outputs": [],
   "source": []
  }
 ],
 "metadata": {
  "interpreter": {
   "hash": "6117fad014f388f0b50ad03c046f22ad952a027cda758478b84391257a8ebcd3"
  },
  "kernelspec": {
   "display_name": "Python 3.8.12 64-bit ('tpk4170_venv': conda)",
   "name": "python3"
  },
  "language_info": {
   "codemirror_mode": {
    "name": "ipython",
    "version": 3
   },
   "file_extension": ".py",
   "mimetype": "text/x-python",
   "name": "python",
   "nbconvert_exporter": "python",
   "pygments_lexer": "ipython3",
   "version": "3.8.12"
  },
  "orig_nbformat": 4
 },
 "nbformat": 4,
 "nbformat_minor": 2
}
