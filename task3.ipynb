{
 "cells": [
  {
   "cell_type": "code",
   "execution_count": 1,
   "metadata": {},
   "outputs": [],
   "source": [
    "from src.kr6 import KR6\n",
    "import modern_robotics as mr\n",
    "import numpy as np\n",
    "from tpk4170.visualization import Viewer\n",
    "from tpk4170.models import Grid, Axes\n",
    "from src.dh import DHFrame\n",
    "import src.tools as tools\n",
    "import sympy as sp\n"
   ]
  },
  {
   "cell_type": "code",
   "execution_count": 8,
   "metadata": {},
   "outputs": [
    {
     "name": "stdout",
     "output_type": "stream",
     "text": [
      "Matrix([[-45.0000000000000, -8.80000000000000, -80.5000000000000], [-45.0000000000000, -90.0000000000000, 90.0000000000000], [135.000000000000, -171.300000000000, 83.3000000000000], [135.000000000000, -96.3000000000000, -73.8000000000000]])\n",
      "90.0\n",
      "[[ 0.  0.  0. -1.  0. -1.]\n",
      " [ 0.  1.  1.  0.  1.  0.]\n",
      " [-1.  0.  0.  0.  0.  0.]]\n"
     ]
    }
   ],
   "source": [
    "\n",
    "r1, r2, r3, r4, a1, a2 = 0, 0.400, 0.455, 10**(-3)*np.sqrt(420**2+35**2), 0.025, 0.035\n",
    "køddevinkel = np.arctan2(35, 420)\n",
    "\n",
    "T_SB = np.array([[0,  1,   0, 0],\n",
    "                 [0,  0,  -1, -(0.420+0.025+0.080)],\n",
    "                 [-1, 0,   0, 0.89],\n",
    "                 [0,  0,   0, 1]])\n",
    "\n",
    "#print('forventer at P_W er: \\n', tools.pointFromT(tools.makeT_SW(T_SB)))\n",
    "\n",
    "sp.Matrix((np.around(tools.inverseKinematicsTheta123(T_SB),1)))\n",
    "\n",
    "theta = np.pi/180*np.array([-45, -90, 90, 0, 0, 0])\n",
    " \n",
    "kr6 = KR6(theta)\n",
    "\n",
    "T = kr6.Tsb_IK\n",
    "\n",
    "sp.Matrix(np.around(T,2))\n",
    "\n",
    "# T = np.array([[0,  -0.5,   -0.5, 0.371231],\n",
    "#               [0,   0.5,    0,   0.371231],\n",
    "#               [1,    0,   -0.5, 890],\n",
    "#               [0,     0,    0,   1]])\n",
    "\n",
    "# print(tools.pointFromT(T))\n",
    "\n",
    "# sp.Matrix(T)\n",
    "\n",
    "\n",
    "\n",
    "print(sp.Matrix((np.around(tools.inverseKinematicsTheta123(T),1))))\n",
    "tools.inverseKinematicsTheta456(T)\n",
    "\n",
    "\n",
    "kr6=KR6(np.pi/180*np.array([-45, -90, 90, 0, 0, 0]))\n",
    "\n",
    "S_1to3 = np.array([kr6._Slist[0], kr6._Slist[1], kr6._Slist[2]])\n",
    "\n",
    "print(S_1to3)\n",
    "\n",
    "sp.Matrix(tools.inverseKinematicsTheta456(T, S_1to3, ))"
   ]
  },
  {
   "cell_type": "code",
   "execution_count": 3,
   "metadata": {},
   "outputs": [
    {
     "name": "stderr",
     "output_type": "stream",
     "text": [
      "c:\\Users\\test\\git\\TPK4170_project-1\\src\\tools.py:160: RuntimeWarning: invalid value encountered in sqrt\n",
      "  s3_pos = np.sqrt(1-c3**2)\n",
      "c:\\Users\\test\\git\\TPK4170_project-1\\src\\tools.py:161: RuntimeWarning: invalid value encountered in sqrt\n",
      "  s3_neg = -np.sqrt(1-c3**2)\n"
     ]
    },
    {
     "name": "stdout",
     "output_type": "stream",
     "text": [
      "[[ 0.     0.     1.     0.98 ]\n",
      " [ 0.    -1.     0.     0.   ]\n",
      " [ 1.     0.     0.     0.435]\n",
      " [ 0.     0.     0.     1.   ]]\n",
      "[0.9   0.    0.435]\n",
      "[0.9   0.    0.435]\n",
      "True\n",
      "[[ 0.     0.     1.     0.98 ]\n",
      " [ 0.    -1.     0.     0.   ]\n",
      " [ 1.     0.     0.     0.435]\n",
      " [ 0.     0.     0.     1.   ]]\n",
      "[0.02869285 0.         0.36559827]\n",
      "[0.9   0.    0.435]\n",
      "False\n",
      "[[ 0.     0.     1.     0.98 ]\n",
      " [ 0.    -1.     0.     0.   ]\n",
      " [ 1.     0.     0.     0.435]\n",
      " [ 0.     0.     0.     1.   ]]\n",
      "[nan nan nan]\n",
      "[0.9   0.    0.435]\n",
      "False\n",
      "[[ 0.     0.     1.     0.98 ]\n",
      " [ 0.    -1.     0.     0.   ]\n",
      " [ 1.     0.     0.     0.435]\n",
      " [ 0.     0.     0.     1.   ]]\n",
      "[nan nan nan]\n",
      "[0.9   0.    0.435]\n",
      "False\n",
      "None\n"
     ]
    },
    {
     "name": "stderr",
     "output_type": "stream",
     "text": [
      "C:\\Users\\test\\anaconda3\\envs\\tpk4170_venv\\lib\\site-packages\\jupyter_client\\session.py:716: UserWarning: Message serialization failed with:\n",
      "Out of range float values are not JSON compliant\n",
      "Supporting this message is deprecated in jupyter-client 7, please make sure your message is JSON-compliant\n",
      "  content = self.pack(content)\n"
     ]
    },
    {
     "data": {
      "application/vnd.jupyter.widget-view+json": {
       "model_id": "dba20092409e47b5b0ca1ce196abc03a",
       "version_major": 2,
       "version_minor": 0
      },
      "text/plain": [
       "Renderer(camera=PerspectiveCamera(aspect=1.5, children=(DirectionalLight(color='white', intensity=0.66, positi…"
      ]
     },
     "metadata": {},
     "output_type": "display_data"
    }
   ],
   "source": [
    "config_fasit = np.array([0,-np.pi/4, np.pi/6, 0,0,0])\n",
    "config2 = np.array([0, -np.pi/2, np.pi/2, 0, 0, 0])\n",
    "config3 = np.array([0, np.pi/2, 0, 0, 0, 0])\n",
    "\n",
    "\n",
    "\n",
    "\n",
    "def test_a_IK(config_fasit):\n",
    "\n",
    "    kr6_fasit = KR6(config_fasit)\n",
    "\n",
    "    P_SW_fasit = tools.pointFromT(kr6_fasit.Tsw) # define the point of the wrist\n",
    "\n",
    "    thetalist = kr6_fasit.aIK_thetaLists # Fetching the analytical solution(s)\n",
    "\n",
    "    for el in thetalist:\n",
    "        config_test = np.array([el[0], el[1], el[2], 0,0,0])\n",
    "\n",
    "        kr6_test = KR6(config_test)\n",
    "\n",
    "        P_SW_test = tools.pointFromT(kr6_test.Tsw)\n",
    "\n",
    "        print(kr6_fasit.Tsb_poe)\n",
    "        # print(kr6_fasit.Tsw)\n",
    "        print(P_SW_test)\n",
    "        print(P_SW_fasit)\n",
    "\n",
    "        print(np.allclose(P_SW_fasit, P_SW_test, 0.01, 0.01))\n",
    "\n",
    "print(test_a_IK(np.array([0, 0, 0, 0, 0, 0])))\n",
    "\n",
    "# kr6.add_FK_to_viewer(viewer)\n",
    "\n",
    "# print(f\"Number of iteration: {kr6.IK[3]}\")\n",
    "\n",
    "# kr6.add_nIK_to_viewer(viewer)\n",
    "viewer = Viewer(background=\"white\")\n",
    "viewer.add(Grid())\n",
    "KR6(config_fasit).add_FK_to_viewer(viewer)\n"
   ]
  },
  {
   "cell_type": "code",
   "execution_count": null,
   "metadata": {},
   "outputs": [],
   "source": []
  }
 ],
 "metadata": {
  "interpreter": {
   "hash": "6117fad014f388f0b50ad03c046f22ad952a027cda758478b84391257a8ebcd3"
  },
  "kernelspec": {
   "display_name": "Python 3.8.12 64-bit ('tpk4170_venv': conda)",
   "name": "python3"
  },
  "language_info": {
   "codemirror_mode": {
    "name": "ipython",
    "version": 3
   },
   "file_extension": ".py",
   "mimetype": "text/x-python",
   "name": "python",
   "nbconvert_exporter": "python",
   "pygments_lexer": "ipython3",
   "version": "3.8.12"
  },
  "orig_nbformat": 4
 },
 "nbformat": 4,
 "nbformat_minor": 2
}
