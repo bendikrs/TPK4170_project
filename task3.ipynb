{
 "cells": [
  {
   "cell_type": "code",
   "execution_count": 4,
   "metadata": {},
   "outputs": [],
   "source": [
    "from src.kr6 import KR6\n",
    "import modern_robotics as mr\n",
    "import numpy as np\n",
    "from tpk4170.visualization import Viewer\n",
    "from tpk4170.models import Grid, Axes\n",
    "from src.dh import DHFrame\n",
    "import src.tools as tools\n",
    "import sympy as sp"
   ]
  },
  {
   "cell_type": "code",
   "execution_count": 5,
   "metadata": {},
   "outputs": [
    {
     "name": "stdout",
     "output_type": "stream",
     "text": [
      "[-45.26  -8.59 -80.21]\n",
      "True\n",
      "[-45.26 -89.95  89.95]\n",
      "True\n",
      "[ 135.22 -171.31   83.08]\n",
      "True\n",
      "[135.22 -96.26 -73.91]\n",
      "True\n"
     ]
    }
   ],
   "source": [
    "# Testing if we get 4 configurations of theta 1,2,3 that results in the same wrist position\n",
    "theta = np.pi/180*np.array([-45, -90, 90, 0,0,0])\n",
    "\n",
    "kr6 = KR6(theta) # Creating the robot with the given theta configuration\n",
    "\n",
    "P_W = tools.pointFromT(kr6.Tsw) # Getting the wrist position\n",
    "\n",
    "thetalists = np.around(kr6.aIK_thetaLists,2) # Fetching the 4 sets of thetas that should provide the same wrist position as the original input of KR6\n",
    "\n",
    "np.around(thetalists*180/np.pi,1) # Converting the thetas to degrees and rounding them to 1 decimal place\n",
    "\n",
    "# testing if the 4 configurations give the same wrist position\n",
    "for i in thetalists:\n",
    "    print(np.around(i*180/np.pi,2))\n",
    "    i = np.append(i,0)\n",
    "    i = np.append(i,0)\n",
    "    i = np.append(i,0)\n",
    "    kr6_test = KR6(i)\n",
    "    P_W_test = tools.pointFromT(kr6_test.Tsw)\n",
    "    print(np.allclose(P_W, P_W_test, 0.02))\n"
   ]
  },
  {
   "cell_type": "code",
   "execution_count": 6,
   "metadata": {},
   "outputs": [
    {
     "data": {
      "text/plain": [
       "array([[-4.5260e+01, -8.5900e+00, -8.0210e+01, -8.9990e+01,  2.6000e-01,\n",
       "         1.7974e+02],\n",
       "       [-4.5260e+01, -8.9950e+01,  8.9950e+01,  0.0000e+00,  0.0000e+00,\n",
       "        -0.0000e+00],\n",
       "       [ 1.3522e+02, -1.7131e+02,  8.3080e+01, -8.9990e+01,  2.2000e-01,\n",
       "         2.2000e-01],\n",
       "       [ 1.3522e+02, -9.6260e+01, -7.3910e+01, -9.1260e+01,  9.0000e-02,\n",
       "         2.2000e-01]])"
      ]
     },
     "execution_count": 6,
     "metadata": {},
     "output_type": "execute_result"
    }
   ],
   "source": [
    "S = kr6._Slist\n",
    "M = kr6._M\n",
    "T = kr6.Tsb_poe\n",
    "\n",
    "tools.inverseKinematicsTheta456(thetalists, T, S, M)"
   ]
  }
 ],
 "metadata": {
  "interpreter": {
   "hash": "6117fad014f388f0b50ad03c046f22ad952a027cda758478b84391257a8ebcd3"
  },
  "kernelspec": {
   "display_name": "Python 3.8.12 64-bit ('tpk4170_venv': conda)",
   "name": "python3"
  },
  "language_info": {
   "codemirror_mode": {
    "name": "ipython",
    "version": 3
   },
   "file_extension": ".py",
   "mimetype": "text/x-python",
   "name": "python",
   "nbconvert_exporter": "python",
   "pygments_lexer": "ipython3",
   "version": "3.8.11"
  },
  "orig_nbformat": 4
 },
 "nbformat": 4,
 "nbformat_minor": 2
}
