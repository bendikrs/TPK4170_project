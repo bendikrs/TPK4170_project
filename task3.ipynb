{
 "cells": [
  {
   "cell_type": "code",
   "execution_count": 1,
   "metadata": {},
   "outputs": [],
   "source": [
    "from src.kr6 import KR6\n",
    "import modern_robotics as mr\n",
    "import numpy as np\n",
    "from tpk4170.visualization import Viewer\n",
    "from tpk4170.models import Grid, Axes\n",
    "from src.dh import DHFrame\n",
    "import src.tools as tools"
   ]
  },
  {
   "cell_type": "code",
   "execution_count": 4,
   "metadata": {},
   "outputs": [
    {
     "name": "stdout",
     "output_type": "stream",
     "text": [
      "15\n"
     ]
    },
    {
     "name": "stderr",
     "output_type": "stream",
     "text": [
      "C:\\Users\\Bendik\\.conda\\envs\\tpk4170\\lib\\site-packages\\jupyter_client\\session.py:716: UserWarning: Message serialization failed with:\n",
      "Out of range float values are not JSON compliant\n",
      "Supporting this message is deprecated in jupyter-client 7, please make sure your message is JSON-compliant\n",
      "  content = self.pack(content)\n"
     ]
    },
    {
     "data": {
      "application/vnd.jupyter.widget-view+json": {
       "model_id": "3e9090f153524a2db4afbf7f7f3be806",
       "version_major": 2,
       "version_minor": 0
      },
      "text/plain": [
       "Renderer(camera=PerspectiveCamera(aspect=1.5, children=(DirectionalLight(color='white', intensity=0.66, positi…"
      ]
     },
     "metadata": {},
     "output_type": "display_data"
    }
   ],
   "source": [
    "kr6 = KR6()\n",
    "\n",
    "invKin = tools.IKinSpace_our(kr6._Slist, \n",
    "            kr6._M, \n",
    "            np.array([[0, 1,  0,  0.5],\n",
    "                    [1, 0,  0, 0.5],\n",
    "                    [0, 0, -1, 0.1],\n",
    "                    [0, 0,  0,   1]]),\n",
    "            [np.pi,np.pi,0,0,0,0], 0.01, 0.01)\n",
    "\n",
    "print(invKin[3])\n",
    "\n",
    "kr6 = KR6(invKin[0])\n",
    "\n",
    "viewer = Viewer(background=\"white\")\n",
    "viewer.add(Grid())\n",
    "\n",
    "viewer.add(Axes(0.1))\n",
    "for Tsb in invKin[2]:\n",
    "        viewer.add(DHFrame(Tsb))\n",
    "# viewer.add(DHFrame(invKin[2][-1]))\n",
    "\n",
    "# viewer.add(DHFrame(kr6.Tlist[1]))\n",
    "# viewer.add(DHFrame(kr6.Tlist[2]))\n",
    "# viewer.add(DHFrame(kr6.Tlist[3]))\n",
    "# viewer.add(DHFrame(kr6.Tlist[4]))\n",
    "# viewer.add(DHFrame(kr6.Tlist[5]))\n",
    "# viewer.add(DHFrame(kr6.Tlist[6]))"
   ]
  }
 ],
 "metadata": {
  "interpreter": {
   "hash": "dac5994f52a285c6c57e8ca054eeba249811a086421e21f347740dfff430a8c7"
  },
  "kernelspec": {
   "display_name": "Python 3.8.12 64-bit ('tpk4170': conda)",
   "name": "python3"
  },
  "language_info": {
   "codemirror_mode": {
    "name": "ipython",
    "version": 3
   },
   "file_extension": ".py",
   "mimetype": "text/x-python",
   "name": "python",
   "nbconvert_exporter": "python",
   "pygments_lexer": "ipython3",
   "version": "3.8.12"
  },
  "orig_nbformat": 4
 },
 "nbformat": 4,
 "nbformat_minor": 2
}
