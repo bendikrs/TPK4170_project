{
 "cells": [
  {
   "cell_type": "code",
   "execution_count": 1,
   "metadata": {},
   "outputs": [],
   "source": [
    "from src.kr6 import KR6\n",
    "import modern_robotics as mr\n",
    "import numpy as np\n",
    "from tpk4170.visualization import Viewer\n",
    "from tpk4170.models import Grid, Axes\n",
    "from src.dh import DHFrame\n",
    "import src.tools as tools\n",
    "import sympy as sp\n",
    "\n",
    "# T_SB = np.array([[0,  1,   0, 0],\n",
    "#                  [0,  0,  -1, -(0.420+0.025+0.080)],\n",
    "#                  [-1, 0,   0, 0.89],\n",
    "#                  [0,  0,   0, 1]])\n"
   ]
  },
  {
   "cell_type": "code",
   "execution_count": 2,
   "metadata": {},
   "outputs": [
    {
     "name": "stdout",
     "output_type": "stream",
     "text": [
      "[-45.26  -8.59 -80.21]\n",
      "True\n",
      "[-45.26 -89.95  89.95]\n",
      "True\n",
      "[ 135.22 -171.31   83.08]\n",
      "True\n",
      "[135.22 -96.26 -73.91]\n",
      "True\n"
     ]
    }
   ],
   "source": [
    "# Testing if we get 4 configurations of theta 1,2,3 that results in the same wrist position\n",
    "\n",
    "theta = np.pi/180*np.array([-45, -90, 90, 0,0,0])\n",
    "\n",
    "kr6 = KR6(theta)\n",
    "\n",
    "P_W = tools.pointFromT(kr6.Tsw)\n",
    "\n",
    "thetalists = np.around(kr6.aIK_thetaLists,2) #creating the 4 sets of thetas that should provide the same wrist position as the original input of KR6\n",
    "\n",
    "np.around(thetalists*180/np.pi,1)\n",
    "\n",
    "for i in thetalists:\n",
    "    print(np.around(i*180/np.pi,2))\n",
    "    i = np.append(i,0)\n",
    "    i = np.append(i,0)\n",
    "    i = np.append(i,0)\n",
    "    kr6_test = KR6(i)\n",
    "    P_W_test = tools.pointFromT(kr6_test.Tsw)\n",
    "    print(np.allclose(P_W, P_W_test, 0.02))\n"
   ]
  },
  {
   "cell_type": "code",
   "execution_count": 3,
   "metadata": {},
   "outputs": [
    {
     "name": "stdout",
     "output_type": "stream",
     "text": [
      "[-45.3  -8.6 -80.2 -90.    0.3 179.7]\n",
      "[-45.3 -90.   90.    0.    0.   -0. ]\n",
      "[ 135.2 -171.3   83.1  -90.     0.2    0.2]\n",
      "[ 1.352e+02 -9.630e+01 -7.390e+01 -9.130e+01  1.000e-01  2.000e-01]\n"
     ]
    }
   ],
   "source": [
    "\n",
    "S = kr6._Slist\n",
    "\n",
    "M = kr6._M\n",
    "\n",
    "T = kr6.Tsb_poe\n",
    "\n",
    "\n",
    "\n",
    "tools.inverseKinematicsTheta456(thetalists, T, S, M)\n",
    "\n",
    "\n"
   ]
  },
  {
   "cell_type": "code",
   "execution_count": 4,
   "metadata": {},
   "outputs": [
    {
     "name": "stderr",
     "output_type": "stream",
     "text": [
      "C:\\Users\\PC\\anaconda3\\envs\\tpk4170_venv\\lib\\site-packages\\jupyter_client\\session.py:716: UserWarning: Message serialization failed with:\n",
      "Out of range float values are not JSON compliant\n",
      "Supporting this message is deprecated in jupyter-client 7, please make sure your message is JSON-compliant\n",
      "  content = self.pack(content)\n"
     ]
    },
    {
     "data": {
      "application/vnd.jupyter.widget-view+json": {
       "model_id": "b9cec2731a7b467980c3901285d98ed7",
       "version_major": 2,
       "version_minor": 0
      },
      "text/plain": [
       "Renderer(camera=PerspectiveCamera(aspect=1.5, children=(DirectionalLight(color='white', intensity=0.66, positi…"
      ]
     },
     "metadata": {},
     "output_type": "display_data"
    }
   ],
   "source": [
    "config_fasit = np.array([0,-np.pi/4, np.pi/6, 0,0,0])\n",
    "config2 = np.array([0, -np.pi/2, np.pi/2, 0, 0, 0])\n",
    "config3 = np.array([0, np.pi/2, 0, 0, 0, 0])\n",
    "\n",
    "\n",
    "\n",
    "\n",
    "\n",
    "# kr6.add_FK_to_viewer(viewer)\n",
    "\n",
    "# print(f\"Number of iteration: {kr6.IK[3]}\")\n",
    "\n",
    "# kr6.add_nIK_to_viewer(viewer)\n",
    "viewer = Viewer(background=\"white\")\n",
    "viewer.add(Grid())\n",
    "KR6(theta).add_FK_to_viewer(viewer)\n"
   ]
  },
  {
   "cell_type": "code",
   "execution_count": null,
   "metadata": {},
   "outputs": [],
   "source": []
  }
 ],
 "metadata": {
  "interpreter": {
   "hash": "6117fad014f388f0b50ad03c046f22ad952a027cda758478b84391257a8ebcd3"
  },
  "kernelspec": {
   "display_name": "Python 3.8.12 64-bit ('tpk4170_venv': conda)",
   "name": "python3"
  },
  "language_info": {
   "codemirror_mode": {
    "name": "ipython",
    "version": 3
   },
   "file_extension": ".py",
   "mimetype": "text/x-python",
   "name": "python",
   "nbconvert_exporter": "python",
   "pygments_lexer": "ipython3",
   "version": "3.8.12"
  },
  "orig_nbformat": 4
 },
 "nbformat": 4,
 "nbformat_minor": 2
}
