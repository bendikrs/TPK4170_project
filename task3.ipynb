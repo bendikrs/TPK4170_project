{
 "cells": [
  {
   "cell_type": "code",
   "execution_count": 1,
   "metadata": {},
   "outputs": [],
   "source": [
    "from src.kr6 import KR6\n",
    "import modern_robotics as mr\n",
    "import numpy as np\n",
    "from tpk4170.visualization import Viewer\n",
    "from tpk4170.models import Grid, Axes\n",
    "from src.dh import DHFrame\n",
    "import src.tools as tools\n",
    "import sympy as sp\n"
   ]
  },
  {
   "cell_type": "code",
   "execution_count": 2,
   "metadata": {},
   "outputs": [
    {
     "name": "stdout",
     "output_type": "stream",
     "text": [
      "forventer at P_W er: \n",
      " [0.445 0.    0.89 ]\n",
      "T_SW: \n",
      " [[ 1.     0.     0.     0.445]\n",
      " [ 0.    -1.     0.     0.   ]\n",
      " [ 0.     0.     1.     0.89 ]\n",
      " [ 0.     0.     0.     1.   ]] \n",
      "P_W:  [0.445 0.    0.89 ]\n",
      "1.4876550949064553\n",
      "-1.4876550949064553 1.4876550949064553\n"
     ]
    },
    {
     "data": {
      "text/latex": [
       "$\\displaystyle \\left[\\begin{matrix}0 & 8.79741070999109 & -85.2363583092738\\\\0 & -90.0 & 90.0\\\\180.0 & 8.79741070999109 & -85.2363583092738\\\\180.0 & 90.0 & 85.2363583092738\\end{matrix}\\right]$"
      ],
      "text/plain": [
       "Matrix([\n",
       "[    0, 8.79741070999109, -85.2363583092738],\n",
       "[    0,            -90.0,              90.0],\n",
       "[180.0, 8.79741070999109, -85.2363583092738],\n",
       "[180.0,             90.0,  85.2363583092738]])"
      ]
     },
     "execution_count": 2,
     "metadata": {},
     "output_type": "execute_result"
    }
   ],
   "source": [
    "\n",
    "r1, r2, r3, r4, a1, a2 = 0, 0.400, 0.455, 10**(-3)*np.sqrt(420**2+35**2), 0.025, 0.035\n",
    "køddevinkel = np.arctan2(35, 420)\n",
    "\n",
    "\n",
    "T_SB = np.array([[0,  0, 1, 0.420+0.025+0.080],\n",
    "                 [0, -1, 0, 0],\n",
    "                 [1,  0, 0, 0.89],\n",
    "                 [0,  0, 0, 1]])\n",
    "\n",
    "\n",
    "print('forventer at P_W er: \\n', tools.pointFromT(tools.makeT_SW(T_SB)))\n",
    "\n",
    "\n",
    "\n",
    "sp.Matrix((tools.inverseKinematicsTheta123(T_SB)))\n",
    "\n",
    "\n"
   ]
  },
  {
   "cell_type": "code",
   "execution_count": 3,
   "metadata": {},
   "outputs": [
    {
     "name": "stdout",
     "output_type": "stream",
     "text": [
      "T_SW: \n",
      " [[ 1.00000000e+00 -1.83697020e-16  6.12323400e-17  9.00000000e-01]\n",
      " [-1.83697020e-16 -1.00000000e+00  1.83697020e-16  3.94948593e-17]\n",
      " [-6.12323400e-17  1.83697020e-16  1.00000000e+00  4.35000000e-01]\n",
      " [ 0.00000000e+00  0.00000000e+00  0.00000000e+00  1.00000000e+00]] \n",
      "P_W:  [9.00000000e-01 3.94948593e-17 4.35000000e-01]\n",
      "0.08314123188843929\n",
      "-0.0831412318884393 0.0831412318884393\n",
      "T_SW: \n",
      " [[ 5.12294219e-02  2.50491014e-15  9.98686911e-01  5.36470399e-01]\n",
      " [-2.38345627e-16 -1.00000000e+00  2.52043000e-15  1.30520203e-15]\n",
      " [-9.98686911e-01  3.67152829e-16  5.12294219e-02 -1.76558614e-02]\n",
      " [ 0.00000000e+00  0.00000000e+00  0.00000000e+00  1.00000000e+00]] \n",
      "P_W:  [ 5.36470399e-01  1.30520203e-15 -1.76558614e-02]\n",
      "1.4364023845650782\n",
      "-1.4364023845650782 1.4364023845650782\n",
      "[[ 0.     0.     1.     0.98 ]\n",
      " [ 0.    -1.     0.     0.   ]\n",
      " [ 1.     0.     0.     0.435]\n",
      " [ 0.     0.     0.     1.   ]]\n",
      "[ 0.53647041  0.         -0.0176554 ]\n",
      "[0.9   0.    0.435]\n",
      "False\n",
      "T_SW: \n",
      " [[ 2.31553534e-01  2.47178514e-15 -9.72822163e-01  2.86928548e-02]\n",
      " [ 5.77207388e-16 -1.00000000e+00 -2.40345134e-15  9.88890116e-17]\n",
      " [ 9.72822163e-01  4.99248767e-18  2.31553534e-01  3.65598274e-01]\n",
      " [ 0.00000000e+00  0.00000000e+00  0.00000000e+00  1.00000000e+00]] \n",
      "P_W:  [2.86928548e-02 9.88890116e-17 3.65598274e-01]\n",
      "3.1222284647953695\n",
      "-3.12222846479537 3.12222846479537\n",
      "[[ 0.     0.     1.     0.98 ]\n",
      " [ 0.    -1.     0.     0.   ]\n",
      " [ 1.     0.     0.     0.435]\n",
      " [ 0.     0.     0.     1.   ]]\n",
      "[0.02869285 0.         0.36559827]\n",
      "[0.9   0.    0.435]\n",
      "False\n",
      "T_SW: \n",
      " [[-3.06587633e-02  8.01152636e-01 -5.97674238e-01 -3.21056112e-01]\n",
      " [ 4.10425863e-02  5.98460069e-01  8.00100651e-01  4.29794674e-01]\n",
      " [-9.98686911e-01  1.71397929e-16  5.12294219e-02 -1.76558614e-02]\n",
      " [ 0.00000000e+00  0.00000000e+00  0.00000000e+00  1.00000000e+00]] \n",
      "P_W:  [-0.32105611  0.42979467 -0.01765586]\n",
      "1.4364023845650777\n",
      "-1.4364023845650777 1.4364023845650777\n",
      "[[ 0.     0.     1.     0.98 ]\n",
      " [ 0.    -1.     0.     0.   ]\n",
      " [ 1.     0.     0.     0.435]\n",
      " [ 0.     0.     0.     1.   ]]\n",
      "[-0.32105612  0.42979469 -0.0176554 ]\n",
      "[0.9   0.    0.435]\n",
      "False\n",
      "T_SW: \n",
      " [[ 2.65232511e-01  8.01152636e-01  5.36475693e-01 -1.22380597e-01]\n",
      " [-3.55064166e-01  5.98460069e-01 -7.18174759e-01  1.63829707e-01]\n",
      " [ 8.96426881e-01 -1.76728827e-16 -4.43191659e-01  9.83270500e-01]\n",
      " [ 0.00000000e+00  0.00000000e+00  0.00000000e+00  1.00000000e+00]] \n",
      "P_W:  [-0.1223806   0.16382971  0.9832705 ]\n",
      "1.6026848483419607\n",
      "-1.6026848483419607 1.6026848483419607\n",
      "[[ 0.     0.     1.     0.98 ]\n",
      " [ 0.    -1.     0.     0.   ]\n",
      " [ 1.     0.     0.     0.435]\n",
      " [ 0.     0.     0.     1.   ]]\n",
      "[-0.1223806   0.16382971  0.9832705 ]\n",
      "[0.9   0.    0.435]\n",
      "False\n",
      "None\n"
     ]
    },
    {
     "name": "stderr",
     "output_type": "stream",
     "text": [
      "C:\\Users\\test\\anaconda3\\envs\\tpk4170_venv\\lib\\site-packages\\jupyter_client\\session.py:716: UserWarning: Message serialization failed with:\n",
      "Out of range float values are not JSON compliant\n",
      "Supporting this message is deprecated in jupyter-client 7, please make sure your message is JSON-compliant\n",
      "  content = self.pack(content)\n"
     ]
    },
    {
     "data": {
      "application/vnd.jupyter.widget-view+json": {
       "model_id": "c137d1db39c54ccfa8da25a58b999e47",
       "version_major": 2,
       "version_minor": 0
      },
      "text/plain": [
       "Renderer(camera=PerspectiveCamera(aspect=1.5, children=(DirectionalLight(color='white', intensity=0.66, positi…"
      ]
     },
     "metadata": {},
     "output_type": "display_data"
    },
    {
     "name": "stdout",
     "output_type": "stream",
     "text": [
      "T_SW: \n",
      " [[ 9.65925826e-01 -1.77437696e-16 -2.58819045e-01  7.43363766e-01]\n",
      " [-1.36152733e-16 -1.00000000e+00  1.77437696e-16  1.18345884e-16]\n",
      " [ 2.58819045e-01  1.36152733e-16  9.65925826e-01  8.64244988e-01]\n",
      " [ 0.00000000e+00  0.00000000e+00  0.00000000e+00  1.00000000e+00]] \n",
      "P_W:  [7.43363766e-01 1.18345884e-16 8.64244988e-01]\n",
      "0.44045754370985635\n",
      "-0.4404575437098564 0.4404575437098564\n"
     ]
    }
   ],
   "source": [
    "\n",
    "config_fasit = np.array([0,-np.pi/4, np.pi/6, 0,0,0])\n",
    "\n",
    "config2 = np.array([0, -np.pi/2, np.pi/2, 0, 0, 0])\n",
    "config3 = np.array([0, np.pi/2, 0, 0, 0, 0])\n",
    "\n",
    "\n",
    "\n",
    "\n",
    "def test_a_IK(config_fasit):\n",
    "\n",
    "    kr6_fasit = KR6(config_fasit)\n",
    "\n",
    "    P_SW_fasit = tools.pointFromT(kr6_fasit.Tsw) # define the point of the wrist\n",
    "\n",
    "    thetalist = kr6_fasit.aIK_thetaLists # Fetching the analytical solution(s)\n",
    "\n",
    "    for el in thetalist:\n",
    "        config_test = np.array([el[0], el[1], el[2], 0,0,0])\n",
    "\n",
    "        kr6_test = KR6(config_test)\n",
    "\n",
    "        P_SW_test = tools.pointFromT(kr6_test.Tsw)\n",
    "\n",
    "        print(kr6_fasit.Tsb_poe)\n",
    "        # print(kr6_fasit.Tsw)\n",
    "        print(P_SW_test)\n",
    "        print(P_SW_fasit)\n",
    "\n",
    "        print(np.allclose(P_SW_fasit, P_SW_test, 0.01, 0.01))\n",
    "\n",
    "print(test_a_IK(np.array([0, 0, 0, 0, 0, 0])))\n",
    "\n",
    "# kr6.add_FK_to_viewer(viewer)\n",
    "\n",
    "# print(f\"Number of iteration: {kr6.IK[3]}\")\n",
    "\n",
    "# kr6.add_nIK_to_viewer(viewer)\n",
    "viewer = Viewer(background=\"white\")\n",
    "viewer.add(Grid())\n",
    "KR6(config_fasit).add_FK_to_viewer(viewer)\n"
   ]
  },
  {
   "cell_type": "code",
   "execution_count": null,
   "metadata": {},
   "outputs": [],
   "source": []
  }
 ],
 "metadata": {
  "interpreter": {
   "hash": "f16335faa6d3b940ab5be5792e7ab57ce08bd6bc042e5eebb8b008fcab4677c2"
  },
  "kernelspec": {
   "display_name": "Python 3.8.12 64-bit ('tpk4170_venv': conda)",
   "name": "python3"
  },
  "language_info": {
   "codemirror_mode": {
    "name": "ipython",
    "version": 3
   },
   "file_extension": ".py",
   "mimetype": "text/x-python",
   "name": "python",
   "nbconvert_exporter": "python",
   "pygments_lexer": "ipython3",
   "version": "3.8.12"
  },
  "orig_nbformat": 4
 },
 "nbformat": 4,
 "nbformat_minor": 2
}
