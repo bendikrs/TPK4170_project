{
 "cells": [
  {
   "cell_type": "code",
   "execution_count": 4,
   "metadata": {},
   "outputs": [],
   "source": [
    "from src.kr6 import KR6\n",
    "import modern_robotics as mr\n",
    "import numpy as np\n",
    "from tpk4170.visualization import Viewer\n",
    "from tpk4170.models import Grid, Axes\n",
    "from src.dh import DHFrame\n",
    "import src.tools as tools\n",
    "import sympy as sp\n"
   ]
  },
  {
   "cell_type": "code",
   "execution_count": 5,
   "metadata": {},
   "outputs": [
    {
     "name": "stdout",
     "output_type": "stream",
     "text": [
      "1.5707963267948966\n",
      "1.0469337695906822\n",
      "-1.0177028497428948\n",
      "1.6963314115998656\n",
      "[3.71231e-01 3.71231e-01 8.90000e+02]\n",
      "-0.8422793201652538\n",
      "nan\n"
     ]
    },
    {
     "data": {
      "text/latex": [
       "$\\displaystyle \\left[\\begin{matrix}-48.3 & \\text{NaN} & \\text{NaN}\\\\-48.3 & \\text{NaN} & \\text{NaN}\\\\131.7 & \\text{NaN} & \\text{NaN}\\\\131.7 & \\text{NaN} & \\text{NaN}\\end{matrix}\\right]$"
      ],
      "text/plain": [
       "Matrix([\n",
       "[-48.3, nan, nan],\n",
       "[-48.3, nan, nan],\n",
       "[131.7, nan, nan],\n",
       "[131.7, nan, nan]])"
      ]
     },
     "execution_count": 5,
     "metadata": {},
     "output_type": "execute_result"
    }
   ],
   "source": [
    "\n",
    "r1, r2, r3, r4, a1, a2 = 0, 0.400, 0.455, 10**(-3)*np.sqrt(420**2+35**2), 0.025, 0.035\n",
    "køddevinkel = np.arctan2(35, 420)\n",
    "\n",
    "T_SB = np.array([[0,  1,   0, 0],\n",
    "                 [0,  0,  -1, -(0.420+0.025+0.080)],\n",
    "                 [-1, 0,   0, 0.89],\n",
    "                 [0,  0,   0, 1]])\n",
    "\n",
    "#print('forventer at P_W er: \\n', tools.pointFromT(tools.makeT_SW(T_SB)))\n",
    "\n",
    "sp.Matrix((np.around(tools.inverseKinematicsTheta123(T_SB),1)))\n",
    "\n",
    "theta = np.array([-45, -90, 90, 0, 0, 0])\n",
    "\n",
    "kr6 = KR6(theta)\n",
    "\n",
    "T = np.array([[0,  -0.5,   -0.5, 0.371231],\n",
    "              [0,   0.5,    0,   0.371231],\n",
    "              [1,    0,   -0.5, 890],\n",
    "              [0,     0,    0,   1]])\n",
    "\n",
    "print(tools.pointFromT(T))\n",
    "\n",
    "sp.Matrix(T)\n",
    "\n",
    "sp.Matrix((np.around(tools.inverseKinematicsTheta123(T),1)))"
   ]
  },
  {
   "cell_type": "code",
   "execution_count": 6,
   "metadata": {},
   "outputs": [
    {
     "name": "stdout",
     "output_type": "stream",
     "text": [
      "-9.531449144307223e-18\n",
      "nan\n",
      "nan\n",
      "nan\n",
      "[[ 0.     0.     1.     0.98 ]\n",
      " [ 0.    -1.     0.     0.   ]\n",
      " [ 1.     0.     0.     0.435]\n",
      " [ 0.     0.     0.     1.   ]]\n",
      "[nan nan nan]\n",
      "[1.06  0.    0.435]\n",
      "False\n",
      "nan\n",
      "nan\n",
      "[[ 0.     0.     1.     0.98 ]\n",
      " [ 0.    -1.     0.     0.   ]\n",
      " [ 1.     0.     0.     0.435]\n",
      " [ 0.     0.     0.     1.   ]]\n",
      "[nan nan nan]\n",
      "[1.06  0.    0.435]\n",
      "False\n",
      "nan\n",
      "nan\n",
      "[[ 0.     0.     1.     0.98 ]\n",
      " [ 0.    -1.     0.     0.   ]\n",
      " [ 1.     0.     0.     0.435]\n",
      " [ 0.     0.     0.     1.   ]]\n",
      "[nan nan nan]\n",
      "[1.06  0.    0.435]\n",
      "False\n",
      "nan\n",
      "nan\n",
      "[[ 0.     0.     1.     0.98 ]\n",
      " [ 0.    -1.     0.     0.   ]\n",
      " [ 1.     0.     0.     0.435]\n",
      " [ 0.     0.     0.     1.   ]]\n",
      "[nan nan nan]\n",
      "[1.06  0.    0.435]\n",
      "False\n",
      "None\n"
     ]
    },
    {
     "data": {
      "application/vnd.jupyter.widget-view+json": {
       "model_id": "913b34f7facc46cd8c4ad222c7693a6f",
       "version_major": 2,
       "version_minor": 0
      },
      "text/plain": [
       "Renderer(camera=PerspectiveCamera(aspect=1.5, children=(DirectionalLight(color='white', intensity=0.66, positi…"
      ]
     },
     "metadata": {},
     "output_type": "display_data"
    },
    {
     "name": "stdout",
     "output_type": "stream",
     "text": [
      "-1.0754000187108814e-16\n",
      "nan\n"
     ]
    }
   ],
   "source": [
    "\n",
    "config_fasit = np.array([0,-np.pi/4, np.pi/6, 0,0,0])\n",
    "\n",
    "config2 = np.array([0, -np.pi/2, np.pi/2, 0, 0, 0])\n",
    "config3 = np.array([0, np.pi/2, 0, 0, 0, 0])\n",
    "\n",
    "\n",
    "\n",
    "\n",
    "def test_a_IK(config_fasit):\n",
    "\n",
    "    kr6_fasit = KR6(config_fasit)\n",
    "\n",
    "    P_SW_fasit = tools.pointFromT(kr6_fasit.Tsw) # define the point of the wrist\n",
    "\n",
    "    thetalist = kr6_fasit.aIK_thetaLists # Fetching the analytical solution(s)\n",
    "\n",
    "    for el in thetalist:\n",
    "        config_test = np.array([el[0], el[1], el[2], 0,0,0])\n",
    "\n",
    "        kr6_test = KR6(config_test)\n",
    "\n",
    "        P_SW_test = tools.pointFromT(kr6_test.Tsw)\n",
    "\n",
    "        print(kr6_fasit.Tsb_poe)\n",
    "        # print(kr6_fasit.Tsw)\n",
    "        print(P_SW_test)\n",
    "        print(P_SW_fasit)\n",
    "\n",
    "        print(np.allclose(P_SW_fasit, P_SW_test, 0.01, 0.01))\n",
    "\n",
    "print(test_a_IK(np.array([0, 0, 0, 0, 0, 0])))\n",
    "\n",
    "# kr6.add_FK_to_viewer(viewer)\n",
    "\n",
    "# print(f\"Number of iteration: {kr6.IK[3]}\")\n",
    "\n",
    "# kr6.add_nIK_to_viewer(viewer)\n",
    "viewer = Viewer(background=\"white\")\n",
    "viewer.add(Grid())\n",
    "KR6(config_fasit).add_FK_to_viewer(viewer)\n"
   ]
  },
  {
   "cell_type": "code",
   "execution_count": null,
   "metadata": {},
   "outputs": [],
   "source": []
  }
 ],
 "metadata": {
  "interpreter": {
   "hash": "6117fad014f388f0b50ad03c046f22ad952a027cda758478b84391257a8ebcd3"
  },
  "kernelspec": {
   "display_name": "Python 3.8.12 64-bit ('tpk4170_venv': conda)",
   "name": "python3"
  },
  "language_info": {
   "codemirror_mode": {
    "name": "ipython",
    "version": 3
   },
   "file_extension": ".py",
   "mimetype": "text/x-python",
   "name": "python",
   "nbconvert_exporter": "python",
   "pygments_lexer": "ipython3",
   "version": "3.8.12"
  },
  "orig_nbformat": 4
 },
 "nbformat": 4,
 "nbformat_minor": 2
}
