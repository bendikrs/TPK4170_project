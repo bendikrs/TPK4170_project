{
 "cells": [
  {
   "cell_type": "code",
   "execution_count": 252,
   "metadata": {},
   "outputs": [],
   "source": [
    "# from tpk4170.visualization import Ur5Visualizer\n",
    "from dataclasses import dataclass\n",
    "import modern_robotics as mr\n",
    "import numpy as np\n",
    "import sympy as sp\n",
    "\n",
    "np.set_printoptions(suppress=True)\n",
    "\n",
    "PI_HALF = np.pi / 2\n",
    "PI = np.pi\n"
   ]
  },
  {
   "cell_type": "code",
   "execution_count": 253,
   "metadata": {},
   "outputs": [],
   "source": [
    "@dataclass\n",
    "class DHLink:\n",
    "    a: float\n",
    "    alpha: float\n",
    "    d: float\n",
    "    theta: float\n",
    "\n",
    "    def matrix(self) -> np.array:\n",
    "        ct = np.cos(self.theta)\n",
    "        st = np.sin(self.theta)\n",
    "        ca = np.cos(self.alpha)\n",
    "        sa = np.sin(self.alpha)\n",
    "        return np.array(\n",
    "            [\n",
    "                [ct, -st * ca, st * sa, self.a * ct],\n",
    "                [st, ct * ca, -ct * sa, self.a * st],\n",
    "                [0.0, sa, ca, self.d],\n",
    "                [0.0, 0.0, 0.0, 1.0],\n",
    "            ]\n",
    "        )\n"
   ]
  },
  {
   "cell_type": "code",
   "execution_count": 254,
   "metadata": {},
   "outputs": [],
   "source": [
    "class KR6:\n",
    "    d1, d2, d3, d4 = 0.400, 0.455, 0.420, 0.080 #distansene mellom jointsene som ikke er 0\n",
    "    a1, a2 = 0.025, 0.035 #offsetsene \n",
    "\n",
    "\n",
    "    def __init__(self):\n",
    "        self._M = np.array(\n",
    "            [\n",
    "                [0,  0,  1, self.a1+self.d2+self.d3+self.d4],\n",
    "                [0, -1,  0,                               0],\n",
    "                [1,  0,  0,                 self.a2+self.d1],\n",
    "                [0,  0,  0,                               1]\n",
    "            ]\n",
    "        )\n",
    "\n",
    "        self._Slist = np.array(\n",
    "            [\n",
    "                [0, 0, 1,                  0,               0,                       0],\n",
    "                [0, 1, 0,           -self.d1,               0,                 self.a1],\n",
    "                [0, 1, 0,           -self.d1,               0,         self.a1+self.d2],\n",
    "                [1, 0, 0,                  0, self.a2+self.d1,                       0],\n",
    "                [0, 1, 0, -(self.d1+self.a2),               0, self.a1+self.d2+self.d3],\n",
    "                [1, 0, 0,                  0, self.a2+self.d1,                       0]\n",
    "            ]\n",
    "        ).T\n",
    "\n",
    "        self._Blist = mr.Adjoint(np.linalg.inv(self._M)) @ self._Slist\n",
    "\n",
    "    def fKinS(self, theta): #Returnerer T_SB, altså transformasjonsmatrisa fra space til end-effector\n",
    "        return mr.FKinSpace(self._M, self._Slist, theta)\n"
   ]
  },
  {
   "cell_type": "code",
   "execution_count": null,
   "metadata": {},
   "outputs": [],
   "source": []
  },
  {
   "cell_type": "code",
   "execution_count": 255,
   "metadata": {},
   "outputs": [
    {
     "data": {
      "text/latex": [
       "$\\displaystyle \\left[\\begin{matrix}1.0 & 0.0 & 0.0 & 0.0 & -0.98 & 0.0\\\\0.0 & -1.0 & 0.0 & -0.955 & 0.0 & 0.035\\\\0.0 & -1.0 & 0.0 & -0.5 & 0.0 & 0.035\\\\0.0 & 0.0 & 1.0 & 0.0 & 0.0 & 0.0\\\\0.0 & -1.0 & 0.0 & -0.08 & 0.0 & 0.0\\\\0.0 & 0.0 & 1.0 & 0.0 & 0.0 & 0.0\\end{matrix}\\right]$"
      ],
      "text/plain": [
       "Matrix([\n",
       "[1.0,  0.0, 0.0,    0.0, -0.98,   0.0],\n",
       "[0.0, -1.0, 0.0, -0.955,   0.0, 0.035],\n",
       "[0.0, -1.0, 0.0,   -0.5,   0.0, 0.035],\n",
       "[0.0,  0.0, 1.0,    0.0,   0.0,   0.0],\n",
       "[0.0, -1.0, 0.0,  -0.08,   0.0,   0.0],\n",
       "[0.0,  0.0, 1.0,    0.0,   0.0,   0.0]])"
      ]
     },
     "execution_count": 255,
     "metadata": {},
     "output_type": "execute_result"
    }
   ],
   "source": [
    "kr6 = KR6()\n",
    "\n",
    "sp.Matrix(kr6._Blist.T)\n"
   ]
  },
  {
   "cell_type": "code",
   "execution_count": 256,
   "metadata": {},
   "outputs": [
    {
     "data": {
      "text/plain": [
       "array([[ 0.        ,  0.        ,  0.        ,  0.        ],\n",
       "       [ 0.025     , -1.57079633,  0.4       ,  0.        ],\n",
       "       [ 0.4       ,  0.        ,  0.        ,  1.57079633],\n",
       "       [ 0.035     , -1.57079633,  0.        ,  0.        ],\n",
       "       [ 0.        ,  1.57079633,  0.42      ,  0.        ],\n",
       "       [ 0.        , -1.57079633,  0.08      ,  0.        ]])"
      ]
     },
     "execution_count": 256,
     "metadata": {},
     "output_type": "execute_result"
    }
   ],
   "source": [
    "theta = np.array([[0],\n",
    "                  [0],\n",
    "                  [PI_HALF],\n",
    "                  [0],\n",
    "                  [0],\n",
    "                  [0]])\n",
    "\n",
    "alpha = np.array([[0],\n",
    "                  [-PI_HALF],\n",
    "                  [0],\n",
    "                  [-PI_HALF],\n",
    "                  [PI_HALF],\n",
    "                  [-PI_HALF]])\n",
    "\n",
    "d = np.array([[0],\n",
    "              [kr6.d1],\n",
    "              [0],\n",
    "              [0],\n",
    "              [kr6.d3],\n",
    "              [kr6.d4]])\n",
    "\n",
    "a = np.array([[0],\n",
    "              [kr6.a1],\n",
    "              [kr6.d1],\n",
    "              [kr6.a2],\n",
    "              [0],\n",
    "              [0]])\n",
    "\n",
    "dhList = np.concatenate((a, alpha, d, theta), axis=1)\n",
    "dhList\n"
   ]
  },
  {
   "cell_type": "code",
   "execution_count": 257,
   "metadata": {},
   "outputs": [],
   "source": [
    "l1 = DHLink(*dhList[0])\n",
    "l2 = DHLink(*dhList[1])\n",
    "l3 = DHLink(*dhList[2])\n",
    "l4 = DHLink(*dhList[3])\n",
    "l5 = DHLink(*dhList[4])\n",
    "l6 = DHLink(*dhList[5])"
   ]
  },
  {
   "cell_type": "code",
   "execution_count": 258,
   "metadata": {},
   "outputs": [
    {
     "data": {
      "text/plain": [
       "array([[ 0.   , -0.   , -1.   , -0.395],\n",
       "       [ 0.   , -1.   ,  0.   ,  0.08 ],\n",
       "       [-1.   , -0.   , -0.   , -0.035],\n",
       "       [ 0.   ,  0.   ,  0.   ,  1.   ]])"
      ]
     },
     "execution_count": 258,
     "metadata": {},
     "output_type": "execute_result"
    }
   ],
   "source": [
    "fk_dh_zero = (\n",
    "    l1.matrix()\n",
    "    @ l2.matrix()\n",
    "    @ l3.matrix()\n",
    "    @ l4.matrix()\n",
    "    @ l5.matrix()\n",
    "    @ l6.matrix()\n",
    ")\n",
    "fk_dh_zero\n"
   ]
  },
  {
   "cell_type": "code",
   "execution_count": 259,
   "metadata": {},
   "outputs": [],
   "source": [
    "from tpk4170.visualization import Viewer\n",
    "from tpk4170.models import Grid, Axes, Ball\n",
    "from pythreejs import Object3D\n",
    "from transformations import quaternion_from_matrix\n",
    "from pythreejs import ConeGeometry\n",
    "from pythreejs import Preview"
   ]
  },
  {
   "cell_type": "code",
   "execution_count": 260,
   "metadata": {},
   "outputs": [],
   "source": [
    "class DHFrame(Axes):\n",
    "    def __init__(self, trf):\n",
    "        Axes.__init__(self, 0.1)\n",
    "        self.quaternion = np.roll(quaternion_from_matrix(trf), -1).tolist()\n",
    "        self.position = (trf[:3, 3]).tolist()"
   ]
  },
  {
   "cell_type": "code",
   "execution_count": 261,
   "metadata": {},
   "outputs": [
    {
     "data": {
      "application/vnd.jupyter.widget-view+json": {
       "model_id": "46016fcf3b464c36ae977dd6e10fdf46",
       "version_major": 2,
       "version_minor": 0
      },
      "text/plain": [
       "Renderer(camera=PerspectiveCamera(aspect=1.5, children=(DirectionalLight(color='white', intensity=0.66, positi…"
      ]
     },
     "metadata": {},
     "output_type": "display_data"
    }
   ],
   "source": [
    "viewer = Viewer(background=\"white\")\n",
    "viewer.add(Grid())"
   ]
  },
  {
   "cell_type": "code",
   "execution_count": 262,
   "metadata": {},
   "outputs": [
    {
     "data": {
      "text/plain": [
       "array([[ 1., -0.,  0.,  0.],\n",
       "       [ 0.,  1., -0.,  0.],\n",
       "       [ 0.,  0.,  1.,  0.],\n",
       "       [ 0.,  0.,  0.,  1.]])"
      ]
     },
     "execution_count": 262,
     "metadata": {},
     "output_type": "execute_result"
    }
   ],
   "source": [
    "T01 = l1.matrix()\n",
    "T02 = l1.matrix() @ l2.matrix()\n",
    "T03 = l1.matrix() @ l2.matrix() @ l3.matrix()\n",
    "T04 = l1.matrix() @ l2.matrix() @ l3.matrix() @ l4.matrix()\n",
    "T05 = l1.matrix() @ l2.matrix() @ l3.matrix() @ l4.matrix() @ l5.matrix()\n",
    "T06 = l1.matrix() @ l2.matrix() @ l3.matrix() @ l4.matrix() @ l5.matrix() @ l6.matrix()\n",
    "\n",
    "T01"
   ]
  },
  {
   "cell_type": "code",
   "execution_count": 263,
   "metadata": {},
   "outputs": [],
   "source": [
    "viewer.add(Axes(0.5))"
   ]
  },
  {
   "cell_type": "code",
   "execution_count": 264,
   "metadata": {},
   "outputs": [],
   "source": [
    "viewer.add(DHFrame(T01))"
   ]
  },
  {
   "cell_type": "code",
   "execution_count": 265,
   "metadata": {},
   "outputs": [],
   "source": [
    "viewer.add(DHFrame(T02))"
   ]
  },
  {
   "cell_type": "code",
   "execution_count": 266,
   "metadata": {},
   "outputs": [],
   "source": [
    "viewer.add(DHFrame(T03))"
   ]
  },
  {
   "cell_type": "code",
   "execution_count": 267,
   "metadata": {},
   "outputs": [],
   "source": [
    "viewer.add(DHFrame(T04))"
   ]
  },
  {
   "cell_type": "code",
   "execution_count": 268,
   "metadata": {},
   "outputs": [],
   "source": [
    "viewer.add(DHFrame(T05))"
   ]
  },
  {
   "cell_type": "code",
   "execution_count": 269,
   "metadata": {},
   "outputs": [],
   "source": [
    "viewer.add(DHFrame(T06))"
   ]
  },
  {
   "cell_type": "code",
   "execution_count": null,
   "metadata": {},
   "outputs": [],
   "source": []
  }
 ],
 "metadata": {
  "interpreter": {
   "hash": "1b659ad3131cfdfa183ee9e2521f5efe4466c1598f55787903416942c956bfb3"
  },
  "kernelspec": {
   "display_name": "Python 3.8.11 64-bit ('TPK4170': conda)",
   "name": "python3"
  },
  "language_info": {
   "codemirror_mode": {
    "name": "ipython",
    "version": 3
   },
   "file_extension": ".py",
   "mimetype": "text/x-python",
   "name": "python",
   "nbconvert_exporter": "python",
   "pygments_lexer": "ipython3",
   "version": "3.8.11"
  }
 },
 "nbformat": 4,
 "nbformat_minor": 2
}
