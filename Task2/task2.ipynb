{
 "cells": [
  {
   "cell_type": "code",
   "execution_count": 27,
   "metadata": {},
   "outputs": [],
   "source": [
    "# from tpk4170.visualization import Ur5Visualizer\n",
    "from dataclasses import dataclass\n",
    "import modern_robotics as mr\n",
    "import numpy as np\n",
    "import sympy as sp\n",
    "\n",
    "np.set_printoptions(suppress=True)\n",
    "\n",
    "PI_HALF = np.pi / 2\n",
    "PI = np.pi\n"
   ]
  },
  {
   "cell_type": "code",
   "execution_count": 28,
   "metadata": {},
   "outputs": [],
   "source": [
    "@dataclass\n",
    "class DHLink:\n",
    "    a: float\n",
    "    alpha: float\n",
    "    d: float\n",
    "    theta: float\n",
    "\n",
    "    def matrix(self) -> np.array:\n",
    "        ct = np.cos(self.theta)\n",
    "        st = np.sin(self.theta)\n",
    "        ca = np.cos(self.alpha)\n",
    "        sa = np.sin(self.alpha)\n",
    "        return np.array(\n",
    "            [\n",
    "                [ct, -st * ca, st * sa, self.a * ct],\n",
    "                [st, ct * ca, -ct * sa, self.a * st],\n",
    "                [0.0, sa, ca, self.d],\n",
    "                [0.0, 0.0, 0.0, 1.0],\n",
    "            ]\n",
    "        )\n"
   ]
  },
  {
   "cell_type": "code",
   "execution_count": 29,
   "metadata": {},
   "outputs": [],
   "source": [
    "class KR6:\n",
    "    d1, d2, d3, d4 = 400, 455, 420, 80\n",
    "    a1, a2 = 25, 35\n",
    "    theta_zero = np.zeros((6, 1))\n",
    "    \n",
    "    def __init__(self):\n",
    "        self._M = np.array(\n",
    "            [\n",
    "                [0,  0,  1, self.a1+self.d2+self.d3+self.d4],\n",
    "                [0, -1,  0,                               0],\n",
    "                [1,  0,  0,                 self.a2+self.d1],\n",
    "                [0,  0,  0,                               1]\n",
    "            ]\n",
    "        )\n",
    "\n",
    "        self._Slist = np.array(\n",
    "            [\n",
    "                [0, 0, 1,                  0,               0,                       0],\n",
    "                [0, 1, 0,           -self.d1,               0,                 self.a1],\n",
    "                [0, 1, 0,           -self.d1,               0,         self.a1+self.d2],\n",
    "                [1, 0, 0,                  0, self.a2+self.d1,                       0],\n",
    "                [0, 1, 0, -(self.d1+self.a2),               0, self.a1+self.d2+self.d3],\n",
    "                [1, 0, 0,                  0, self.a2+self.d1,                       0]\n",
    "            ]\n",
    "        ).T\n",
    "\n",
    "        T_BS = np.linalg.inv(mr.FKinSpace(self._M, self._Slist, self.theta_zero))\n",
    "        self._Blist = mr.Adjoint(T_BS) @ self._Slist\n",
    "\n",
    "    def fkin(self, theta):\n",
    "        return mr.FKinSpace(self._M, self._Slist, theta)\n"
   ]
  },
  {
   "cell_type": "code",
   "execution_count": 30,
   "metadata": {},
   "outputs": [],
   "source": [
    "kr6 = KR6()"
   ]
  },
  {
   "cell_type": "code",
   "execution_count": null,
   "metadata": {},
   "outputs": [],
   "source": []
  },
  {
   "cell_type": "code",
   "execution_count": 31,
   "metadata": {},
   "outputs": [
    {
     "data": {
      "text/plain": [
       "array([[  0.        ,   0.        ,   0.        ,   0.        ],\n",
       "       [ 25.        ,  -1.57079633, 400.        ,   0.        ],\n",
       "       [455.        ,   0.        ,   0.        ,   1.57079633],\n",
       "       [ 35.        ,  -1.57079633,   0.        ,   0.        ],\n",
       "       [  0.        ,   1.57079633, 420.        ,   0.        ],\n",
       "       [  0.        ,  -1.57079633,  80.        ,   0.        ]])"
      ]
     },
     "execution_count": 31,
     "metadata": {},
     "output_type": "execute_result"
    }
   ],
   "source": [
    "theta = np.array([[0],\n",
    "                  [0],\n",
    "                  [PI_HALF],\n",
    "                  [0],\n",
    "                  [0],\n",
    "                  [0]])\n",
    "\n",
    "alpha = np.array([[0],\n",
    "                  [-PI_HALF],\n",
    "                  [0],\n",
    "                  [-PI_HALF],\n",
    "                  [PI_HALF],\n",
    "                  [-PI_HALF]])\n",
    "\n",
    "d = np.array([[0],\n",
    "              [400],\n",
    "              [0],\n",
    "              [0],\n",
    "              [420],\n",
    "              [80]])\n",
    "\n",
    "a = np.array([[0],\n",
    "              [25],\n",
    "              [455],\n",
    "              [35],\n",
    "              [0],\n",
    "              [0]])\n",
    "\n",
    "dhList = np.concatenate((a, alpha, d, theta), axis=1)\n",
    "dhList\n"
   ]
  },
  {
   "cell_type": "code",
   "execution_count": 32,
   "metadata": {},
   "outputs": [],
   "source": [
    "l1 = DHLink(*dhList[0])\n",
    "l2 = DHLink(*dhList[1])\n",
    "l3 = DHLink(*dhList[2])\n",
    "l4 = DHLink(*dhList[3])\n",
    "l5 = DHLink(*dhList[4])\n",
    "l6 = DHLink(*dhList[5])"
   ]
  },
  {
   "cell_type": "code",
   "execution_count": 33,
   "metadata": {},
   "outputs": [
    {
     "data": {
      "text/plain": [
       "array([[   0.,   -0.,   -1., -395.],\n",
       "       [   0.,   -1.,    0.,   80.],\n",
       "       [  -1.,   -0.,   -0.,  -90.],\n",
       "       [   0.,    0.,    0.,    1.]])"
      ]
     },
     "execution_count": 33,
     "metadata": {},
     "output_type": "execute_result"
    }
   ],
   "source": [
    "fk_dh_zero = (\n",
    "    l1.matrix()\n",
    "    @ l2.matrix()\n",
    "    @ l3.matrix()\n",
    "    @ l4.matrix()\n",
    "    @ l5.matrix()\n",
    "    @ l6.matrix()\n",
    ")\n",
    "fk_dh_zero\n"
   ]
  },
  {
   "cell_type": "code",
   "execution_count": 34,
   "metadata": {},
   "outputs": [
    {
     "ename": "ModuleNotFoundError",
     "evalue": "No module named 'tpk4170'",
     "output_type": "error",
     "traceback": [
      "\u001b[1;31m---------------------------------------------------------------------------\u001b[0m",
      "\u001b[1;31mModuleNotFoundError\u001b[0m                       Traceback (most recent call last)",
      "\u001b[1;32m~\\AppData\\Local\\Temp/ipykernel_21980/2881277751.py\u001b[0m in \u001b[0;36m<module>\u001b[1;34m\u001b[0m\n\u001b[1;32m----> 1\u001b[1;33m \u001b[1;32mfrom\u001b[0m \u001b[0mtpk4170\u001b[0m\u001b[1;33m.\u001b[0m\u001b[0mvisualization\u001b[0m \u001b[1;32mimport\u001b[0m \u001b[0mViewer\u001b[0m\u001b[1;33m\u001b[0m\u001b[1;33m\u001b[0m\u001b[0m\n\u001b[0m\u001b[0;32m      2\u001b[0m \u001b[1;32mfrom\u001b[0m \u001b[0mtpk4170\u001b[0m\u001b[1;33m.\u001b[0m\u001b[0mmodels\u001b[0m \u001b[1;32mimport\u001b[0m \u001b[0mGrid\u001b[0m\u001b[1;33m,\u001b[0m \u001b[0mAxes\u001b[0m\u001b[1;33m\u001b[0m\u001b[1;33m\u001b[0m\u001b[0m\n\u001b[0;32m      3\u001b[0m \u001b[1;32mfrom\u001b[0m \u001b[0mpythreejs\u001b[0m \u001b[1;32mimport\u001b[0m \u001b[0mObject3D\u001b[0m\u001b[1;33m\u001b[0m\u001b[1;33m\u001b[0m\u001b[0m\n\u001b[0;32m      4\u001b[0m \u001b[1;32mfrom\u001b[0m \u001b[0mtransformations\u001b[0m \u001b[1;32mimport\u001b[0m \u001b[0mquaternion_from_matrix\u001b[0m\u001b[1;33m\u001b[0m\u001b[1;33m\u001b[0m\u001b[0m\n",
      "\u001b[1;31mModuleNotFoundError\u001b[0m: No module named 'tpk4170'"
     ]
    }
   ],
   "source": [
    "from tpk4170.visualization import Viewer\n",
    "from tpk4170.models import Grid, Axes\n",
    "from pythreejs import Object3D\n",
    "from transformations import quaternion_from_matrix"
   ]
  },
  {
   "cell_type": "code",
   "execution_count": null,
   "metadata": {},
   "outputs": [],
   "source": [
    "class DHFrame(Axes):\n",
    "    def __init__(self, trf):\n",
    "        Axes.__init__(self, 0.1)\n",
    "        self.quaternion = np.roll(quaternion_from_matrix(trf), -1).tolist()\n",
    "        self.position = (trf[:3, 3]).tolist()"
   ]
  },
  {
   "cell_type": "code",
   "execution_count": null,
   "metadata": {},
   "outputs": [
    {
     "data": {
      "application/vnd.jupyter.widget-view+json": {
       "model_id": "52bbbaff74774fcbbfbddcfc4d4bbba5",
       "version_major": 2,
       "version_minor": 0
      },
      "text/plain": [
       "Renderer(camera=PerspectiveCamera(aspect=1.5, children=(DirectionalLight(color='white', intensity=0.66, positi…"
      ]
     },
     "metadata": {},
     "output_type": "display_data"
    }
   ],
   "source": [
    "viewer = Viewer(background=\"white\")\n"
   ]
  },
  {
   "cell_type": "code",
   "execution_count": null,
   "metadata": {},
   "outputs": [],
   "source": [
    "viewer.add(Grid())"
   ]
  },
  {
   "cell_type": "code",
   "execution_count": null,
   "metadata": {},
   "outputs": [],
   "source": [
    "T01 = l1.matrix()\n",
    "T02 = l1.matrix() @ l2.matrix()\n",
    "T03 = l1.matrix() @ l2.matrix() @ l3.matrix()\n",
    "T04 = l1.matrix() @ l2.matrix() @ l3.matrix() @ l4.matrix()\n",
    "T05 = l1.matrix() @ l2.matrix() @ l3.matrix() @ l4.matrix() @ l5.matrix()\n",
    "T06 = l1.matrix() @ l2.matrix() @ l3.matrix() @ l4.matrix() @ l5.matrix() @ l6.matrix()"
   ]
  },
  {
   "cell_type": "code",
   "execution_count": null,
   "metadata": {},
   "outputs": [],
   "source": [
    "viewer.add(Axes(0.1))"
   ]
  },
  {
   "cell_type": "code",
   "execution_count": null,
   "metadata": {},
   "outputs": [],
   "source": [
    "viewer.add(DHFrame(T01))"
   ]
  },
  {
   "cell_type": "code",
   "execution_count": null,
   "metadata": {},
   "outputs": [],
   "source": [
    "viewer.add(DHFrame(T02))"
   ]
  },
  {
   "cell_type": "code",
   "execution_count": null,
   "metadata": {},
   "outputs": [],
   "source": [
    "viewer.add(DHFrame(T03))"
   ]
  },
  {
   "cell_type": "code",
   "execution_count": null,
   "metadata": {},
   "outputs": [],
   "source": [
    "viewer.add(DHFrame(T04))"
   ]
  },
  {
   "cell_type": "code",
   "execution_count": null,
   "metadata": {},
   "outputs": [],
   "source": [
    "viewer.add(DHFrame(T05))"
   ]
  },
  {
   "cell_type": "code",
   "execution_count": null,
   "metadata": {},
   "outputs": [],
   "source": [
    "viewer.add(DHFrame(T06))"
   ]
  },
  {
   "cell_type": "code",
   "execution_count": null,
   "metadata": {},
   "outputs": [],
   "source": []
  }
 ],
 "metadata": {
  "interpreter": {
   "hash": "e9066043d5d0373d960e1e3dd3460bf98ca2a38d572400433f28b63173790b35"
  },
  "kernelspec": {
   "display_name": "Python 3 (ipykernel)",
   "language": "python",
   "name": "python3"
  },
  "language_info": {
   "codemirror_mode": {
    "name": "ipython",
    "version": 3
   },
   "file_extension": ".py",
   "mimetype": "text/x-python",
   "name": "python",
   "nbconvert_exporter": "python",
   "pygments_lexer": "ipython3",
   "version": "3.8.11"
  }
 },
 "nbformat": 4,
 "nbformat_minor": 2
}
