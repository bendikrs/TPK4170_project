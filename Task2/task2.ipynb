{
 "cells": [
  {
   "cell_type": "code",
   "execution_count": 4,
   "metadata": {},
   "outputs": [],
   "source": [
    "from tpk4170.visualization import Ur5Visualizer\n",
    "from dataclasses import dataclass\n",
    "import modern_robotics as mr\n",
    "import numpy as np\n",
    "from kr6 import KR6\n",
    "from tpk4170.visualization import Viewer\n",
    "from tpk4170.models import Grid, Axes\n",
    "from dh import DHFrame\n",
    "\n",
    "np.set_printoptions(suppress=True)\n",
    "\n",
    "PI_HALF = np.pi / 2\n",
    "PI = np.pi\n"
   ]
  },
  {
   "cell_type": "code",
   "execution_count": 5,
   "metadata": {},
   "outputs": [
    {
     "name": "stdout",
     "output_type": "stream",
     "text": [
      "True\n",
      "[[ 1.     0.     0.     0.515]\n",
      " [ 0.    -1.    -0.    -0.   ]\n",
      " [ 0.     0.    -1.    -0.1  ]\n",
      " [ 0.     0.     0.     1.   ]]\n",
      "[[ 1.     0.     0.     0.515]\n",
      " [ 0.    -1.     0.     0.   ]\n",
      " [ 0.     0.    -1.    -0.1  ]\n",
      " [ 0.     0.     0.     1.   ]]\n"
     ]
    }
   ],
   "source": [
    "config1 = np.array([0,0,0,0,0,0])\n",
    "config2 = np.array([0,-np.pi/2,np.pi/2,0,0,0])\n",
    "config3 = np.array([0,0,np.pi/2,0,0,0])\n",
    "config4 = np.array([0,0,0,0,0,0])\n",
    "config5 = np.array([0,0,0,0,0,0])\n",
    "\n",
    "kr6_1 = KR6()\n",
    "print(np.allclose(kr6_1.fk_dh_zero,kr6_1.T_sb_poe,0.01))\n",
    "\n",
    "kr6 = KR6(config3)\n",
    "print(kr6.fk_dh_zero)\n",
    "print(kr6.T_sb_poe)"
   ]
  },
  {
   "cell_type": "code",
   "execution_count": 6,
   "metadata": {},
   "outputs": [
    {
     "name": "stderr",
     "output_type": "stream",
     "text": [
      "C:\\Users\\Bendik\\.conda\\envs\\tpk4170\\lib\\site-packages\\jupyter_client\\session.py:716: UserWarning: Message serialization failed with:\n",
      "Out of range float values are not JSON compliant\n",
      "Supporting this message is deprecated in jupyter-client 7, please make sure your message is JSON-compliant\n",
      "  content = self.pack(content)\n"
     ]
    },
    {
     "data": {
      "application/vnd.jupyter.widget-view+json": {
       "model_id": "e68e007937724ec98e4141bd43ad9c56",
       "version_major": 2,
       "version_minor": 0
      },
      "text/plain": [
       "Renderer(camera=PerspectiveCamera(aspect=1.5, children=(DirectionalLight(color='white', intensity=0.66, positi…"
      ]
     },
     "metadata": {},
     "output_type": "display_data"
    }
   ],
   "source": [
    "viewer = Viewer(background=\"white\")\n",
    "viewer.add(Grid())\n",
    "\n",
    "viewer.add(Axes(0.1))\n",
    "viewer.add(DHFrame(kr6.Tlist[0]))\n",
    "viewer.add(DHFrame(kr6.Tlist[1]))\n",
    "viewer.add(DHFrame(kr6.Tlist[2]))\n",
    "viewer.add(DHFrame(kr6.Tlist[3]))\n",
    "viewer.add(DHFrame(kr6.Tlist[4]))\n",
    "viewer.add(DHFrame(kr6.Tlist[5]))\n",
    "viewer.add(DHFrame(kr6.Tlist[6]))"
   ]
  }
 ],
 "metadata": {
  "interpreter": {
   "hash": "dac5994f52a285c6c57e8ca054eeba249811a086421e21f347740dfff430a8c7"
  },
  "kernelspec": {
   "display_name": "Python 3.8.12 64-bit ('tpk4170': conda)",
   "name": "python3"
  },
  "language_info": {
   "codemirror_mode": {
    "name": "ipython",
    "version": 3
   },
   "file_extension": ".py",
   "mimetype": "text/x-python",
   "name": "python",
   "nbconvert_exporter": "python",
   "pygments_lexer": "ipython3",
   "version": "3.8.12"
  }
 },
 "nbformat": 4,
 "nbformat_minor": 2
}
