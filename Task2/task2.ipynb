{
 "cells": [
  {
   "cell_type": "code",
   "execution_count": 33,
   "metadata": {},
   "outputs": [],
   "source": [
    "from tpk4170.visualization import Ur5Visualizer\n",
    "from dataclasses import dataclass\n",
    "import modern_robotics as mr\n",
    "import numpy as np\n",
    "import sympy as sp\n",
    "\n",
    "np.set_printoptions(suppress=True)\n",
    "\n",
    "PI_HALF = np.pi / 2\n",
    "PI = np.pi\n"
   ]
  },
  {
   "cell_type": "code",
   "execution_count": 34,
   "metadata": {},
   "outputs": [],
   "source": [
    "@dataclass\n",
    "class DHLink:\n",
    "    a: float\n",
    "    alpha: float\n",
    "    d: float\n",
    "    theta: float\n",
    "\n",
    "    def matrix(self) -> np.array:\n",
    "        ct = np.cos(self.theta)\n",
    "        st = np.sin(self.theta)\n",
    "        ca = np.cos(self.alpha)\n",
    "        sa = np.sin(self.alpha)\n",
    "        return np.array(\n",
    "            [\n",
    "                [ct, -st * ca, st * sa, self.a * ct],\n",
    "                [st, ct * ca, -ct * sa, self.a * st],\n",
    "                [0.0, sa, ca, self.d],\n",
    "                [0.0, 0.0, 0.0, 1.0],\n",
    "            ]\n",
    "        )\n"
   ]
  },
  {
   "cell_type": "code",
   "execution_count": 35,
   "metadata": {},
   "outputs": [],
   "source": [
    "class KR6:\n",
    "\n",
    "\n",
    "    def __init__(self):\n",
    "\n",
    "        self.d1, self.d2, self.d3, self.d4 = 0.400, 0.455, 0.420, 0.080 #distansene mellom jointsene som ikke er 0\n",
    "        self.a1, self.a2 = 0.025, 0.035 #offsetsene \n",
    "\n",
    "        self._M = np.array(\n",
    "            [\n",
    "                [0,  0,  1, self.a1+self.d2+self.d3+self.d4],\n",
    "                [0, -1,  0,                               0],\n",
    "                [1,  0,  0,                 self.a2+self.d1],\n",
    "                [0,  0,  0,                               1]\n",
    "            ]\n",
    "        )\n",
    "\n",
    "        self._Slist = np.array(\n",
    "            [\n",
    "                [0, 0,-1,                  0,                 0,                       0],\n",
    "                [0, 1, 0,           -self.d1,                 0,                 self.a1],\n",
    "                [0, 1, 0,           -self.d1,                 0,         self.a1+self.d2],\n",
    "                [-1,0, 0,                  0,-(self.a2+self.d1),                       0],\n",
    "                [0, 1, 0, -(self.d1+self.a2),                 0, self.a1+self.d2+self.d3],\n",
    "                [-1,0, 0,                  0,-(self.a2+self.d1),                       0]\n",
    "            ]\n",
    "        ).T\n",
    "        \n",
    "        self.theta = np.array([ [0],        # from space frame to joint 1\n",
    "                                [0],        # from joint 1 to joint 2\n",
    "                                [0],        # from joint 2 to joint 3\n",
    "                                [-PI_HALF], # from joint 3 to joint 4\n",
    "                                [0],        # from joint 4 to joint 5\n",
    "                                [0],        # from joint 5 to joint 6\n",
    "                                [0]])       # from joint 6 to body frame\n",
    "\n",
    "        self.alpha = np.array([[PI],\n",
    "                        [PI_HALF],\n",
    "                        [0],\n",
    "                        [PI_HALF],\n",
    "                        [-PI_HALF],\n",
    "                        [PI_HALF],\n",
    "                        [PI]])\n",
    "\n",
    "        self.d = np.array([[0],\n",
    "                    [-self.d1],\n",
    "                    [0],\n",
    "                    [0],\n",
    "                    [-self.d3],\n",
    "                    [0],\n",
    "                    [-self.d4]])\n",
    "\n",
    "        self.a = np.array([[0],\n",
    "                    [self.a1],\n",
    "                    [self.d2],\n",
    "                    [self.a2],\n",
    "                    [0],\n",
    "                    [0],\n",
    "                    [0]])\n",
    "\n",
    "        self.dhList = np.concatenate((self.a, self.alpha, self.d, self.theta), axis=1)\n",
    "\n",
    "        self._Blist = mr.Adjoint(np.linalg.inv(self._M)) @ self._Slist\n",
    "\n",
    "        self.linkList = [] # Contains all the DHlinks for the robot\n",
    "        for i in range(len(self.dhList)):\n",
    "            self.linkList.append(DHLink(*self.dhList[i]))\n",
    "\n",
    "        self.fk_dh_zero = self.linkList[0].matrix() # DH zero configuration\n",
    "        self.Tlist = [self.linkList[0].matrix()]    # Contains all the transformation matrices\n",
    "\n",
    "        for i in range(1, len(self.dhList)):\n",
    "            self.fk_dh_zero *= self.linkList[i].matrix()\n",
    "            self.Tlist.append(self.Tlist[i-1] @ self.linkList[i].matrix())\n",
    "\n",
    "    def fKinS(self, theta): #Returnerer T_SB, altså transformasjonsmatrisa fra space til end-effector\n",
    "        return mr.FKinSpace(self._M, self._Slist, theta)\n"
   ]
  },
  {
   "cell_type": "code",
   "execution_count": 36,
   "metadata": {},
   "outputs": [],
   "source": [
    "kr6 = KR6()"
   ]
  },
  {
   "cell_type": "code",
   "execution_count": 37,
   "metadata": {},
   "outputs": [],
   "source": [
    "from tpk4170.visualization import Viewer\n",
    "from tpk4170.models import Grid, Axes, Ball\n",
    "from pythreejs import Object3D\n",
    "from transformations import quaternion_from_matrix\n",
    "from pythreejs import ConeGeometry\n",
    "from pythreejs import Preview"
   ]
  },
  {
   "cell_type": "code",
   "execution_count": 38,
   "metadata": {},
   "outputs": [],
   "source": [
    "class DHFrame(Axes):\n",
    "    def __init__(self, trf):\n",
    "        Axes.__init__(self, 0.1)\n",
    "        self.quaternion = np.roll(quaternion_from_matrix(trf), -1).tolist()\n",
    "        self.position = (trf[:3, 3]).tolist()"
   ]
  },
  {
   "cell_type": "code",
   "execution_count": 39,
   "metadata": {},
   "outputs": [
    {
     "name": "stderr",
     "output_type": "stream",
     "text": [
      "C:\\Users\\Bendik\\.conda\\envs\\tpk4170\\lib\\site-packages\\jupyter_client\\session.py:716: UserWarning: Message serialization failed with:\n",
      "Out of range float values are not JSON compliant\n",
      "Supporting this message is deprecated in jupyter-client 7, please make sure your message is JSON-compliant\n",
      "  content = self.pack(content)\n"
     ]
    },
    {
     "data": {
      "application/vnd.jupyter.widget-view+json": {
       "model_id": "1b390645a7ac41b6ae54ead7edca247c",
       "version_major": 2,
       "version_minor": 0
      },
      "text/plain": [
       "Renderer(camera=PerspectiveCamera(aspect=1.5, children=(DirectionalLight(color='white', intensity=0.66, positi…"
      ]
     },
     "metadata": {},
     "output_type": "display_data"
    }
   ],
   "source": [
    "viewer = Viewer(background=\"white\")\n",
    "viewer.add(Grid())\n",
    "\n",
    "viewer.add(Axes(0.1))\n",
    "viewer.add(DHFrame(kr6.Tlist[0]))\n",
    "viewer.add(DHFrame(kr6.Tlist[1]))\n",
    "viewer.add(DHFrame(kr6.Tlist[2]))\n",
    "viewer.add(DHFrame(kr6.Tlist[3]))\n",
    "viewer.add(DHFrame(kr6.Tlist[4]))\n",
    "viewer.add(DHFrame(kr6.Tlist[5]))\n",
    "viewer.add(DHFrame(kr6.Tlist[6]))"
   ]
  }
 ],
 "metadata": {
  "interpreter": {
   "hash": "dac5994f52a285c6c57e8ca054eeba249811a086421e21f347740dfff430a8c7"
  },
  "kernelspec": {
   "display_name": "Python 3.8.12 64-bit ('tpk4170': conda)",
   "name": "python3"
  },
  "language_info": {
   "codemirror_mode": {
    "name": "ipython",
    "version": 3
   },
   "file_extension": ".py",
   "mimetype": "text/x-python",
   "name": "python",
   "nbconvert_exporter": "python",
   "pygments_lexer": "ipython3",
   "version": "3.8.12"
  }
 },
 "nbformat": 4,
 "nbformat_minor": 2
}
