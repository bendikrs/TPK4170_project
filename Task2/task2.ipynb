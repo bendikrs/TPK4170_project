{
 "cells": [
  {
   "cell_type": "code",
   "execution_count": 31,
   "metadata": {},
   "outputs": [],
   "source": [
    "#from tpk4170.visualization import Ur5Visualizer\n",
    "from dataclasses import dataclass\n",
    "import modern_robotics as mr\n",
    "import numpy as np\n",
    "\n",
    "np.set_printoptions(suppress=True)\n"
   ]
  },
  {
   "cell_type": "code",
   "execution_count": 30,
   "metadata": {},
   "outputs": [],
   "source": [
    "@dataclass\n",
    "class DHLink:\n",
    "    a: float\n",
    "    alpha: float\n",
    "    d: float\n",
    "    theta: float\n",
    "\n",
    "    def matrix(self) -> np.array:\n",
    "        ct = np.cos(self.theta)\n",
    "        st = np.sin(self.theta)\n",
    "        ca = np.cos(self.alpha)\n",
    "        sa = np.sin(self.alpha)\n",
    "        return np.array(\n",
    "            [\n",
    "                [ct, -st * ca, st * sa, self.a * ct],\n",
    "                [st, ct * ca, -ct * sa, self.a * st],\n",
    "                [0.0, sa, ca, self.d],\n",
    "                [0.0, 0.0, 0.0, 1.0],\n",
    "            ]\n",
    "        )\n"
   ]
  },
  {
   "cell_type": "code",
   "execution_count": 33,
   "metadata": {},
   "outputs": [],
   "source": [
    "class KR6:\n",
    "    d1, d2, d3, d4 = 400, 455, 420, 80\n",
    "    a1, a2 = 25, 35\n",
    "    theta_zero = np.zeros((6, 1))\n",
    "\n",
    "    def __init__(self):\n",
    "        self._M = np.array(\n",
    "            [[1,  0,  0, self.a1+self.d2+self.d3+self.d4],\n",
    "             [0, -1,  0,        0],\n",
    "             [0,  0, -1,                 self.a2+self.d1],\n",
    "             [0,  0,  0,                              1]])\n",
    "\n",
    "        self._SList = np.array(\n",
    "            [[0, 0, 1,   0,       0,      0],\n",
    "             [0, 1, 0, -self.d1,  0,      self.a1],\n",
    "             [0, 1, 0, -self.d1,  0,     self.a1+self.d2],\n",
    "             [1, 0, 0,   0,   self.a2+self.d1,    0],\n",
    "             [0, 1, 0, -(self.d1+self.a2),   0,  self.a1+self.d2+self.d3],\n",
    "             [1, 0, 0,   0,   self.a2+self.d1,    0]])\n",
    "\n",
    "        self._Blist = (mr.Adjoint(mr.FKinSpace(\n",
    "            self._M, self._Slist, self.theta_zero) @ self._Slist))\n",
    "\n",
    "    # def fkin(self, theta):\n",
    "    #     return mr.FKinSpace(self._M, self._SList, theta)\n",
    "\n",
    "\n",
    "PI_HALF = np.pi / 2\n",
    "PI = np.pi\n"
   ]
  },
  {
   "cell_type": "code",
   "execution_count": 26,
   "metadata": {},
   "outputs": [
    {
     "name": "stdout",
     "output_type": "stream",
     "text": [
      "[[  1.   0.   0. 980.]\n",
      " [  0.  -1.   0.   0.]\n",
      " [  0.   0.  -1. 435.]\n",
      " [  0.   0.   0.   1.]]\n"
     ]
    },
    {
     "data": {
      "text/plain": [
       "array([[0.],\n",
       "       [0.],\n",
       "       [0.],\n",
       "       [0.],\n",
       "       [0.],\n",
       "       [0.]])"
      ]
     },
     "execution_count": 26,
     "metadata": {},
     "output_type": "execute_result"
    }
   ],
   "source": [
    "\n",
    "# kr6 = KR6()\n",
    "\n",
    "# print(kr6.fkin(theta_zero))\n",
    "\n",
    "# np.zeros((6,1))\n"
   ]
  },
  {
   "cell_type": "code",
   "execution_count": null,
   "metadata": {},
   "outputs": [
    {
     "data": {
      "text/plain": [
       "array([[  0.        ,   0.        ,   0.        ,   0.        ],\n",
       "       [ 25.        ,  -1.57079633, 400.        ,   0.        ],\n",
       "       [455.        ,   0.        ,   0.        ,   1.57079633],\n",
       "       [ 35.        ,  -1.57079633,   0.        ,   0.        ],\n",
       "       [  0.        ,   1.57079633, 420.        ,   0.        ],\n",
       "       [  0.        ,  -1.57079633,  80.        ,   0.        ]])"
      ]
     },
     "execution_count": 7,
     "metadata": {},
     "output_type": "execute_result"
    }
   ],
   "source": [
    "theta = np.array([[0],\n",
    "                  [0],\n",
    "                  [PI_HALF],\n",
    "                  [0],\n",
    "                  [0],\n",
    "                  [0]])\n",
    "\n",
    "alpha = np.array([[0],\n",
    "                  [-PI_HALF],\n",
    "                  [0],\n",
    "                  [-PI_HALF],\n",
    "                  [PI_HALF],\n",
    "                  [-PI_HALF]])\n",
    "\n",
    "d = np.array([[0],\n",
    "              [400],\n",
    "              [0],\n",
    "              [0],\n",
    "              [420],\n",
    "              [80]])\n",
    "\n",
    "a = np.array([[0],\n",
    "              [25],\n",
    "              [455],\n",
    "              [35],\n",
    "              [0],\n",
    "              [0]])\n",
    "\n",
    "dhList = np.concatenate((a, alpha, d, theta), axis=1)\n",
    "dhList\n"
   ]
  },
  {
   "cell_type": "code",
   "execution_count": null,
   "metadata": {},
   "outputs": [],
   "source": [
    "l1 = DHLink(*dhList[0])\n",
    "l2 = DHLink(*dhList[1])\n",
    "l3 = DHLink(*dhList[2])\n",
    "l4 = DHLink(*dhList[3])\n",
    "l5 = DHLink(*dhList[4])\n",
    "l6 = DHLink(*dhList[5])\n"
   ]
  },
  {
   "cell_type": "code",
   "execution_count": null,
   "metadata": {},
   "outputs": [
    {
     "data": {
      "text/plain": [
       "array([[   0.,   -0.,   -1., -395.],\n",
       "       [   0.,   -1.,    0.,   80.],\n",
       "       [  -1.,   -0.,   -0.,  -90.],\n",
       "       [   0.,    0.,    0.,    1.]])"
      ]
     },
     "execution_count": 9,
     "metadata": {},
     "output_type": "execute_result"
    }
   ],
   "source": [
    "fk_dh_zero = (\n",
    "    l1.matrix()\n",
    "    @ l2.matrix()\n",
    "    @ l3.matrix()\n",
    "    @ l4.matrix()\n",
    "    @ l5.matrix()\n",
    "    @ l6.matrix()\n",
    ")\n",
    "fk_dh_zero\n"
   ]
  }
 ],
 "metadata": {
  "interpreter": {
   "hash": "c469c999aae2bf6d578d6881606ced546d1546d312a4811937df5b24665ee8bc"
  },
  "kernelspec": {
   "display_name": "Python 3.8.11 64-bit ('base': conda)",
   "name": "python3"
  },
  "language_info": {
   "codemirror_mode": {
    "name": "ipython",
    "version": 3
   },
   "file_extension": ".py",
   "mimetype": "text/x-python",
   "name": "python",
   "nbconvert_exporter": "python",
   "pygments_lexer": "ipython3",
   "version": "3.8.11"
  },
  "orig_nbformat": 4
 },
 "nbformat": 4,
 "nbformat_minor": 2
}
