{
 "cells": [
  {
   "cell_type": "code",
   "execution_count": 3,
   "metadata": {},
   "outputs": [],
   "source": [
    "import modern_robotics as mr\n",
    "import numpy as np\n",
    "\n",
    "np.set_printoptions(suppress=True)\n",
    "from dataclasses import dataclass\n",
    "from tpk4170.visualization import Ur5Visualizer"
   ]
  },
  {
   "cell_type": "code",
   "execution_count": 4,
   "metadata": {},
   "outputs": [],
   "source": [
    "@dataclass\n",
    "class DHLink:\n",
    "    a: float\n",
    "    alpha: float\n",
    "    d: float\n",
    "    theta: float\n",
    "\n",
    "    def matrix(self) -> np.array:\n",
    "        ct = np.cos(self.theta)\n",
    "        st = np.sin(self.theta)\n",
    "        ca = np.cos(self.alpha)\n",
    "        sa = np.sin(self.alpha)\n",
    "        return np.array(\n",
    "            [\n",
    "                [ct, -st * ca, st * sa, self.a * ct],\n",
    "                [st, ct * ca, -ct * sa, self.a * st],\n",
    "                [0.0, sa, ca, self.d],\n",
    "                [0.0, 0.0, 0.0, 1.0],\n",
    "            ]\n",
    "        )"
   ]
  },
  {
   "cell_type": "code",
   "execution_count": 5,
   "metadata": {},
   "outputs": [],
   "source": [
    "class KR6:\n",
    "\n",
    "    def __init__(self):\n",
    "        self._M = np.array(\n",
    "            [[1,  0,  0, 455+420+80],\n",
    "            [0, -1,  0,      0],\n",
    "            [0,  0, -1,     400],\n",
    "            [0,  0,  0,      1]])\n",
    "\n",
    "\n",
    "        self._SList = np.array(\n",
    "             [[0, 0, 1,   0,   0,      0],\n",
    "              [0, 1, 0, -400,  0,      0],\n",
    "              [0, 1, 0, -400,  0,     455],\n",
    "              [1, 0, 0,   0,   400,    0],\n",
    "              [0, 1, 0, -400,   0,  420+455],\n",
    "              [1, 0, 0,   0,   400,    0]])\n",
    "\n",
    "    def fkin(self, theta):\n",
    "        return mr.FKinSpace(self._M, self._SList, theta)\n",
    "\n",
    "\n",
    "PI_HALF = np.pi / 2\n",
    "PI = np.pi"
   ]
  },
  {
   "cell_type": "code",
   "execution_count": 6,
   "metadata": {},
   "outputs": [],
   "source": [
    "kr6 = KR6()"
   ]
  },
  {
   "cell_type": "code",
   "execution_count": 7,
   "metadata": {},
   "outputs": [
    {
     "data": {
      "text/plain": [
       "array([[  0.        ,   0.        ,   0.        ,   0.        ],\n",
       "       [ 25.        ,  -1.57079633, 400.        ,   0.        ],\n",
       "       [455.        ,   0.        ,   0.        ,   1.57079633],\n",
       "       [ 35.        ,  -1.57079633,   0.        ,   0.        ],\n",
       "       [  0.        ,   1.57079633, 420.        ,   0.        ],\n",
       "       [  0.        ,  -1.57079633,  80.        ,   0.        ]])"
      ]
     },
     "execution_count": 7,
     "metadata": {},
     "output_type": "execute_result"
    }
   ],
   "source": [
    "theta = np.array([[0],\n",
    "                  [0],\n",
    "                  [PI_HALF],\n",
    "                  [0],\n",
    "                  [0],\n",
    "                  [0]])\n",
    "\n",
    "alpha = np.array([[0],\n",
    "                  [-PI_HALF],\n",
    "                  [0],\n",
    "                  [-PI_HALF],\n",
    "                  [PI_HALF],\n",
    "                  [-PI_HALF]])\n",
    "\n",
    "d = np.array([[0],\n",
    "              [400],\n",
    "              [0],\n",
    "              [0],\n",
    "              [420],\n",
    "              [80]])\n",
    "\n",
    "a = np.array([[0],\n",
    "              [25],\n",
    "              [455],\n",
    "              [35],\n",
    "              [0],\n",
    "              [0]])\n",
    "\n",
    "dhList = np.concatenate((a, alpha, d, theta), axis=1)\n",
    "dhList"
   ]
  },
  {
   "cell_type": "code",
   "execution_count": 8,
   "metadata": {},
   "outputs": [],
   "source": [
    "l1 = DHLink(*dhList[0])\n",
    "l2 = DHLink(*dhList[1])\n",
    "l3 = DHLink(*dhList[2])\n",
    "l4 = DHLink(*dhList[3])\n",
    "l5 = DHLink(*dhList[4])\n",
    "l6 = DHLink(*dhList[5])"
   ]
  },
  {
   "cell_type": "code",
   "execution_count": 9,
   "metadata": {},
   "outputs": [
    {
     "data": {
      "text/plain": [
       "array([[   0.,   -0.,   -1., -395.],\n",
       "       [   0.,   -1.,    0.,   80.],\n",
       "       [  -1.,   -0.,   -0.,  -90.],\n",
       "       [   0.,    0.,    0.,    1.]])"
      ]
     },
     "execution_count": 9,
     "metadata": {},
     "output_type": "execute_result"
    }
   ],
   "source": [
    "fk_dh_zero = (\n",
    "    l1.matrix()\n",
    "    @ l2.matrix()\n",
    "    @ l3.matrix()\n",
    "    @ l4.matrix()\n",
    "    @ l5.matrix()\n",
    "    @ l6.matrix()\n",
    ")\n",
    "fk_dh_zero"
   ]
  }
 ],
 "metadata": {
  "interpreter": {
   "hash": "1b659ad3131cfdfa183ee9e2521f5efe4466c1598f55787903416942c956bfb3"
  },
  "kernelspec": {
   "display_name": "Python 3.8.11 64-bit ('TPK4170': conda)",
   "name": "python3"
  },
  "language_info": {
   "codemirror_mode": {
    "name": "ipython",
    "version": 3
   },
   "file_extension": ".py",
   "mimetype": "text/x-python",
   "name": "python",
   "nbconvert_exporter": "python",
   "pygments_lexer": "ipython3",
   "version": "3.8.11"
  },
  "orig_nbformat": 4
 },
 "nbformat": 4,
 "nbformat_minor": 2
}
