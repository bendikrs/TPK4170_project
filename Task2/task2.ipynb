{
 "cells": [
  {
   "cell_type": "code",
   "execution_count": 52,
   "metadata": {},
   "outputs": [],
   "source": [
    "# from tpk4170.visualization import Ur5Visualizer\n",
    "from dataclasses import dataclass\n",
    "import modern_robotics as mr\n",
    "import numpy as np\n",
    "import sympy as sp\n",
    "\n",
    "np.set_printoptions(suppress=True)\n",
    "\n",
    "PI_HALF = np.pi / 2\n",
    "PI = np.pi\n"
   ]
  },
  {
   "cell_type": "code",
   "execution_count": 53,
   "metadata": {},
   "outputs": [],
   "source": [
    "@dataclass\n",
    "class DHLink:\n",
    "    a: float\n",
    "    alpha: float\n",
    "    d: float\n",
    "    theta: float\n",
    "\n",
    "    def matrix(self) -> np.array:\n",
    "        ct = np.cos(self.theta)\n",
    "        st = np.sin(self.theta)\n",
    "        ca = np.cos(self.alpha)\n",
    "        sa = np.sin(self.alpha)\n",
    "        return np.array(\n",
    "            [\n",
    "                [ct, -st * ca, st * sa, self.a * ct],\n",
    "                [st, ct * ca, -ct * sa, self.a * st],\n",
    "                [0.0, sa, ca, self.d],\n",
    "                [0.0, 0.0, 0.0, 1.0],\n",
    "            ]\n",
    "        )\n"
   ]
  },
  {
   "cell_type": "code",
   "execution_count": 54,
   "metadata": {},
   "outputs": [],
   "source": [
    "class KR6:\n",
    "    d1, d2, d3, d4 = 400, 455, 420, 80\n",
    "    a1, a2 = 25, 35\n",
    "    theta_zero = np.zeros((6, 1))\n",
    "\n",
    "    M = np.array(\n",
    "        [[1,  0,  0, a1+d2+d3+d4],\n",
    "            [0, -1,  0,        0],\n",
    "            [0,  0, -1,                 a2+d1],\n",
    "            [0,  0,  0,                              1]])\n",
    "\n",
    "    Slist = np.array(\n",
    "        [[0, 0, 1,   0,       0,      0],\n",
    "            [0, 1, 0, -d1,  0,      a1],\n",
    "            [0, 1, 0, -d1,  0,     a1+d2],\n",
    "            [1, 0, 0,   0,   a2+d1,    0],\n",
    "            [0, 1, 0, -(d1+a2),   0,  a1+d2+d3],\n",
    "            [1, 0, 0,   0,   a2+d1,    0]]).T\n",
    "\n",
    "    Blist = (mr.Adjoint(mr.FKinSpace(M, Slist, theta_zero)) @ Slist)"
   ]
  },
  {
   "cell_type": "code",
   "execution_count": 57,
   "metadata": {},
   "outputs": [
    {
     "data": {
      "text/latex": [
       "$\\displaystyle \\left[\\begin{matrix}0 & 0 & -1.0 & 0 & 980.0 & 0\\\\0 & -1.0 & 0 & 35.0 & 0 & -1005.0\\\\0 & -1.0 & 0 & 35.0 & 0 & -1460.0\\\\1.0 & 0 & 0 & 0 & 0 & 0\\\\0 & -1.0 & 0 & 0 & 0 & -1880.0\\\\1.0 & 0 & 0 & 0 & 0 & 0\\end{matrix}\\right]$"
      ],
      "text/plain": [
       "Matrix([\n",
       "[  0,    0, -1.0,    0, 980.0,       0],\n",
       "[  0, -1.0,    0, 35.0,     0, -1005.0],\n",
       "[  0, -1.0,    0, 35.0,     0, -1460.0],\n",
       "[1.0,    0,    0,    0,     0,       0],\n",
       "[  0, -1.0,    0,    0,     0, -1880.0],\n",
       "[1.0,    0,    0,    0,     0,       0]])"
      ]
     },
     "execution_count": 57,
     "metadata": {},
     "output_type": "execute_result"
    }
   ],
   "source": [
    "sp.Matrix(KR6().Blist.T)\n",
    "# KR6().Slist"
   ]
  },
  {
   "cell_type": "code",
   "execution_count": 35,
   "metadata": {},
   "outputs": [
    {
     "data": {
      "text/plain": [
       "array([[  0.        ,   0.        ,   0.        ,   0.        ],\n",
       "       [ 25.        ,  -1.57079633, 400.        ,   0.        ],\n",
       "       [455.        ,   0.        ,   0.        ,   1.57079633],\n",
       "       [ 35.        ,  -1.57079633,   0.        ,   0.        ],\n",
       "       [  0.        ,   1.57079633, 420.        ,   0.        ],\n",
       "       [  0.        ,  -1.57079633,  80.        ,   0.        ]])"
      ]
     },
     "execution_count": 35,
     "metadata": {},
     "output_type": "execute_result"
    }
   ],
   "source": [
    "theta = np.array([[0],\n",
    "                  [0],\n",
    "                  [PI_HALF],\n",
    "                  [0],\n",
    "                  [0],\n",
    "                  [0]])\n",
    "\n",
    "alpha = np.array([[0],\n",
    "                  [-PI_HALF],\n",
    "                  [0],\n",
    "                  [-PI_HALF],\n",
    "                  [PI_HALF],\n",
    "                  [-PI_HALF]])\n",
    "\n",
    "d = np.array([[0],\n",
    "              [400],\n",
    "              [0],\n",
    "              [0],\n",
    "              [420],\n",
    "              [80]])\n",
    "\n",
    "a = np.array([[0],\n",
    "              [25],\n",
    "              [455],\n",
    "              [35],\n",
    "              [0],\n",
    "              [0]])\n",
    "\n",
    "dhList = np.concatenate((a, alpha, d, theta), axis=1)\n",
    "dhList\n"
   ]
  },
  {
   "cell_type": "code",
   "execution_count": 36,
   "metadata": {},
   "outputs": [],
   "source": [
    "l1 = DHLink(*dhList[0])\n",
    "l2 = DHLink(*dhList[1])\n",
    "l3 = DHLink(*dhList[2])\n",
    "l4 = DHLink(*dhList[3])\n",
    "l5 = DHLink(*dhList[4])\n",
    "l6 = DHLink(*dhList[5])\n"
   ]
  },
  {
   "cell_type": "code",
   "execution_count": 37,
   "metadata": {},
   "outputs": [
    {
     "data": {
      "text/plain": [
       "array([[   0.,   -0.,   -1., -395.],\n",
       "       [   0.,   -1.,    0.,   80.],\n",
       "       [  -1.,   -0.,   -0.,  -90.],\n",
       "       [   0.,    0.,    0.,    1.]])"
      ]
     },
     "execution_count": 37,
     "metadata": {},
     "output_type": "execute_result"
    }
   ],
   "source": [
    "fk_dh_zero = (\n",
    "    l1.matrix()\n",
    "    @ l2.matrix()\n",
    "    @ l3.matrix()\n",
    "    @ l4.matrix()\n",
    "    @ l5.matrix()\n",
    "    @ l6.matrix()\n",
    ")\n",
    "fk_dh_zero\n"
   ]
  },
  {
   "cell_type": "code",
   "execution_count": null,
   "metadata": {},
   "outputs": [],
   "source": []
  },
  {
   "cell_type": "code",
   "execution_count": null,
   "metadata": {},
   "outputs": [],
   "source": []
  },
  {
   "cell_type": "code",
   "execution_count": null,
   "metadata": {},
   "outputs": [],
   "source": []
  }
 ],
 "metadata": {
  "interpreter": {
   "hash": "adb03dbe05bd728604349c36e6ae99b0d77b6bcdf6d43d113a7eb51498008920"
  },
  "kernelspec": {
   "display_name": "Python 3.8.11 64-bit ('tpk4170_venv': venv)",
   "name": "python3"
  },
  "language_info": {
   "codemirror_mode": {
    "name": "ipython",
    "version": 3
   },
   "file_extension": ".py",
   "mimetype": "text/x-python",
   "name": "python",
   "nbconvert_exporter": "python",
   "pygments_lexer": "ipython3",
   "version": "3.8.11"
  },
  "orig_nbformat": 4
 },
 "nbformat": 4,
 "nbformat_minor": 2
}
