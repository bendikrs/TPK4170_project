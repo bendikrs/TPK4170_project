{
 "cells": [
  {
   "cell_type": "code",
   "execution_count": 312,
   "metadata": {},
   "outputs": [],
   "source": [
    "# from tpk4170.visualization import Ur5Visualizer\n",
    "from dataclasses import dataclass\n",
    "import modern_robotics as mr\n",
    "import numpy as np\n",
    "import sympy as sp\n",
    "\n",
    "np.set_printoptions(suppress=True)\n",
    "\n",
    "PI_HALF = np.pi / 2\n",
    "PI = np.pi\n"
   ]
  },
  {
   "cell_type": "code",
   "execution_count": 313,
   "metadata": {},
   "outputs": [],
   "source": [
    "@dataclass\n",
    "class DHLink:\n",
    "    a: float\n",
    "    alpha: float\n",
    "    d: float\n",
    "    theta: float\n",
    "\n",
    "    def matrix(self) -> np.array:\n",
    "        ct = np.cos(self.theta)\n",
    "        st = np.sin(self.theta)\n",
    "        ca = np.cos(self.alpha)\n",
    "        sa = np.sin(self.alpha)\n",
    "        return np.array(\n",
    "            [\n",
    "                [ct, -st * ca, st * sa, self.a * ct],\n",
    "                [st, ct * ca, -ct * sa, self.a * st],\n",
    "                [0.0, sa, ca, self.d],\n",
    "                [0.0, 0.0, 0.0, 1.0],\n",
    "            ]\n",
    "        )\n"
   ]
  },
  {
   "cell_type": "code",
   "execution_count": 314,
   "metadata": {},
   "outputs": [],
   "source": [
    "class KR6:\n",
    "    d1, d2, d3, d4 = 0.400, 0.455, 0.420, 0.080 #distansene mellom jointsene som ikke er 0\n",
    "    a1, a2 = 0.025, 0.035 #offsetsene \n",
    "\n",
    "\n",
    "    def __init__(self):\n",
    "        self._M = np.array(\n",
    "            [\n",
    "                [0,  0,  1, self.a1+self.d2+self.d3+self.d4],\n",
    "                [0, -1,  0,                               0],\n",
    "                [1,  0,  0,                 self.a2+self.d1],\n",
    "                [0,  0,  0,                               1]\n",
    "            ]\n",
    "        )\n",
    "\n",
    "        self._Slist = np.array(\n",
    "            [\n",
    "                [0, 0, 1,                  0,               0,                       0],\n",
    "                [0, 1, 0,           -self.d1,               0,                 self.a1],\n",
    "                [0, 1, 0,           -self.d1,               0,         self.a1+self.d2],\n",
    "                [1, 0, 0,                  0, self.a2+self.d1,                       0],\n",
    "                [0, 1, 0, -(self.d1+self.a2),               0, self.a1+self.d2+self.d3],\n",
    "                [1, 0, 0,                  0, self.a2+self.d1,                       0]\n",
    "            ]\n",
    "        ).T\n",
    "\n",
    "        self._Blist = mr.Adjoint(np.linalg.inv(self._M)) @ self._Slist\n",
    "\n",
    "    def fKinS(self, theta): #Returnerer T_SB, altså transformasjonsmatrisa fra space til end-effector\n",
    "        return mr.FKinSpace(self._M, self._Slist, theta)\n"
   ]
  },
  {
   "cell_type": "code",
   "execution_count": null,
   "metadata": {},
   "outputs": [],
   "source": []
  },
  {
   "cell_type": "code",
   "execution_count": 315,
   "metadata": {},
   "outputs": [],
   "source": [
    "kr6 = KR6()"
   ]
  },
  {
   "cell_type": "code",
   "execution_count": 536,
   "metadata": {},
   "outputs": [
    {
     "data": {
      "text/plain": [
       "array([[ 0.        ,  3.14159265,  0.        ,  0.        ],\n",
       "       [ 0.025     ,  1.57079633, -0.4       ,  0.        ],\n",
       "       [ 0.455     ,  0.        ,  0.        ,  1.57079633],\n",
       "       [ 0.035     ,  1.57079633,  0.        ,  0.        ],\n",
       "       [ 0.        , -1.57079633, -0.42      ,  0.        ],\n",
       "       [ 0.        , -1.57079633,  0.        ,  0.        ]])"
      ]
     },
     "execution_count": 536,
     "metadata": {},
     "output_type": "execute_result"
    }
   ],
   "source": [
    "theta = np.array([[0],\n",
    "                  [0],\n",
    "                  [PI_HALF],\n",
    "                  [0],\n",
    "                  [0],\n",
    "                  [0]])\n",
    "\n",
    "alpha = np.array([[PI],\n",
    "                  [PI_HALF],\n",
    "                  [PI_HALF],\n",
    "                  [PI_HALF],\n",
    "                  [-PI_HALF],\n",
    "                  [-PI_HALF]])\n",
    "\n",
    "d = np.array([[0],\n",
    "              [-kr6.d1],\n",
    "              [0],\n",
    "              [0],\n",
    "              [-kr6.d3],\n",
    "              [0]])\n",
    "\n",
    "a = np.array([[0],\n",
    "              [kr6.a1],\n",
    "              [kr6.d2],\n",
    "              [kr6.a2],\n",
    "              [0],\n",
    "              [0]])\n",
    "\n",
    "dhList = np.concatenate((a, alpha, d, theta), axis=1)\n",
    "dhList\n"
   ]
  },
  {
   "cell_type": "code",
   "execution_count": 537,
   "metadata": {},
   "outputs": [],
   "source": [
    "l1 = DHLink(*dhList[0])\n",
    "l2 = DHLink(*dhList[1])\n",
    "l3 = DHLink(*dhList[2])\n",
    "l4 = DHLink(*dhList[3])\n",
    "l5 = DHLink(*dhList[4])\n",
    "l6 = DHLink(*dhList[5])"
   ]
  },
  {
   "cell_type": "code",
   "execution_count": 538,
   "metadata": {},
   "outputs": [
    {
     "name": "stdout",
     "output_type": "stream",
     "text": [
      "[[False False False False]\n",
      " [False  True False False]\n",
      " [False False False False]\n",
      " [ True  True  True  True]]\n"
     ]
    },
    {
     "data": {
      "text/plain": [
       "array([[ 0.   , -0.   , -1.   , -0.395],\n",
       "       [-0.   , -1.   ,  0.   , -0.   ],\n",
       "       [-1.   ,  0.   , -0.   , -0.09 ],\n",
       "       [ 0.   ,  0.   ,  0.   ,  1.   ]])"
      ]
     },
     "execution_count": 538,
     "metadata": {},
     "output_type": "execute_result"
    }
   ],
   "source": [
    "fk_dh_zero = (\n",
    "    l1.matrix()\n",
    "    @ l2.matrix()\n",
    "    @ l3.matrix()\n",
    "    @ l4.matrix()\n",
    "    @ l5.matrix()\n",
    "    @ l6.matrix()\n",
    ")\n",
    "print(fk_dh_zero == kr6._M)\n",
    "fk_dh_zero\n"
   ]
  },
  {
   "cell_type": "code",
   "execution_count": 539,
   "metadata": {},
   "outputs": [],
   "source": [
    "from tpk4170.visualization import Viewer\n",
    "from tpk4170.models import Grid, Axes, Ball\n",
    "from pythreejs import Object3D\n",
    "from transformations import quaternion_from_matrix\n",
    "from pythreejs import ConeGeometry\n",
    "from pythreejs import Preview"
   ]
  },
  {
   "cell_type": "code",
   "execution_count": 540,
   "metadata": {},
   "outputs": [],
   "source": [
    "class DHFrame(Axes):\n",
    "    def __init__(self, trf):\n",
    "        Axes.__init__(self, 0.1)\n",
    "        self.quaternion = np.roll(quaternion_from_matrix(trf), -1).tolist()\n",
    "        self.position = (trf[:3, 3]).tolist()"
   ]
  },
  {
   "cell_type": "code",
   "execution_count": 541,
   "metadata": {},
   "outputs": [
    {
     "data": {
      "application/vnd.jupyter.widget-view+json": {
       "model_id": "4e2386e04fd643d28cce5400f7eaab05",
       "version_major": 2,
       "version_minor": 0
      },
      "text/plain": [
       "Renderer(camera=PerspectiveCamera(aspect=1.5, children=(DirectionalLight(color='white', intensity=0.66, positi…"
      ]
     },
     "metadata": {},
     "output_type": "display_data"
    }
   ],
   "source": [
    "viewer = Viewer(background=\"white\")\n",
    "viewer.add(Grid())"
   ]
  },
  {
   "cell_type": "code",
   "execution_count": 542,
   "metadata": {},
   "outputs": [
    {
     "data": {
      "text/plain": [
       "array([[ 0.   , -1.   ,  0.   ,  0.025],\n",
       "       [-0.   , -0.   ,  1.   , -0.   ],\n",
       "       [-1.   , -0.   , -0.   , -0.055],\n",
       "       [ 0.   ,  0.   ,  0.   ,  1.   ]])"
      ]
     },
     "execution_count": 542,
     "metadata": {},
     "output_type": "execute_result"
    }
   ],
   "source": [
    "T01 = l1.matrix()\n",
    "T02 = l1.matrix() @ l2.matrix()\n",
    "T03 = l1.matrix() @ l2.matrix() @ l3.matrix()\n",
    "T04 = l1.matrix() @ l2.matrix() @ l3.matrix() @ l4.matrix()\n",
    "T05 = l1.matrix() @ l2.matrix() @ l3.matrix() @ l4.matrix() @ l5.matrix()\n",
    "T06 = l1.matrix() @ l2.matrix() @ l3.matrix() @ l4.matrix() @ l5.matrix() @ l6.matrix()\n",
    "\n",
    "T03"
   ]
  },
  {
   "cell_type": "code",
   "execution_count": 543,
   "metadata": {},
   "outputs": [],
   "source": [
    "viewer.add(Axes(0.1))\n",
    "viewer.add(DHFrame(T01))\n",
    "viewer.add(DHFrame(T02))\n",
    "viewer.add(DHFrame(T03))\n",
    "viewer.add(DHFrame(T04))\n",
    "viewer.add(DHFrame(T05))\n",
    "viewer.add(DHFrame(T06))"
   ]
  },
  {
   "cell_type": "code",
   "execution_count": null,
   "metadata": {},
   "outputs": [],
   "source": []
  },
  {
   "cell_type": "code",
   "execution_count": null,
   "metadata": {},
   "outputs": [],
   "source": []
  },
  {
   "cell_type": "code",
   "execution_count": 379,
   "metadata": {},
   "outputs": [],
   "source": []
  },
  {
   "cell_type": "code",
   "execution_count": 380,
   "metadata": {},
   "outputs": [],
   "source": []
  },
  {
   "cell_type": "code",
   "execution_count": 381,
   "metadata": {},
   "outputs": [],
   "source": []
  },
  {
   "cell_type": "code",
   "execution_count": 382,
   "metadata": {},
   "outputs": [],
   "source": []
  },
  {
   "cell_type": "code",
   "execution_count": null,
   "metadata": {},
   "outputs": [],
   "source": []
  }
 ],
 "metadata": {
  "interpreter": {
   "hash": "b3ba2566441a7c06988d0923437866b63cedc61552a5af99d1f4fb67d367b25f"
  },
  "kernelspec": {
   "display_name": "Python 3 (ipykernel)",
   "language": "python",
   "name": "python3"
  },
  "language_info": {
   "codemirror_mode": {
    "name": "ipython",
    "version": 3
   },
   "file_extension": ".py",
   "mimetype": "text/x-python",
   "name": "python",
   "nbconvert_exporter": "python",
   "pygments_lexer": "ipython3",
   "version": "3.8.5"
  }
 },
 "nbformat": 4,
 "nbformat_minor": 2
}
