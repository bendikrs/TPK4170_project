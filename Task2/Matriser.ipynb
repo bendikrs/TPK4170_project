{
 "cells": [
  {
   "cell_type": "code",
   "execution_count": 4,
   "metadata": {},
   "outputs": [],
   "source": [
    "import modern_robotics as mr\n",
    "\n",
    "import numpy as np\n",
    "\n",
    "import sympy as sp\n",
    "\n",
    "\n",
    "def exp6(twist, theta):\n",
    "    omega = skew(twist[:3])\n",
    "    v = sp.Matrix(twist[3:])\n",
    "    T = sp.eye(4)\n",
    "    T[:3, :3] = exp3(twist[:3], theta)\n",
    "    T[:3, 3] = (sp.eye(3) * theta + (1 - sp.cos(theta)) * omega +\n",
    "                (theta - sp.sin(theta)) * omega * omega) * v\n",
    "    return T\n",
    "\n",
    "\n",
    "def skew(v):\n",
    "    return sp.Matrix([[0, -v[2], v[1]],\n",
    "                   [v[2], 0, -v[0]],\n",
    "                   [-v[1], v[0], 0]])\n",
    "\n",
    "\n",
    "def exp3(omega, theta):\n",
    "    omega = skew(omega)\n",
    "    R = sp.eye(3) + sp.sin(theta) * omega + (1 - sp.cos(theta)) * omega * omega\n",
    "    return R\n",
    "\n",
    "\n",
    "def Ad(T):\n",
    "    AdT = sp.zeros(6)\n",
    "    R = sp.Matrix(T[:3, :3])\n",
    "    AdT[:3, :3] = R\n",
    "    AdT[3:, 3:] = R\n",
    "    AdT[3:, :3] = skew(T[:3, 3]) * R\n",
    "    return AdT\n"
   ]
  },
  {
   "cell_type": "code",
   "execution_count": 5,
   "metadata": {},
   "outputs": [],
   "source": [
    "\n",
    "M = np.array([[1,  0,  0, 455+420+80],\n",
    "            [0, -1,  0,      0],\n",
    "            [0,  0, -1,     400],\n",
    "            [0,  0,  0,      1]])\n",
    "\n",
    "\n",
    "S_T = np.array([[0, 0, 1,   0,   0,      0],\n",
    "              [0, 1, 0, -400,  0,      0],\n",
    "              [0, 1, 0, -400,  0,     455],\n",
    "              [1, 0, 0,   0,   400,    0],\n",
    "              [0, 1, 0, -400,   0,  420+455],\n",
    "              [1, 0, 0,   0,   400,    0]])\n",
    "\n",
    "\n",
    "\n",
    "theta = np.array([0, 0, 0, 0, 0, 0])\n",
    "\n"
   ]
  },
  {
   "cell_type": "code",
   "execution_count": 6,
   "metadata": {},
   "outputs": [],
   "source": [
    "S = S_T.T\n",
    "\n",
    "\n",
    "T = mr.FKinSpace(M, S, theta)\n",
    "\n",
    "\n",
    "B = mr.Adjoint(T) @ S\n",
    "\n",
    "\n",
    "B_fin = sp.Matrix(B)\n",
    "\n"
   ]
  }
 ],
 "metadata": {
  "interpreter": {
   "hash": "adb03dbe05bd728604349c36e6ae99b0d77b6bcdf6d43d113a7eb51498008920"
  },
  "kernelspec": {
   "display_name": "Python 3.8.11 64-bit ('tpk4170_venv': venv)",
   "name": "python3"
  },
  "language_info": {
   "codemirror_mode": {
    "name": "ipython",
    "version": 3
   },
   "file_extension": ".py",
   "mimetype": "text/x-python",
   "name": "python",
   "nbconvert_exporter": "python",
   "pygments_lexer": "ipython3",
   "version": "3.8.11"
  },
  "orig_nbformat": 4
 },
 "nbformat": 4,
 "nbformat_minor": 2
}
