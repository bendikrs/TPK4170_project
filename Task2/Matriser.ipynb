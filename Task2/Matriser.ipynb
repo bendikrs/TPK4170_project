{
 "cells": [
  {
   "cell_type": "code",
   "execution_count": 32,
   "metadata": {},
   "outputs": [],
   "source": [
    "import modern_robotics as mr\n",
    "\n",
    "import numpy as np\n",
    "\n",
    "import sympy as sp\n",
    "\n",
    "\n",
    "def exp6(twist, theta):\n",
    "    omega = skew(twist[:3])\n",
    "    v = Matrix(twist[3:])\n",
    "    T = eye(4)\n",
    "    T[:3, :3] = exp3(twist[:3], theta)\n",
    "    T[:3, 3] = (eye(3) * theta + (1 - cos(theta)) * omega +\n",
    "                (theta - sin(theta)) * omega * omega) * v\n",
    "    return T\n",
    "\n",
    "\n",
    "def skew(v):\n",
    "    return Matrix([[0, -v[2], v[1]],\n",
    "                   [v[2], 0, -v[0]],\n",
    "                   [-v[1], v[0], 0]])\n",
    "\n",
    "\n",
    "def exp3(omega, theta):\n",
    "    omega = skew(omega)\n",
    "    R = eye(3) + sin(theta) * omega + (1 - cos(theta)) * omega * omega\n",
    "    return R\n",
    "\n",
    "\n",
    "def Ad(T):\n",
    "    AdT = zeros(6)\n",
    "    R = Matrix(T[:3, :3])\n",
    "    AdT[:3, :3] = R\n",
    "    AdT[3:, 3:] = R\n",
    "    AdT[3:, :3] = skew(T[:3, 3]) * R\n",
    "    return AdT\n"
   ]
  },
  {
   "cell_type": "code",
   "execution_count": 18,
   "metadata": {},
   "outputs": [],
   "source": [
    "\n",
    "M = np.array([[1,  0,  0, 455+420+80],\n",
    "            [0, -1,  0,      0],\n",
    "            [0,  0, -1,     400],\n",
    "            [0,  0,  0,      1]])\n",
    "\n",
    "\n",
    "S_T = np.array([[0, 0, 1,   0,   0,      0],\n",
    "              [0, 1, 0, -400,  0,      0],\n",
    "              [0, 1, 0, -400,  0,     455],\n",
    "              [1, 0, 0,   0,   400,    0],\n",
    "              [0, 1, 0, -400,   0,  420+455],\n",
    "              [1, 0, 0,   0,   400,    0]])\n",
    "\n",
    "\n",
    "\n",
    "theta = np.array([0, 0, 0, 0, 0, 0])\n",
    "\n"
   ]
  },
  {
   "cell_type": "code",
   "execution_count": 35,
   "metadata": {},
   "outputs": [
    {
     "data": {
      "text/latex": [
       "$\\displaystyle \\left[\\begin{matrix}0.0 & 0.0 & -1.0 & 0.0 & 955.0 & 0.0\\\\0.0 & -1.0 & 0.0 & 0.0 & 0.0 & -955.0\\\\0.0 & -1.0 & 0.0 & 0.0 & 0.0 & -1410.0\\\\1.0 & 0.0 & 0.0 & 0.0 & 0.0 & 0.0\\\\0.0 & -1.0 & 0.0 & 0.0 & 0.0 & -1830.0\\\\1.0 & 0.0 & 0.0 & 0.0 & 0.0 & 0.0\\end{matrix}\\right]$"
      ],
      "text/plain": [
       "Matrix([\n",
       "[0.0,  0.0, -1.0, 0.0, 955.0,     0.0],\n",
       "[0.0, -1.0,  0.0, 0.0,   0.0,  -955.0],\n",
       "[0.0, -1.0,  0.0, 0.0,   0.0, -1410.0],\n",
       "[1.0,  0.0,  0.0, 0.0,   0.0,     0.0],\n",
       "[0.0, -1.0,  0.0, 0.0,   0.0, -1830.0],\n",
       "[1.0,  0.0,  0.0, 0.0,   0.0,     0.0]])"
      ]
     },
     "execution_count": 35,
     "metadata": {},
     "output_type": "execute_result"
    }
   ],
   "source": [
    "S = S_T.T\n",
    "\n",
    "\n",
    "T = mr.FKinSpace(M, S, theta)\n",
    "\n",
    "\n",
    "B = mr.Adjoint(T) @ S\n",
    "\n",
    "\n",
    "B_fin = sp.Matrix(B)\n",
    "\n"
   ]
  },
  {
   "cell_type": "code",
   "execution_count": null,
   "metadata": {},
   "outputs": [],
   "source": []
  }
 ],
 "metadata": {
  "interpreter": {
   "hash": "c469c999aae2bf6d578d6881606ced546d1546d312a4811937df5b24665ee8bc"
  },
  "kernelspec": {
   "display_name": "Python 3.8.11 64-bit ('base': conda)",
   "name": "python3"
  },
  "language_info": {
   "codemirror_mode": {
    "name": "ipython",
    "version": 3
   },
   "file_extension": ".py",
   "mimetype": "text/x-python",
   "name": "python",
   "nbconvert_exporter": "python",
   "pygments_lexer": "ipython3",
   "version": "3.8.11"
  },
  "orig_nbformat": 4
 },
 "nbformat": 4,
 "nbformat_minor": 2
}
